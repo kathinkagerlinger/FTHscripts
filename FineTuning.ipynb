{
 "cells": [
  {
   "cell_type": "markdown",
   "metadata": {},
   "source": [
    "# Import libaries"
   ]
  },
  {
   "cell_type": "code",
   "execution_count": 16,
   "metadata": {},
   "outputs": [],
   "source": [
    "# import self written libraries. These have to be in the same folder or the parent directory.\n",
    "import sys, os\n",
    "sys.path.append('./library/')\n",
    "import reconstruct as rec\n",
    "import fth_reconstruction as fth\n",
    "import pymaxi as maxi\n",
    "\n",
    "import numpy as np\n",
    "import matplotlib.pyplot as plt\n",
    "\n",
    "#interactive stuff\n",
    "import ipywidgets as widgets\n",
    "from IPython.display import display\n",
    "import ipython_blocking\n",
    "\n",
    "from imp import reload"
   ]
  },
  {
   "cell_type": "code",
   "execution_count": 3,
   "metadata": {},
   "outputs": [],
   "source": [
    "%matplotlib widget"
   ]
  },
  {
   "cell_type": "code",
   "execution_count": 30,
   "metadata": {},
   "outputs": [
    {
     "data": {
      "text/plain": [
       "<module 'reconstruct' from './library\\\\reconstruct.py'>"
      ]
     },
     "execution_count": 30,
     "metadata": {},
     "output_type": "execute_result"
    }
   ],
   "source": [
    "reload(fth)\n",
    "reload(rec)"
   ]
  },
  {
   "cell_type": "markdown",
   "metadata": {},
   "source": [
    "# Load images\n",
    "\n",
    "Input the image numbers, first the positive helicity image followed by the negative helicity image. If you want to do a single helicity reconstruction, then put $\\mathtt{np.nan}$ into the spot, where no image is. Please specify which config file you want to use.\n",
    "\n",
    "You must also specify whether you want to use an autofactor when substracting the images (or the topography when doing a single helicity reconstruction -- recomended!) and which parameters you want to change (propagation, ROI, beamstop). Just set the according values to True/False.\n",
    "\n",
    "Input the file folders for the data, the matlab files and where the results are saved (check, if this is correct, especially when switching from Linux to Windows and vice versa!).\n",
    "\n",
    "**You can execute the integrity of the following code with -> \"Cell\" -> \"Run Cells Below\". Some interaction is needed and the code will stop there and resume when you are finished.**"
   ]
  },
  {
   "cell_type": "code",
   "execution_count": 4,
   "metadata": {},
   "outputs": [],
   "source": [
    "images = np.array([135, np.nan])\n",
    "topo = np.array([131, 130])\n",
    "conf_nr = 131\n",
    "\n",
    "fname = 'FB0027'\n",
    "\n",
    "autoFactor = True\n",
    "propagate = True\n",
    "ROI = False\n",
    "beamstop = False"
   ]
  },
  {
   "cell_type": "code",
   "execution_count": 5,
   "metadata": {},
   "outputs": [],
   "source": [
    "folder  = r'C:\\Users\\gerlinge\\Documents\\Beamtimes\\2020-06_P04\\raw/'\n",
    "conf_folder = r'C:\\Users\\gerlinge\\Documents\\Beamtimes\\2020-06_P04/processed/%s/' %fname"
   ]
  },
  {
   "cell_type": "markdown",
   "metadata": {},
   "source": [
    "Determine whether a double helicity or single helicity (positive or negative) is done\n",
    "\n",
    "Load the images, add them up, shift the center.\n",
    "\n",
    "Returns the shifted hologram, the center coordinates the beamstop diameter and the propagation distance from the config file."
   ]
  },
  {
   "cell_type": "code",
   "execution_count": 33,
   "metadata": {
    "scrolled": true
   },
   "outputs": [
    {
     "name": "stdout",
     "output_type": "stream",
     "text": [
      "Auto factor = 0.47893664040500883\n",
      "Start reconstructing the image using the center and beamstop mask from the Matlab reconstruction.\n",
      "Shifted image by 36 pixels in x and 0 pixels in y.\n",
      "Using beamstop diameter 33 from config file and a sigma of 10.\n",
      "Please use the propagation function to propagate.\n"
     ]
    }
   ],
   "source": [
    "if np.isnan(images[0]):\n",
    "    im = images[1].astype(np.int)\n",
    "    neg = maxi.get_mte(folder + '%s.h5'%fname, im)\n",
    "    pos = None\n",
    "    topo_data = maxi.get_mte(folder + '%s.h5'%fname, topo[0]) + maxi.get_mte(folder + '%s.h5'%fname, topo[1])\n",
    "    hel = False\n",
    "elif np.isnan(images[1]):\n",
    "    im = images[0].astype(np.int)\n",
    "    pos = maxi.get_mte(folder + '%s.h5'%fname, im)\n",
    "    neg = None\n",
    "    topo_data = maxi.get_mte(folder + '%s.h5'%fname, topo[0]) + maxi.get_mte(folder + '%s.h5'%fname, topo[1])\n",
    "else:\n",
    "    image = images.astype(np.int)\n",
    "    neg = maxi.get_mte(folder + '%s.h5'%fname, image[1])\n",
    "    pos = maxi.get_mte(folder + '%s.h5'%fname, image[0])\n",
    "    hel = None\n",
    "    topo_data = None\n",
    "    im = image[0]\n",
    "\n",
    "holo, factor, center, bs_diam, roi, prop_dist, phase = rec.fromParameters(pos, neg, conf_folder + 'P04_0620_%s-%d.hdf'%(fname,conf_nr),\n",
    "                                                                              new_bs=beamstop, old_prop= not(propagate),\n",
    "                                                                              topo = topo_data, auto_factor=autoFactor)"
   ]
  },
  {
   "cell_type": "markdown",
   "metadata": {},
   "source": [
    "# Cosmic Rays"
   ]
  },
  {
   "cell_type": "code",
   "execution_count": 34,
   "metadata": {},
   "outputs": [],
   "source": [
    "# fig, ax = plt.subplots(figsize = (8, 8))\n",
    "# ax.imshow(np.abs(holo)>1000)"
   ]
  },
  {
   "cell_type": "code",
   "execution_count": 35,
   "metadata": {},
   "outputs": [],
   "source": [
    "# holo = remove_two(holo, [1126, 1127], 1888)\n",
    "\n",
    "# holo = fth.remove_cosmic_ray(holo, [290, 642])"
   ]
  },
  {
   "cell_type": "code",
   "execution_count": 36,
   "metadata": {},
   "outputs": [],
   "source": [
    "# holo = np.delete(holo, 68, axis = 1)\n",
    "# holo = np.delete(holo, 0, axis = 0)"
   ]
  },
  {
   "cell_type": "code",
   "execution_count": 37,
   "metadata": {},
   "outputs": [],
   "source": [
    "# holo[1851, 1941:1949] = holo[1852, 1941:1949]\n",
    "# holo[1850, 1951:1960] = holo[1849, 1951:1960]"
   ]
  },
  {
   "cell_type": "markdown",
   "metadata": {},
   "source": [
    "# Beamstop\n",
    "\n",
    "You may change the beamstop diameter in the text widget below the following cell. The default value in the field is the beamstop diameter from the config file.\n",
    "\n",
    "Click on the button when you are finished to resume the execution of the code. "
   ]
  },
  {
   "cell_type": "code",
   "execution_count": 19,
   "metadata": {},
   "outputs": [],
   "source": [
    "if beamstop:\n",
    "    bs_input, bs_button = rec.change_beamstop(bs_diam)"
   ]
  },
  {
   "cell_type": "code",
   "execution_count": 20,
   "metadata": {},
   "outputs": [],
   "source": [
    "if beamstop:    \n",
    "    %block bs_button"
   ]
  },
  {
   "cell_type": "code",
   "execution_count": 21,
   "metadata": {},
   "outputs": [],
   "source": [
    "if beamstop:\n",
    "    bs_diam = bs_input.value\n",
    "    holo = rec.set_beamstop(holo, bs_diam)"
   ]
  },
  {
   "cell_type": "code",
   "execution_count": 22,
   "metadata": {},
   "outputs": [],
   "source": [
    "if np.logical_and(beamstop, not propagate):\n",
    "    holo = fth.propagate(holo, prop_dist*1e-6)"
   ]
  },
  {
   "cell_type": "markdown",
   "metadata": {},
   "source": [
    "# High pass filter\n",
    "\n",
    "Reduces large modulations in the center of the hologram."
   ]
  },
  {
   "cell_type": "code",
   "execution_count": 23,
   "metadata": {},
   "outputs": [
    {
     "data": {
      "application/vnd.jupyter.widget-view+json": {
       "model_id": "4cc85b3e665f4171a2a2884a1014a5fb",
       "version_major": 2,
       "version_minor": 0
      },
      "text/plain": [
       "Canvas(toolbar=Toolbar(toolitems=[('Home', 'Reset original view', 'home', 'home'), ('Back', 'Back to previous …"
      ]
     },
     "metadata": {},
     "output_type": "display_data"
    },
    {
     "data": {
      "application/vnd.jupyter.widget-view+json": {
       "model_id": "ad7dc91b6f9d46b58c1c690f1a06430f",
       "version_major": 2,
       "version_minor": 0
      },
      "text/plain": [
       "interactive(children=(FloatSlider(value=0.5, description='amplitude', layout=Layout(width='90%'), max=1.0, ste…"
      ]
     },
     "metadata": {},
     "output_type": "display_data"
    }
   ],
   "source": [
    "slider_amp, slider_sig = rec.high_pass_filtering(holo)"
   ]
  },
  {
   "cell_type": "code",
   "execution_count": 25,
   "metadata": {},
   "outputs": [],
   "source": [
    "amplitude = slider_amp.value\n",
    "sigma = slider_sig.value"
   ]
  },
  {
   "cell_type": "code",
   "execution_count": 34,
   "metadata": {},
   "outputs": [],
   "source": [
    "holo, _ = fth.highpass(holo, amplitude, sigma)"
   ]
  },
  {
   "cell_type": "markdown",
   "metadata": {},
   "source": [
    "# ROI\n",
    "\n",
    "You may select the reconstruction you want to look at. Do this by zooming into the image and putting in the x and y coordinates of the start and end points of your ROI.\n",
    "\n",
    "Click on the button when you are finished to resume the execution of the code. "
   ]
  },
  {
   "cell_type": "code",
   "execution_count": 10,
   "metadata": {},
   "outputs": [],
   "source": [
    "if ROI:\n",
    "    fig, ax = fth.plot(np.real(fth.reconstruct(holo)), colorbar = False, scale = (2,98))"
   ]
  },
  {
   "cell_type": "code",
   "execution_count": 11,
   "metadata": {},
   "outputs": [],
   "source": [
    "if ROI:\n",
    "    x1, x2 = ax.get_xlim()\n",
    "    y2, y1 = ax.get_ylim()\n",
    "    roi = np.array([fth.integer(x1), fth.integer(x2), fth.integer(y1), fth.integer(y2)]) #xstart, xstop, ystart, ystop"
   ]
  },
  {
   "cell_type": "markdown",
   "metadata": {},
   "source": [
    "# Subpixel centering, propagation, phase\n",
    "\n",
    "Now, the hologram can be propagated. Use the slider \"propagation\" and chose a value for which the image is sharp.\n",
    "\n",
    "Then you need to apply a global phase shift to the image, to get all the information into one part of the complex image (usually the real part).\n",
    "\n",
    "Also to get rid of slight ramps in the reconstruction a subpixel shift can be applied.\n",
    "\n",
    "Do not forget to save the slider values and to apply the subpixel shift."
   ]
  },
  {
   "cell_type": "code",
   "execution_count": 39,
   "metadata": {},
   "outputs": [
    {
     "data": {
      "application/vnd.jupyter.widget-view+json": {
       "model_id": "3a47f9d04aa84a57b1330f8203a612a9",
       "version_major": 2,
       "version_minor": 0
      },
      "text/plain": [
       "Canvas(toolbar=Toolbar(toolitems=[('Home', 'Reset original view', 'home', 'home'), ('Back', 'Back to previous …"
      ]
     },
     "metadata": {},
     "output_type": "display_data"
    },
    {
     "data": {
      "application/vnd.jupyter.widget-view+json": {
       "model_id": "9957431e83804cdaafdcc1f21625f2ec",
       "version_major": 2,
       "version_minor": 0
      },
      "text/plain": [
       "interactive(children=(FloatSlider(value=-3.07, description='propagation[um]', layout=Layout(width='90%'), max=…"
      ]
     },
     "metadata": {},
     "output_type": "display_data"
    }
   ],
   "source": [
    "slider_prop, slider_phase, slider_dx, slider_dy = rec.sub_pixel_centering(holo, roi, phase, prop_dist, ccd_dist=18e-2, energy=779.5, px_size=20e-6)"
   ]
  },
  {
   "cell_type": "code",
   "execution_count": 40,
   "metadata": {},
   "outputs": [],
   "source": [
    "prop_dist=slider_prop.value\n",
    "phase = slider_phase.value\n",
    "dx = slider_dx.value\n",
    "dy = slider_dy.value"
   ]
  },
  {
   "cell_type": "markdown",
   "metadata": {},
   "source": [
    "# Save\n",
    "\n",
    "Save the reconstruction (only the selected ROI) as a numpy array and all the parameters in a config file."
   ]
  },
  {
   "cell_type": "code",
   "execution_count": 28,
   "metadata": {},
   "outputs": [],
   "source": [
    "folder_save = r'C:\\Users\\gerlinge\\Documents\\Projects\\OpticalSK-XFEL_paper1920\\Reconstructions/'\n",
    "\n",
    "if not(os.path.exists(folder_save)):\n",
    "    print(\"Creating folder \" + folder_save)\n",
    "    os.mkdir(folder_save)"
   ]
  },
  {
   "cell_type": "code",
   "execution_count": 43,
   "metadata": {},
   "outputs": [
    {
     "name": "stdout",
     "output_type": "stream",
     "text": [
      "Propagation distance: -3.07um\n"
     ]
    }
   ],
   "source": [
    "if not propagate:\n",
    "    recon = fth.reconstruct(holo*np.exp(1j*phase))[roi[2]:roi[3], roi[0]:roi[1]]\n",
    "    recon = fth.sub_pixel_centering(recon, dx, dy)\n",
    "else:\n",
    "    recon = fth.reconstruct(fth.propagate(holo, prop_dist*1e-6)*np.exp(1j*phase))[roi[2]:roi[3], roi[0]:roi[1]]\n",
    "    recon = fth.sub_pixel_centering(recon, dx, dy)"
   ]
  },
  {
   "cell_type": "code",
   "execution_count": 30,
   "metadata": {},
   "outputs": [],
   "source": [
    "from skimage.draw import circle"
   ]
  },
  {
   "cell_type": "code",
   "execution_count": 31,
   "metadata": {},
   "outputs": [],
   "source": [
    "shape = np.array(recon.shape)\n",
    "center = np.array([80, 81]) # format [x,y]\n",
    "radius = 75\n",
    "\n",
    "mask = np.zeros(shape)\n",
    "yy, xx = circle(center[1], center[0], radius)\n",
    "mask[yy, xx] = 1\n",
    "mask[mask==0] = np.nan"
   ]
  },
  {
   "cell_type": "code",
   "execution_count": 32,
   "metadata": {},
   "outputs": [
    {
     "data": {
      "application/vnd.jupyter.widget-view+json": {
       "model_id": "3b944485ab644177b78ae9b89c689aae",
       "version_major": 2,
       "version_minor": 0
      },
      "text/plain": [
       "Canvas(toolbar=Toolbar(toolitems=[('Home', 'Reset original view', 'home', 'home'), ('Back', 'Back to previous …"
      ]
     },
     "metadata": {},
     "output_type": "display_data"
    }
   ],
   "source": [
    "fig, ax = plt.subplots(frameon = False, figsize = (recon.shape[1] / 40, recon.shape[0] / 40))\n",
    "ax.imshow(np.real(recon) * mask, cmap = 'gray')\n",
    "ax.set_axis_off()\n",
    "# ax.annotate('%s-%d'%(fname, im), (.02, .95), xycoords = 'axes fraction', bbox = {'alpha': .5, 'ec': None, 'fc': 'w', 'lw': None})\n",
    "plt.savefig(folder_save + 'P04_0620_%s-%d.png'%(fname,im), bbox_inches='tight', dpi = 300)"
   ]
  },
  {
   "cell_type": "code",
   "execution_count": 20,
   "metadata": {},
   "outputs": [],
   "source": [
    "rec.save_parameters(folder_save + 'P04_0620_%s-%d.hdf'%(fname,im), recon, factor, center, bs_diam, prop_dist, phase, roi, images,\n",
    "                     comment = 'reconstruction KG ', topo = topo)"
   ]
  },
  {
   "cell_type": "code",
   "execution_count": 21,
   "metadata": {},
   "outputs": [],
   "source": [
    "plt.close('all')"
   ]
  },
  {
   "cell_type": "code",
   "execution_count": null,
   "metadata": {},
   "outputs": [],
   "source": []
  }
 ],
 "metadata": {
  "kernelspec": {
   "display_name": "Python 3",
   "language": "python",
   "name": "python3"
  },
  "language_info": {
   "codemirror_mode": {
    "name": "ipython",
    "version": 3
   },
   "file_extension": ".py",
   "mimetype": "text/x-python",
   "name": "python",
   "nbconvert_exporter": "python",
   "pygments_lexer": "ipython3",
   "version": "3.7.4"
  },
  "toc": {
   "base_numbering": 1,
   "nav_menu": {},
   "number_sections": true,
   "sideBar": true,
   "skip_h1_title": false,
   "title_cell": "Table of Contents",
   "title_sidebar": "Contents",
   "toc_cell": false,
   "toc_position": {
    "height": "calc(100% - 180px)",
    "left": "10px",
    "top": "150px",
    "width": "318.6px"
   },
   "toc_section_display": true,
   "toc_window_display": true
  },
  "varInspector": {
   "cols": {
    "lenName": 16,
    "lenType": 16,
    "lenVar": 40
   },
   "kernels_config": {
    "python": {
     "delete_cmd_postfix": "",
     "delete_cmd_prefix": "del ",
     "library": "var_list.py",
     "varRefreshCmd": "print(var_dic_list())"
    },
    "r": {
     "delete_cmd_postfix": ") ",
     "delete_cmd_prefix": "rm(",
     "library": "var_list.r",
     "varRefreshCmd": "cat(var_dic_list()) "
    }
   },
   "oldHeight": 604.844,
   "position": {
    "height": "40px",
    "left": "1279px",
    "right": "20px",
    "top": "80px",
    "width": "548px"
   },
   "types_to_exclude": [
    "module",
    "function",
    "builtin_function_or_method",
    "instance",
    "_Feature"
   ],
   "varInspector_section_display": "none",
   "window_display": true
  }
 },
 "nbformat": 4,
 "nbformat_minor": 4
}
