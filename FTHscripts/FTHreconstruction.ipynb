{
 "cells": [
  {
   "cell_type": "markdown",
   "metadata": {},
   "source": [
    "This is a template to reconstruct holography images."
   ]
  },
  {
   "cell_type": "markdown",
   "metadata": {},
   "source": [
    "# Import libraries\n",
    "\n",
    "Start by importing standard python libraries and the self written libraries $\\mathtt{fth-reconstruction.py}$, $\\mathtt{reconstruct.py}$ and $\\mathtt{cameras.py}$. They have to be in the same folder or the parent directory."
   ]
  },
  {
   "cell_type": "code",
   "execution_count": 1,
   "metadata": {},
   "outputs": [],
   "source": [
    "import numpy as np\n",
    "import matplotlib.pyplot as plt\n",
    "import pandas as pd\n",
    "\n",
    "# import self written libraries. These have to be in the same folder or the parent directory.\n",
    "import sys, os\n",
    "sys.path.append('./library/')\n",
    "import fth_reconstruction as fth\n",
    "from cameras import load_greateyes, load_spe\n",
    "import reconstruct as reco\n",
    "import pymaxp04 as maxi\n",
    "\n",
    "from scipy import stats\n",
    "from copy import deepcopy"
   ]
  },
  {
   "cell_type": "code",
   "execution_count": 2,
   "metadata": {},
   "outputs": [],
   "source": [
    "# interactive plotting\n",
    "%matplotlib widget"
   ]
  },
  {
   "cell_type": "markdown",
   "metadata": {},
   "source": [
    "# Load images \n",
    "\n",
    "Start by loading the images. \n",
    "1. Specify the directory of the data and the number of the positive and negative helicity image.\n",
    "2. Load the data.\n",
    "3. Create the difference hologram by subtracting the topography image (pos + neg) from the positive image. Set the auto_factor to *True*, otherwise the default factor of 0.5 will be used."
   ]
  },
  {
   "cell_type": "code",
   "execution_count": 3,
   "metadata": {},
   "outputs": [],
   "source": [
    "experimental_setup = {'ccd_dist': 18e-2, 'energy': 779.5, 'px_size' : 20e-6}\n",
    "\n",
    "INSTRUMENT_KEYS = {\n",
    "    'mono': 'scan/instrument/mono/energy',\n",
    "    'undu_shift': 'scan/instrument/undulator/collection/shift',\n",
    "    'ringcurrent': 'scan/instrument/petra_iii/current',\n",
    "    'exitslit': 'scan/instrument/exit_slit/slit/y_gap'\n",
    "    }"
   ]
  },
  {
   "cell_type": "code",
   "execution_count": 4,
   "metadata": {},
   "outputs": [],
   "source": [
    "folder = '/home/mschndr/MaxP04_2103_commissioning/raw/'\n",
    "fname = 'test_%05d.nxs'\n",
    "p = 148\n",
    "n = 148"
   ]
  },
  {
   "cell_type": "code",
   "execution_count": 5,
   "metadata": {},
   "outputs": [
    {
     "name": "stdout",
     "output_type": "stream",
     "text": [
      "Loaded files.\n"
     ]
    }
   ],
   "source": [
    "try:\n",
    "    tmp = maxi.load_scanfile(folder + fname%p, INSTRUMENT_KEYS)\n",
    "    if tmp.undu_shift > 0:\n",
    "        pos = deepcopy(tmp)\n",
    "        neg = maxi.load_scanfile(folder + fname%n, INSTRUMENT_KEYS)\n",
    "    else:\n",
    "        neg = deepcopy(tmp)\n",
    "        pos = maxi.load_scanfile(folder + fname%n, INSTRUMENT_KEYS)\n",
    "    print('Loaded files.')\n",
    "except:\n",
    "    print('Wait for file and retry.')"
   ]
  },
  {
   "cell_type": "code",
   "execution_count": 104,
   "metadata": {},
   "outputs": [],
   "source": [
    "pos=np.array(pos[\"ccd\"][0])\n",
    "neg=np.array(neg[\"ccd\"][0])"
   ]
  },
  {
   "cell_type": "code",
   "execution_count": 105,
   "metadata": {},
   "outputs": [
    {
     "data": {
      "text/plain": [
       "(1555.6332416534424, 1555.6332416534424)"
      ]
     },
     "execution_count": 105,
     "metadata": {},
     "output_type": "execute_result"
    }
   ],
   "source": [
    "np.average(pos), np.average(neg)"
   ]
  },
  {
   "cell_type": "code",
   "execution_count": 119,
   "metadata": {},
   "outputs": [
    {
     "name": "stdout",
     "output_type": "stream",
     "text": [
      "neg=0.000 + 1.000*pos\n"
     ]
    }
   ],
   "source": [
    "pos2, neg2, intercept, slope=fth.load_both(pos,neg, auto_factor=True)\n",
    "holo=pos2-neg2"
   ]
  },
  {
   "cell_type": "markdown",
   "metadata": {},
   "source": [
    "# Reconstruct\n",
    "\n",
    "Reconstruct the hologramm.\n",
    "1. Center the hologram.\n",
    "2. Mask the beamstop.\n",
    "3. Check for corsmic rays and camera defects and mask them.\n",
    "4. Chose a region of interest (ROI).\n",
    "5. Propagate the image and shift the phase for maximal contrast and sharpness in your ROI.\n",
    "\n",
    "## Set center\n",
    "\n",
    "Your hologramm is nor necessarily centered on the camera. Here you can determine the pixel coordinates of the center of the hologram and shift ist to the center of the camera image.\n",
    "\n",
    "1. The image is plotted. Use the interactive plotting *zoom* tool (second from the right) to zoom into the image. Get the ring of the hologram centered in your field of view. You can shift the image with the *pan* tool right of *zoom*. You can use the arrows to get to the previous/next view. The *home* button (left) resets the view.\n",
    "2. The limit of your FOV is read from the axes of the image. From this, the center of the hologram is determined.\n",
    "3. Shift the hologram to the center.\n",
    "4. The centered hologram and the original hologram are plotted next to each other to check if the centering was done correctly."
   ]
  },
  {
   "cell_type": "code",
   "execution_count": 120,
   "metadata": {},
   "outputs": [
    {
     "data": {
      "application/vnd.jupyter.widget-view+json": {
       "model_id": "b3c66c61d434410c802b180871f91b72",
       "version_major": 2,
       "version_minor": 0
      },
      "text/plain": [
       "Canvas(toolbar=Toolbar(toolitems=[('Home', 'Reset original view', 'home', 'home'), ('Back', 'Back to previous …"
      ]
     },
     "metadata": {},
     "output_type": "display_data"
    },
    {
     "data": {
      "text/plain": [
       "<matplotlib.image.AxesImage at 0x2ab5848ebf28>"
      ]
     },
     "execution_count": 120,
     "metadata": {},
     "output_type": "execute_result"
    }
   ],
   "source": [
    "mi, ma = np.percentile(np.real(pos2), (.01,99.99))\n",
    "\n",
    "fig, ax = plt.subplots()\n",
    "ax.imshow(np.real(pos2), cmap = 'gray', vmin = mi, vmax = ma)"
   ]
  },
  {
   "cell_type": "code",
   "execution_count": 108,
   "metadata": {},
   "outputs": [],
   "source": [
    "x1, x2 = ax.get_xlim()\n",
    "y2, y1 = ax.get_ylim()\n",
    "\n",
    "center = [fth.integer(y1 + (y2 - y1)/2), fth.integer(x1 + (x2 - x1)/2)]"
   ]
  },
  {
   "cell_type": "code",
   "execution_count": 109,
   "metadata": {},
   "outputs": [],
   "source": [
    "center = np.array([1063, 1051])"
   ]
  },
  {
   "cell_type": "code",
   "execution_count": 121,
   "metadata": {},
   "outputs": [
    {
     "name": "stdout",
     "output_type": "stream",
     "text": [
      "Shifted image by -27 pixels in x and -39 pixels in y.\n",
      "Shifted image by -27 pixels in x and -39 pixels in y.\n",
      "Shifted image by -27 pixels in x and -39 pixels in y.\n"
     ]
    }
   ],
   "source": [
    "holo_c = fth.set_center(holo, center)\n",
    "pos_c = fth.set_center(pos2, center)\n",
    "neg_c = fth.set_center(neg2, center)"
   ]
  },
  {
   "cell_type": "code",
   "execution_count": 122,
   "metadata": {},
   "outputs": [
    {
     "data": {
      "application/vnd.jupyter.widget-view+json": {
       "model_id": "448220b54c8641258e96bc8051106248",
       "version_major": 2,
       "version_minor": 0
      },
      "text/plain": [
       "Canvas(toolbar=Toolbar(toolitems=[('Home', 'Reset original view', 'home', 'home'), ('Back', 'Back to previous …"
      ]
     },
     "metadata": {},
     "output_type": "display_data"
    }
   ],
   "source": [
    "fig, ax = plt.subplots(1,2, figsize = (8, 5))\n",
    "ax[0].imshow(np.real(holo), cmap = 'gray')\n",
    "ax[0].set_axis_off()\n",
    "ax[1].imshow(np.real(holo_c), cmap = 'gray')\n",
    "ax[1].set_axis_off()"
   ]
  },
  {
   "cell_type": "markdown",
   "metadata": {},
   "source": [
    "## Mask beamstop\n",
    "\n",
    "Now the beamstop is masked. A circular mask is drawn with a vertain diameter and its edges are smoothed with a gauss filter.\n",
    "1. Set the diameter in pixels. You can determine this by zooming into the hologram and checking the diameter of the beamstop in the hologram. Make it larger than the physical beamstop in the image so the smoothing works well.\n",
    "2. The function $\\mathtt{mask-beamstop(image, bs-size, sigma=10, center = None)}$ returns the masked hologram. you can set the sigma of the Gauss filter (10 is default). You can give it a center for the beamstop mask, but since you already centered the hologram, this is not necessary.\n",
    "3. Plot the masked hologram to check that the beamstop is properly masked."
   ]
  },
  {
   "cell_type": "code",
   "execution_count": 123,
   "metadata": {},
   "outputs": [],
   "source": [
    "bs_diam = 33"
   ]
  },
  {
   "cell_type": "code",
   "execution_count": 124,
   "metadata": {},
   "outputs": [],
   "source": [
    "holo_b = fth.mask_beamstop(holo_c, bs_diam)\n",
    "pos_b = fth.mask_beamstop(pos_c, bs_diam)\n",
    "neg_b = fth.mask_beamstop(neg_c, bs_diam)"
   ]
  },
  {
   "cell_type": "code",
   "execution_count": 125,
   "metadata": {},
   "outputs": [
    {
     "data": {
      "application/vnd.jupyter.widget-view+json": {
       "model_id": "abf8d912f91a4d4681426a96fa0bc696",
       "version_major": 2,
       "version_minor": 0
      },
      "text/plain": [
       "Canvas(toolbar=Toolbar(toolitems=[('Home', 'Reset original view', 'home', 'home'), ('Back', 'Back to previous …"
      ]
     },
     "metadata": {},
     "output_type": "display_data"
    }
   ],
   "source": [
    "fig, ax = plt.subplots()\n",
    "ax.imshow(np.real(holo_b), cmap = 'gray')\n",
    "ax.set_axis_off()"
   ]
  },
  {
   "cell_type": "markdown",
   "metadata": {},
   "source": [
    "## Remove Cosmic Rays\n",
    "\n",
    "Cosmic rays are recorded as singular pixels with a very high count rate. Camera defects are also single or multiple pixels of high count rate. \n",
    "\n",
    "If they occur quite outside of center, they will be accounted for in the reconstruction and give high frequency modulations.\n",
    "1. Look at the all the pixels in the masked hologram $>1000$.\n",
    "2. Delete whole rows if necessary. Replace agglomerations of high pixels by values somewhere close.\n",
    "3. Remove cosmic rays via the function $\\mathtt{remove-cosmic-ray(holo, coordinates)}$. This function will replace the pixel of a single cosmic ray by the mean of its neighbors. If the cosmic ray extends on two pixels, use $\\mathtt{remove-two(holo, x_coord, y_coord)}$ where one of the two coordinate variables should have a dimension of two.\n"
   ]
  },
  {
   "cell_type": "code",
   "execution_count": 126,
   "metadata": {},
   "outputs": [],
   "source": [
    "# fig, ax = plt.subplots(figsize = (8, 8))\n",
    "# ax.imshow(np.abs(holo_b)>1000)"
   ]
  },
  {
   "cell_type": "code",
   "execution_count": 127,
   "metadata": {},
   "outputs": [],
   "source": [
    "# holo_b = np.delete(holo_b, 50, axis = 1)\n",
    "# holo_b = np.delete(holo_b, 0, axis = 0)\n",
    "# holo_b.shape"
   ]
  },
  {
   "cell_type": "code",
   "execution_count": 128,
   "metadata": {},
   "outputs": [],
   "source": [
    "# holo_b = fth.remove_cosmic_ray(holo_b, [, 822])\n",
    "# holo_b = fth.remove_cosmic_ray(holo_b, [860, 935])"
   ]
  },
  {
   "cell_type": "markdown",
   "metadata": {},
   "source": [
    "## Set ROI\n",
    "\n",
    "Set a region of interest, i.e., chose which image you want to optimize.\n",
    "\n",
    "This is done much in the same way as the center is set:\n",
    "1. Zoom into the image and adjust your FOV until you are satisfied.\n",
    "2. Save the axes coordinates."
   ]
  },
  {
   "cell_type": "code",
   "execution_count": 129,
   "metadata": {},
   "outputs": [
    {
     "data": {
      "application/vnd.jupyter.widget-view+json": {
       "model_id": "70ad7341a3c54d5daf84f15fb5b662d1",
       "version_major": 2,
       "version_minor": 0
      },
      "text/plain": [
       "Canvas(toolbar=Toolbar(toolitems=[('Home', 'Reset original view', 'home', 'home'), ('Back', 'Back to previous …"
      ]
     },
     "metadata": {},
     "output_type": "display_data"
    }
   ],
   "source": [
    "fig, ax = fth.plot(np.real(fth.reconstruct(holo_b)), colorbar = False)"
   ]
  },
  {
   "cell_type": "code",
   "execution_count": 130,
   "metadata": {},
   "outputs": [],
   "source": [
    "x1, x2 = ax.get_xlim()\n",
    "y2, y1 = ax.get_ylim()\n",
    "roi_array = np.array([fth.integer(x1), fth.integer(x2), fth.integer(y1), fth.integer(y2)]) #xstart, xstop, ystart, ystop\n",
    "roi = np.s_[roi_array[2]: roi_array[3], roi_array[0]: roi_array[1]]"
   ]
  },
  {
   "cell_type": "code",
   "execution_count": 73,
   "metadata": {},
   "outputs": [],
   "source": [
    "roi_array = np.array([ 674,  850, 1121, 1292])\n",
    "roi=np.s_[1121: 1292, 674:  850]"
   ]
  },
  {
   "cell_type": "markdown",
   "metadata": {},
   "source": [
    "## Propagate and Phase Shift\n",
    "\n",
    "Propagte your FOV and shift the phase to have all magnetic signal in the real image. This is done via ipython widget sliders (https://ipywidgets.readthedocs.io/en/latest/)."
   ]
  },
  {
   "cell_type": "code",
   "execution_count": 131,
   "metadata": {},
   "outputs": [
    {
     "data": {
      "application/vnd.jupyter.widget-view+json": {
       "model_id": "72aa3e940af34eec9ffcb16a4adf78ca",
       "version_major": 2,
       "version_minor": 0
      },
      "text/plain": [
       "Canvas(toolbar=Toolbar(toolitems=[('Home', 'Reset original view', 'home', 'home'), ('Back', 'Back to previous …"
      ]
     },
     "metadata": {},
     "output_type": "display_data"
    },
    {
     "data": {
      "application/vnd.jupyter.widget-view+json": {
       "model_id": "ea1854e177124dc7bbc6dc91fe60c78c",
       "version_major": 2,
       "version_minor": 0
      },
      "text/plain": [
       "interactive(children=(FloatSlider(value=0.0, description='propagation[um]', layout=Layout(width='90%'), max=0.…"
      ]
     },
     "metadata": {},
     "output_type": "display_data"
    }
   ],
   "source": [
    "mode=\"+\"\n",
    "slider_prop,slider_phase, slider_dx, slider_dy = reco.focus(pos_b, pos_b, roi, experimental_setup=experimental_setup, operation=mode, max_prop_dist=0.7)\n",
    "#slider_prop, slider_phase, button = reco.propagate(holo_b, roi, experimental_setup = experimental_setup)"
   ]
  },
  {
   "cell_type": "code",
   "execution_count": 132,
   "metadata": {},
   "outputs": [],
   "source": [
    "prop_dist=slider_prop.value\n",
    "phase = slider_phase.value\n",
    "dx=slider_dx.value\n",
    "dy=slider_dy.value"
   ]
  },
  {
   "cell_type": "markdown",
   "metadata": {},
   "source": [
    "# Save Reconstruction Data\n",
    "\n",
    "Save the reconstructed data in a hdf5 file."
   ]
  },
  {
   "cell_type": "code",
   "execution_count": 133,
   "metadata": {},
   "outputs": [
    {
     "name": "stdout",
     "output_type": "stream",
     "text": [
      "\u001b[0m\u001b[01;34m148\u001b[0m/\n"
     ]
    }
   ],
   "source": [
    "ls './processed/'"
   ]
  },
  {
   "cell_type": "code",
   "execution_count": 134,
   "metadata": {},
   "outputs": [],
   "source": [
    "folder_save = './processed/%i/'%p\n",
    "\n",
    "if not(os.path.exists(folder_save)):\n",
    "    print(\"Creating folder \" + folder_save)\n",
    "    os.mkdir(folder_save)"
   ]
  },
  {
   "cell_type": "code",
   "execution_count": 138,
   "metadata": {},
   "outputs": [],
   "source": [
    "recon = fth.reconstruct(fth.propagate(pos_b-neg_b, prop_dist*1e-6, experimental_setup = experimental_setup)*np.exp(1j*phase))\n",
    "recon = fth.sub_pixel_centering(recon, dx, dy)[roi]"
   ]
  },
  {
   "cell_type": "code",
   "execution_count": 139,
   "metadata": {},
   "outputs": [
    {
     "data": {
      "application/vnd.jupyter.widget-view+json": {
       "model_id": "c4b317dcd0f24049abf7721f6c4cee31",
       "version_major": 2,
       "version_minor": 0
      },
      "text/plain": [
       "Canvas(toolbar=Toolbar(toolitems=[('Home', 'Reset original view', 'home', 'home'), ('Back', 'Back to previous …"
      ]
     },
     "metadata": {},
     "output_type": "display_data"
    }
   ],
   "source": [
    "fig, ax = plt.subplots(frameon = False, figsize = (recon.shape[1] / 40, recon.shape[0] / 40))\n",
    "ax.imshow(np.real(recon), cmap = 'gray')\n",
    "ax.set_axis_off()\n",
    "ax.annotate('%04d'%p, (.015, .95), xycoords = 'axes fraction', bbox = {'alpha': .5, 'ec': None, 'fc': 'w', 'lw': None})\n",
    "plt.savefig(folder_save + 'PETRA_P04_0620_%04d.png'%p, bbox_inches='tight')"
   ]
  },
  {
   "cell_type": "code",
   "execution_count": 140,
   "metadata": {},
   "outputs": [],
   "source": [
    "reco.save_parameters(folder_save + 'P04_0620_%04d.hdf'%p, recon, intercept, slope , center, bs_diam, prop_dist, phase, dx,dy, roi_array, [p, n],\n",
    "                     comment = 'beamtime reconstruction', topo = None)"
   ]
  },
  {
   "cell_type": "code",
   "execution_count": null,
   "metadata": {},
   "outputs": [],
   "source": []
  },
  {
   "cell_type": "code",
   "execution_count": null,
   "metadata": {},
   "outputs": [],
   "source": []
  }
 ],
 "metadata": {
  "kernelspec": {
   "display_name": "Python 3",
   "language": "python",
   "name": "python3"
  },
  "language_info": {
   "codemirror_mode": {
    "name": "ipython",
    "version": 3
   },
   "file_extension": ".py",
   "mimetype": "text/x-python",
   "name": "python",
   "nbconvert_exporter": "python",
   "pygments_lexer": "ipython3",
   "version": "3.6.7"
  },
  "toc": {
   "base_numbering": 1,
   "nav_menu": {},
   "number_sections": true,
   "sideBar": true,
   "skip_h1_title": false,
   "title_cell": "Table of Contents",
   "title_sidebar": "Contents",
   "toc_cell": false,
   "toc_position": {
    "height": "calc(100% - 180px)",
    "left": "10px",
    "top": "150px",
    "width": "370px"
   },
   "toc_section_display": true,
   "toc_window_display": true
  },
  "varInspector": {
   "cols": {
    "lenName": 16,
    "lenType": 16,
    "lenVar": 40
   },
   "kernels_config": {
    "python": {
     "delete_cmd_postfix": "",
     "delete_cmd_prefix": "del ",
     "library": "var_list.py",
     "varRefreshCmd": "print(var_dic_list())"
    },
    "r": {
     "delete_cmd_postfix": ") ",
     "delete_cmd_prefix": "rm(",
     "library": "var_list.r",
     "varRefreshCmd": "cat(var_dic_list()) "
    }
   },
   "oldHeight": 575.85,
   "position": {
    "height": "40px",
    "left": "1475px",
    "right": "20px",
    "top": "82px",
    "width": "321px"
   },
   "types_to_exclude": [
    "module",
    "function",
    "builtin_function_or_method",
    "instance",
    "_Feature"
   ],
   "varInspector_section_display": "none",
   "window_display": true
  },
  "widgets": {
   "application/vnd.jupyter.widget-state+json": {
    "state": {},
    "version_major": 2,
    "version_minor": 0
   }
  }
 },
 "nbformat": 4,
 "nbformat_minor": 4
}
