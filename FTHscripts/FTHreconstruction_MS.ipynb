{
 "cells": [
  {
   "cell_type": "markdown",
   "metadata": {},
   "source": [
    "This is a template to reconstruct holography images."
   ]
  },
  {
   "cell_type": "code",
   "execution_count": null,
   "metadata": {},
   "outputs": [],
   "source": []
  },
  {
   "cell_type": "markdown",
   "metadata": {},
   "source": [
    "# Import libraries\n",
    "\n",
    "Start by importing standard python libraries and the self written libraries $\\mathtt{fth-reconstruction.py}$, $\\mathtt{reconstruct.py}$ and $\\mathtt{cameras.py}$. They have to be in the same folder or the parent directory."
   ]
  },
  {
   "cell_type": "code",
   "execution_count": 1,
   "metadata": {},
   "outputs": [],
   "source": [
    "import numpy as np\n",
    "import matplotlib.pyplot as plt\n",
    "import pandas as pd\n",
    "import xarray as xr\n",
    "import h5py\n",
    "\n",
    "# import self written libraries. These have to be in the same folder or the parent directory.\n",
    "import sys, os\n",
    "sys.path.append('./library/')\n",
    "import fth_reconstruction as fth\n",
    "import reconstruct as reco\n",
    "import matplotlib as mpl\n",
    "import ipywidgets as widgets"
   ]
  },
  {
   "cell_type": "code",
   "execution_count": 2,
   "metadata": {},
   "outputs": [],
   "source": [
    "# interactive plotting\n",
    "%matplotlib widget"
   ]
  },
  {
   "cell_type": "markdown",
   "metadata": {},
   "source": [
    "# Load images \n",
    "\n",
    "Start by loading the images. \n",
    "1. Specify the directory of the data and the number of the positive and negative helicity image.\n",
    "2. Load the data.\n",
    "3. Create the difference hologram by subtracting the topography image (pos + neg) from the positive image. Set the auto_factor to *True*, otherwise the default factor of 0.5 will be used."
   ]
  },
  {
   "cell_type": "code",
   "execution_count": 3,
   "metadata": {},
   "outputs": [],
   "source": [
    "INSTRUMENT_KEYS = {\n",
    "    'mono': 'scan/instrument/mono/energy',\n",
    "    'undu_shift': 'scan/instrument/undulator/collection/shift',\n",
    "    'ringcurrent': 'scan/instrument/petra_iii/current',\n",
    "    'exitslit': 'scan/instrument/exit_slit/slit/y_gap'\n",
    "    }\n",
    "\n",
    "\n",
    "def load_scanfile(fname):\n",
    "    scandata = xr.Dataset()\n",
    "    dimcount = 0\n",
    "    with h5py.File(fname, 'r') as f:\n",
    "        for k in f['scan/data'].keys():\n",
    "            data = f['scan/data/' + k][()]\n",
    "            dims = ['index']\n",
    "            ndim = len(data.shape)\n",
    "            for i in range(ndim - 1):\n",
    "                dims.append(f'dim_{dimcount}')\n",
    "                dimcount += 1\n",
    "            scandata[k] = (dims, data)\n",
    "        for k, v in INTRUMENT_KEYS.items():\n",
    "            scandata[k] = ('instrument', f[v][()])\n",
    "    return scandata\n",
    "\n"
   ]
  },
  {
   "cell_type": "code",
   "execution_count": 4,
   "metadata": {},
   "outputs": [],
   "source": [
    "experimental_setup = {'ccd_dist': 18e-2, 'energy': 779.5, 'px_size' : 13.5e-6}"
   ]
  },
  {
   "cell_type": "code",
   "execution_count": 8,
   "metadata": {},
   "outputs": [
    {
     "name": "stdout",
     "output_type": "stream",
     "text": [
      "comm_00001.h5              test_00073.fio  test_00102.nxs  test_00134.fio\n",
      "comm_00002.h5              test_00073.nxs  test_00103.fio  test_00134.nxs\n",
      "comm_00003.h5              test_00074.fio  test_00103.nxs  test_00135.fio\n",
      "comm_00004.h5              test_00074.nxs  test_00104.fio  test_00135.nxs\n",
      "comm_00005.h5              test_00075.fio  test_00104.nxs  test_00136.fio\n",
      "comm_00006.h5              test_00075.nxs  test_00105.fio  test_00136.nxs\n",
      "comm_00007.h5              test_00076.fio  test_00105.nxs  test_00137.fio\n",
      "comm_00008.h5              test_00076.nxs  test_00106.fio  test_00137.nxs\n",
      "commissioning_01_00001.h5  test_00077.fio  test_00106.nxs  test_00138.fio\n",
      "test_00001.h5              test_00077.nxs  test_00107.fio  test_00138.nxs\n",
      "test_00002.h5              test_00078.fio  test_00107.nxs  test_00139.fio\n",
      "test_00048.fio             test_00078.nxs  test_00108.fio  test_00139.nxs\n",
      "test_00048.nxs             test_00079.fio  test_00108.nxs  test_00140.fio\n",
      "test_00049.fio             test_00079.nxs  test_00109.fio  test_00141.fio\n",
      "test_00049.nxs             test_00080.fio  test_00109.nxs  test_00141.nxs\n",
      "test_00050.fio             test_00080.nxs  test_00110.fio  test_00142.fio\n",
      "test_00050.nxs             test_00081.fio  test_00110.nxs  test_00143.fio\n",
      "test_00052.fio             test_00081.nxs  test_00111.fio  test_00144.fio\n",
      "test_00052.nxs             test_00082.fio  test_00111.nxs  test_00145.fio\n",
      "test_00053.fio             test_00082.nxs  test_00112.fio  test_00146.fio\n",
      "test_00053.nxs             test_00083.fio  test_00112.nxs  test_00146.nxs\n",
      "test_00054.fio             test_00083.nxs  test_00113.fio  test_00147.fio\n",
      "test_00054.nxs             test_00084.fio  test_00113.nxs  test_00148.fio\n",
      "test_00055.fio             test_00084.nxs  test_00114.fio  test_00148.nxs\n",
      "test_00055.nxs             test_00085.fio  test_00114.nxs  test_00149.fio\n",
      "test_00056.fio             test_00085.nxs  test_00115.fio  test_00150.fio\n",
      "test_00056.nxs             test_00086.fio  test_00115.nxs  test_00150.nxs\n",
      "test_00057.fio             test_00086.nxs  test_00116.fio  test_00151.fio\n",
      "test_00057.nxs             test_00087.fio  test_00116.nxs  test_00152.fio\n",
      "test_00058.fio             test_00087.nxs  test_00117.fio  test_00153.fio\n",
      "test_00058.nxs             test_00088.fio  test_00117.nxs  test_00154.fio\n",
      "test_00059.fio             test_00088.nxs  test_00118.fio  test_00155.fio\n",
      "test_00059.nxs             test_00089.fio  test_00118.nxs  test_00156.fio\n",
      "test_00060.fio             test_00089.nxs  test_00119.fio  test_00157.fio\n",
      "test_00060.nxs             test_00090.fio  test_00119.nxs  test_00157.nxs\n",
      "test_00061.fio             test_00090.nxs  test_00120.fio  test_00158.fio\n",
      "test_00061.nxs             test_00091.fio  test_00120.nxs  test_00158.nxs\n",
      "test_00062.fio             test_00091.nxs  test_00121.fio  test_00159.fio\n",
      "test_00062.nxs             test_00092.fio  test_00121.nxs  test_00159.nxs\n",
      "test_00063.fio             test_00092.nxs  test_00122.fio  test_00160.fio\n",
      "test_00063.nxs             test_00093.fio  test_00122.nxs  test_00160.nxs\n",
      "test_00064.fio             test_00093.nxs  test_00123.fio  test_00161.fio\n",
      "test_00064.nxs             test_00094.fio  test_00123.nxs  test_00161.nxs\n",
      "test_00065.fio             test_00094.nxs  test_00124.fio  test_00162.fio\n",
      "test_00065.nxs             test_00095.fio  test_00124.nxs  test_00162.nxs\n",
      "test_00066.fio             test_00095.nxs  test_00125.fio  test_00163.fio\n",
      "test_00066.nxs             test_00096.fio  test_00126.fio  test_00164.fio\n",
      "test_00067.fio             test_00096.nxs  test_00127.fio  tst_00006.fio\n",
      "test_00067.nxs             test_00097.fio  test_00128.fio  tst_00006.nxs\n",
      "test_00068.fio             test_00097.nxs  test_00129.fio  tst_00007.fio\n",
      "test_00068.nxs             test_00098.fio  test_00129.nxs  tst_00007.nxs\n",
      "test_00069.fio             test_00098.nxs  test_00130.fio  tst_00008.fio\n",
      "test_00069.nxs             test_00099.fio  test_00130.nxs  tst_00008.nxs\n",
      "test_00070.fio             test_00099.nxs  test_00131.fio  tst_00009.fio\n",
      "test_00070.nxs             test_00100.fio  test_00131.nxs  tst_00009.nxs\n",
      "test_00071.fio             test_00100.nxs  test_00132.fio  tst_00010.fio\n",
      "test_00071.nxs             test_00101.fio  test_00132.nxs  tst_00010.nxs\n",
      "test_00072.fio             test_00101.nxs  test_00133.fio\n",
      "test_00072.nxs             test_00102.fio  test_00133.nxs\n"
     ]
    }
   ],
   "source": [
    "ls '/home/mschndr/MaxP04_2103_commissioning/raw/'"
   ]
  },
  {
   "cell_type": "code",
   "execution_count": 12,
   "metadata": {},
   "outputs": [],
   "source": [
    "folder = '/home/mschndr/MaxP04_2103_commissioning/raw/'\n",
    "fname = 'test_%05d.nxs'\n",
    "\n",
    "d1 = load_scanfile(folder + fname % 148)\n",
    "d2 = load_scanfile(folder + fname % 150)"
   ]
  },
  {
   "cell_type": "code",
   "execution_count": 6,
   "metadata": {},
   "outputs": [],
   "source": [
    "d1 = load_scanfile(folder + fname % 145)\n",
    "d2 = load_scanfile(folder + fname % 147)\n",
    "\n",
    "pos = d1.ccd.sum('index').values\n",
    "neg = d2.ccd.sum('index').values"
   ]
  },
  {
   "cell_type": "code",
   "execution_count": 27,
   "metadata": {},
   "outputs": [],
   "source": [
    "holo_sum = pos + neg\n",
    "holo_sum -= np.percentile(holo_sum, 1)\n",
    "holo_diff = pos - neg"
   ]
  },
  {
   "cell_type": "code",
   "execution_count": 50,
   "metadata": {},
   "outputs": [
    {
     "data": {
      "application/vnd.jupyter.widget-view+json": {
       "model_id": "9c16365ff5ca4b249266c0447fd80002",
       "version_major": 2,
       "version_minor": 0
      },
      "text/plain": [
       "Canvas(toolbar=Toolbar(toolitems=[('Home', 'Reset original view', 'home', 'home'), ('Back', 'Back to previous …"
      ]
     },
     "metadata": {},
     "output_type": "display_data"
    }
   ],
   "source": [
    "vmin, vmax = np.percentile(holo_sum, [1, 99.9])\n",
    "lognorm = mpl.colors.LogNorm(5e3, 5e5)\n",
    "fig, ax = plt.subplots(figsize=(6, 6))\n",
    "ax.imshow(holo_sum, cmap='YlGnBu_r', vmin=vmin, vmax=vmax)\n",
    "# ax.imshow(holo_sum, cmap='YlGnBu_r', norm=lognorm)\n",
    "\n",
    "ax.set_axis_off()\n",
    "ax.set_xlim(760, 1400)\n",
    "ax.set_ylim(835, 1475)\n",
    "plt.tight_layout(pad=.1)\n",
    "fig.savefig('210323_holo_sum.png', dpi=300)"
   ]
  },
  {
   "cell_type": "code",
   "execution_count": 50,
   "metadata": {},
   "outputs": [
    {
     "data": {
      "application/vnd.jupyter.widget-view+json": {
       "model_id": "9c16365ff5ca4b249266c0447fd80002",
       "version_major": 2,
       "version_minor": 0
      },
      "text/plain": [
       "Canvas(toolbar=Toolbar(toolitems=[('Home', 'Reset original view', 'home', 'home'), ('Back', 'Back to previous …"
      ]
     },
     "metadata": {},
     "output_type": "display_data"
    }
   ],
   "source": [
    "vmin, vmax = np.percentile(holo_sum, [1, 99.9])\n",
    "lognorm = mpl.colors.LogNorm(5e3, 5e5)\n",
    "fig, ax = plt.subplots(figsize=(6, 6))\n",
    "ax.imshow(holo_diff, cmap='coolwarm', vmin=-.5e5, vmax=.5e5)\n",
    "# ax.imshow(holo_sum, cmap='YlGnBu_r', norm=lognorm)\n",
    "\n",
    "ax.set_axis_off()\n",
    "ax.set_xlim(760, 1400)\n",
    "ax.set_ylim(835, 1475)\n",
    "plt.tight_layout(pad=.1)\n",
    "fig.savefig('210323_holo_diff.png', dpi=300)"
   ]
  },
  {
   "cell_type": "markdown",
   "metadata": {},
   "source": [
    "Note down rough center - no need to be very exact just yet.\n",
    "\n",
    "format: `[vertical axis, horizontal axis]`"
   ]
  },
  {
   "cell_type": "code",
   "execution_count": 43,
   "metadata": {},
   "outputs": [
    {
     "data": {
      "text/plain": [
       "((761.7860681881972, 1397.154730489163),\n",
       " (1455.982816376919, 835.5640049536224))"
      ]
     },
     "execution_count": 43,
     "metadata": {},
     "output_type": "execute_result"
    }
   ],
   "source": [
    "ax.get_xlim(), ax.get_ylim()"
   ]
  },
  {
   "cell_type": "code",
   "execution_count": 40,
   "metadata": {},
   "outputs": [],
   "source": [
    "center = [1152, 1087]"
   ]
  },
  {
   "cell_type": "markdown",
   "metadata": {},
   "source": [
    " apply center coordinate"
   ]
  },
  {
   "cell_type": "code",
   "execution_count": 30,
   "metadata": {},
   "outputs": [],
   "source": [
    "holo = holo_sum"
   ]
  },
  {
   "cell_type": "code",
   "execution_count": 31,
   "metadata": {},
   "outputs": [],
   "source": [
    "def set_center(holo, center):\n",
    "    n0, n1 = (2 * (s - c) for s, c in zip(holo.shape, center))\n",
    "    c0, c1 = center\n",
    "    holo_center = holo[c0 - n0 // 2:c0 + n0 // 2, c1 - n1 // 2:c1 + n1 // 2]\n",
    "    if n0 == n1:\n",
    "        return holo_center\n",
    "    elif n0 > n1:\n",
    "        pad0 = 0\n",
    "        pad1 = (n0 - n1) // 2\n",
    "    elif n0 < n1:\n",
    "        pad0 = (n1 - n0) // 2\n",
    "        pad1 = 0\n",
    "    holo_center = np.pad(holo_center, ((pad0, pad0), (pad1, pad1)))\n",
    "    return holo_center\n"
   ]
  },
  {
   "cell_type": "code",
   "execution_count": 32,
   "metadata": {},
   "outputs": [],
   "source": [
    "holo_center = set_center(holo, center)"
   ]
  },
  {
   "cell_type": "code",
   "execution_count": 36,
   "metadata": {},
   "outputs": [],
   "source": [
    "holo_center = np.pad(holo_center, 512)"
   ]
  },
  {
   "cell_type": "code",
   "execution_count": 37,
   "metadata": {},
   "outputs": [
    {
     "data": {
      "application/vnd.jupyter.widget-view+json": {
       "model_id": "99e23a483e044e5483f180d15076f8b0",
       "version_major": 2,
       "version_minor": 0
      },
      "text/plain": [
       "Canvas(toolbar=Toolbar(toolitems=[('Home', 'Reset original view', 'home', 'home'), ('Back', 'Back to previous …"
      ]
     },
     "metadata": {},
     "output_type": "display_data"
    },
    {
     "data": {
      "text/plain": [
       "<matplotlib.image.AxesImage at 0x2b0f7618e438>"
      ]
     },
     "execution_count": 37,
     "metadata": {},
     "output_type": "execute_result"
    }
   ],
   "source": [
    "fig, ax = plt.subplots()\n",
    "ax.imshow(holo_center)"
   ]
  },
  {
   "cell_type": "code",
   "execution_count": 38,
   "metadata": {},
   "outputs": [],
   "source": [
    "recon = fth.reconstruct(holo_center)"
   ]
  },
  {
   "cell_type": "markdown",
   "metadata": {},
   "source": [
    "Interactive centering"
   ]
  },
  {
   "cell_type": "code",
   "execution_count": 39,
   "metadata": {},
   "outputs": [
    {
     "data": {
      "application/vnd.jupyter.widget-view+json": {
       "model_id": "27a063e04fde4fbfa083c7c713a28c44",
       "version_major": 2,
       "version_minor": 0
      },
      "text/plain": [
       "Canvas(toolbar=Toolbar(toolitems=[('Home', 'Reset original view', 'home', 'home'), ('Back', 'Back to previous …"
      ]
     },
     "metadata": {},
     "output_type": "display_data"
    },
    {
     "data": {
      "application/vnd.jupyter.widget-view+json": {
       "model_id": "63fbe3cfd4514d4aab63e6e9027ce81e",
       "version_major": 2,
       "version_minor": 0
      },
      "text/plain": [
       "interactive(children=(IntSlider(value=1154, description='c0', max=1174, min=1134), IntSlider(value=1080, descr…"
      ]
     },
     "metadata": {},
     "output_type": "display_data"
    }
   ],
   "source": [
    "fig, ax = plt.subplots(figsize=(6, 6), constrained_layout=True)\n",
    "vmin, vmax = np.percentile(recon.real, [1, 99])\n",
    "ax.imshow(recon.real, vmin=vmin, vmax=vmax)\n",
    "\n",
    "slider_c0, slider_c1 = [(p - 20, p + 20, 1) for p in center]\n",
    "\n",
    "@widgets.interact(c0=slider_c0, c1=slider_c1)\n",
    "def update(c0, c1):\n",
    "    holo_center = set_center(holo, [c0, c1])\n",
    "    recon = fth.reconstruct(holo_center)\n",
    "    ax.imshow(recon.real, vmin=vmin, vmax=vmax)"
   ]
  },
  {
   "cell_type": "code",
   "execution_count": 40,
   "metadata": {},
   "outputs": [],
   "source": [
    "fig.savefig('210322_pattersonmap.png', dpi=300)"
   ]
  },
  {
   "cell_type": "code",
   "execution_count": 9,
   "metadata": {},
   "outputs": [],
   "source": [
    "center = [1154, 1080]"
   ]
  },
  {
   "cell_type": "markdown",
   "metadata": {},
   "source": [
    "propagate"
   ]
  },
  {
   "cell_type": "code",
   "execution_count": 86,
   "metadata": {},
   "outputs": [
    {
     "data": {
      "application/vnd.jupyter.widget-view+json": {
       "model_id": "d1015a4300514f2c9563591b406c5aeb",
       "version_major": 2,
       "version_minor": 0
      },
      "text/plain": [
       "Canvas(toolbar=Toolbar(toolitems=[('Home', 'Reset original view', 'home', 'home'), ('Back', 'Back to previous …"
      ]
     },
     "metadata": {},
     "output_type": "display_data"
    },
    {
     "data": {
      "application/vnd.jupyter.widget-view+json": {
       "model_id": "c6e16a84e92945b5b4d327c39fcdf331",
       "version_major": 2,
       "version_minor": 0
      },
      "text/plain": [
       "interactive(children=(FloatSlider(value=0.0, description='distance', max=10.0, min=-10.0), Button(description=…"
      ]
     },
     "metadata": {},
     "output_type": "display_data"
    }
   ],
   "source": [
    "holo_center = set_center(holo_diff, center)\n",
    "recon = fth.reconstruct(holo_center)\n",
    "\n",
    "fig, ax = plt.subplots(figsize=(6, 6), constrained_layout=True)\n",
    "vmin, vmax = np.percentile(recon.real, [1, 98])\n",
    "ax.imshow(recon.real, vmin=vmin, vmax=vmax)\n",
    "\n",
    "@widgets.interact_manual(distance=(-10, 10, .1))\n",
    "def update(distance=(-5, 5, .1)):\n",
    "    d_um = distance * 1e-6\n",
    "    holo_prop = fth.propagate(holo_center.copy(), d_um, experimental_setup)\n",
    "    reco_prop = fth.reconstruct(holo_prop)\n",
    "    ax.imshow(reco_prop.real, vmin=vmin, vmax=vmax)"
   ]
  },
  {
   "cell_type": "code",
   "execution_count": 10,
   "metadata": {},
   "outputs": [],
   "source": [
    "propdist = 1.2e-6"
   ]
  },
  {
   "cell_type": "markdown",
   "metadata": {},
   "source": [
    "rotate phase"
   ]
  },
  {
   "cell_type": "code",
   "execution_count": 12,
   "metadata": {},
   "outputs": [
    {
     "ename": "NameError",
     "evalue": "name 'set_center' is not defined",
     "output_type": "error",
     "traceback": [
      "\u001b[0;31m---------------------------------------------------------------------------\u001b[0m",
      "\u001b[0;31mNameError\u001b[0m                                 Traceback (most recent call last)",
      "\u001b[0;32m<ipython-input-12-b85c08f3343d>\u001b[0m in \u001b[0;36m<module>\u001b[0;34m\u001b[0m\n\u001b[0;32m----> 1\u001b[0;31m \u001b[0mholo_center\u001b[0m \u001b[0;34m=\u001b[0m \u001b[0mset_center\u001b[0m\u001b[0;34m(\u001b[0m\u001b[0mholo_diff\u001b[0m\u001b[0;34m,\u001b[0m \u001b[0mcenter\u001b[0m\u001b[0;34m)\u001b[0m\u001b[0;34m\u001b[0m\u001b[0;34m\u001b[0m\u001b[0m\n\u001b[0m\u001b[1;32m      2\u001b[0m \u001b[0mholo_prop\u001b[0m \u001b[0;34m=\u001b[0m \u001b[0mfth\u001b[0m\u001b[0;34m.\u001b[0m\u001b[0mpropagate\u001b[0m\u001b[0;34m(\u001b[0m\u001b[0mholo_center\u001b[0m\u001b[0;34m,\u001b[0m \u001b[0mpropdist\u001b[0m\u001b[0;34m,\u001b[0m \u001b[0mexperimental_setup\u001b[0m\u001b[0;34m)\u001b[0m\u001b[0;34m\u001b[0m\u001b[0;34m\u001b[0m\u001b[0m\n\u001b[1;32m      3\u001b[0m \u001b[0mrecon\u001b[0m \u001b[0;34m=\u001b[0m \u001b[0mfth\u001b[0m\u001b[0;34m.\u001b[0m\u001b[0mreconstruct\u001b[0m\u001b[0;34m(\u001b[0m\u001b[0mholo_prop\u001b[0m\u001b[0;34m)\u001b[0m\u001b[0;34m\u001b[0m\u001b[0;34m\u001b[0m\u001b[0m\n\u001b[1;32m      4\u001b[0m \u001b[0;34m\u001b[0m\u001b[0m\n\u001b[1;32m      5\u001b[0m fig, [ax1, ax2] = plt.subplots(1, 2, figsize=(6, 3.5), constrained_layout=True,\n",
      "\u001b[0;31mNameError\u001b[0m: name 'set_center' is not defined"
     ]
    }
   ],
   "source": [
    "holo_center = set_center(holo_diff, center)\n",
    "holo_prop = fth.propagate(holo_center, propdist, experimental_setup)\n",
    "recon = fth.reconstruct(holo_prop)\n",
    "\n",
    "fig, [ax1, ax2] = plt.subplots(1, 2, figsize=(6, 3.5), constrained_layout=True,\n",
    "                               sharex=True, sharey=True)\n",
    "vminr, vmaxr = np.percentile(recon.real, [1, 99])\n",
    "vmini, vmaxi = np.percentile(recon.imag, [1, 99])\n",
    "ax1.imshow(recon.real, vmin=vminr, vmax=vmaxr)\n",
    "ax2.imshow(recon.imag, vmin=vmini, vmax=vmaxi)\n",
    "\n",
    "pi = np.pi\n",
    "@widgets.interact(phase=(-pi, pi, .1), flip=False)\n",
    "def update(phase, flip):\n",
    "    phi = phase + np.pi * flip\n",
    "    recon_rot = fth.global_phase_shift(recon.copy(), phi)\n",
    "    ax1.imshow(recon_rot.real, vmin=vminr, vmax=vmaxr)\n",
    "    ax2.imshow(recon_rot.imag, vmin=vmini, vmax=vmaxi)"
   ]
  },
  {
   "cell_type": "code",
   "execution_count": 11,
   "metadata": {},
   "outputs": [
    {
     "ename": "NameError",
     "evalue": "name 'recon' is not defined",
     "output_type": "error",
     "traceback": [
      "\u001b[0;31m---------------------------------------------------------------------------\u001b[0m",
      "\u001b[0;31mNameError\u001b[0m                                 Traceback (most recent call last)",
      "\u001b[0;32m<ipython-input-11-8b5e351568ee>\u001b[0m in \u001b[0;36m<module>\u001b[0;34m\u001b[0m\n\u001b[1;32m      1\u001b[0m \u001b[0mphase\u001b[0m \u001b[0;34m=\u001b[0m \u001b[0;36m0.16\u001b[0m\u001b[0;34m\u001b[0m\u001b[0;34m\u001b[0m\u001b[0m\n\u001b[0;32m----> 2\u001b[0;31m \u001b[0mrecon_rot\u001b[0m \u001b[0;34m=\u001b[0m \u001b[0mfth\u001b[0m\u001b[0;34m.\u001b[0m\u001b[0mglobal_phase_shift\u001b[0m\u001b[0;34m(\u001b[0m\u001b[0mrecon\u001b[0m\u001b[0;34m.\u001b[0m\u001b[0mcopy\u001b[0m\u001b[0;34m(\u001b[0m\u001b[0;34m)\u001b[0m\u001b[0;34m,\u001b[0m \u001b[0mphase\u001b[0m\u001b[0;34m)\u001b[0m\u001b[0;34m\u001b[0m\u001b[0;34m\u001b[0m\u001b[0m\n\u001b[0m",
      "\u001b[0;31mNameError\u001b[0m: name 'recon' is not defined"
     ]
    }
   ],
   "source": [
    "phase = 0.16\n",
    "recon_rot = fth.global_phase_shift(recon.copy(), phase)"
   ]
  },
  {
   "cell_type": "code",
   "execution_count": 102,
   "metadata": {},
   "outputs": [],
   "source": [
    "min1, max1 = [int(a) for a in ax1.get_xlim()]\n",
    "max0, min0 = [int(a) for a in ax1.get_ylim()]"
   ]
  },
  {
   "cell_type": "code",
   "execution_count": 104,
   "metadata": {},
   "outputs": [
    {
     "data": {
      "text/plain": [
       "(471, 731, 579, 845)"
      ]
     },
     "execution_count": 104,
     "metadata": {},
     "output_type": "execute_result"
    }
   ],
   "source": [
    "min0, max0, min1, max1"
   ]
  },
  {
   "cell_type": "code",
   "execution_count": 115,
   "metadata": {},
   "outputs": [
    {
     "data": {
      "application/vnd.jupyter.widget-view+json": {
       "model_id": "7f7b7e1db81741089659db6fa42a47de",
       "version_major": 2,
       "version_minor": 0
      },
      "text/plain": [
       "Canvas(toolbar=Toolbar(toolitems=[('Home', 'Reset original view', 'home', 'home'), ('Back', 'Back to previous …"
      ]
     },
     "metadata": {},
     "output_type": "display_data"
    },
    {
     "data": {
      "text/plain": [
       "<matplotlib.image.AxesImage at 0x2af53b0b9be0>"
      ]
     },
     "execution_count": 115,
     "metadata": {},
     "output_type": "execute_result"
    }
   ],
   "source": [
    "fig, ax = plt.subplots(constrained_layout=True, figsize=(6, 6))\n",
    "ax.imshow(recon_rot.real[min0:max0, min1:max1], cmap='gray', vmin=-2, vmax=2)"
   ]
  },
  {
   "cell_type": "code",
   "execution_count": 116,
   "metadata": {},
   "outputs": [],
   "source": [
    "fig.savefig('210312_FB0027_C2_object.png', dpi=300)"
   ]
  },
  {
   "cell_type": "markdown",
   "metadata": {},
   "source": [
    "## check number of accumulations needed"
   ]
  },
  {
   "cell_type": "code",
   "execution_count": 117,
   "metadata": {},
   "outputs": [
    {
     "data": {
      "text/plain": [
       "([1154, 1080], 1.2e-06, 0.16)"
      ]
     },
     "execution_count": 117,
     "metadata": {},
     "output_type": "execute_result"
    }
   ],
   "source": [
    "center, propdist, phase"
   ]
  },
  {
   "cell_type": "code",
   "execution_count": 118,
   "metadata": {},
   "outputs": [],
   "source": [
    "center = [1154, 1080]\n",
    "propdist = 1.2e-06\n",
    "phase = 0.16\n",
    "roi = np.s_[471:731, 579:845]"
   ]
  },
  {
   "cell_type": "code",
   "execution_count": 127,
   "metadata": {},
   "outputs": [],
   "source": [
    "from mpl_toolkits.axes_grid1 import ImageGrid"
   ]
  },
  {
   "cell_type": "code",
   "execution_count": 171,
   "metadata": {},
   "outputs": [
    {
     "name": "stdout",
     "output_type": "stream",
     "text": [
      "Propagation distance: 1.20um\n",
      "Propagation distance: 1.20um\n",
      "Propagation distance: 1.20um\n",
      "Propagation distance: 1.20um\n",
      "Propagation distance: 1.20um\n",
      "Propagation distance: 1.20um\n",
      "Propagation distance: 1.20um\n"
     ]
    }
   ],
   "source": [
    "n_accum = [1, 2, 3, 5, 10, 15, 21]\n",
    "\n",
    "plt.ioff()\n",
    "\n",
    "for n in n_accum:\n",
    "    pos = d1.ccd.isel(index=slice(n)).mean('index').values\n",
    "    neg = d2.ccd.isel(index=slice(n)).mean('index').values\n",
    "    holo = pos - neg\n",
    "    \n",
    "    holo_center = set_center(holo, center)\n",
    "    holo_prop = fth.propagate(holo_center, propdist, experimental_setup)\n",
    "    \n",
    "    recon = fth.reconstruct(holo_prop)\n",
    "    recon_rot = fth.global_phase_shift(recon.copy(), phase).real\n",
    "    \n",
    "    fig = plt.figure(figsize=(4.5, 4))\n",
    "    axes = ImageGrid(fig, [0, .05, .85, .85], [1, 1], cbar_mode='single')\n",
    "    ax = axes[0]\n",
    "    cax = axes.cbar_axes[0]\n",
    "    m = ax.imshow(recon_rot[roi] / .14, vmin=-1, vmax=1, cmap='gray')\n",
    "    ax.set_xticks([])\n",
    "    ax.set_yticks([])\n",
    "    ax.set_title(f'{n}×1s')\n",
    "    cbar = plt.colorbar(m, cax=cax)\n",
    "    cbar.set_ticks(np.arange(-1, 1.1, .5))\n",
    "    cbar.set_label('intensity (arb. units)')\n",
    "    fig.savefig(f'210312_accum_{n:02d}.png', dpi=300)\n",
    "    plt.close(fig)\n",
    "#     break\n",
    "\n",
    "plt.ion()"
   ]
  },
  {
   "cell_type": "code",
   "execution_count": 168,
   "metadata": {},
   "outputs": [
    {
     "data": {
      "application/vnd.jupyter.widget-view+json": {
       "model_id": "421e67c1891040e6aceee28d96b506c9",
       "version_major": 2,
       "version_minor": 0
      },
      "text/plain": [
       "Canvas(toolbar=Toolbar(toolitems=[('Home', 'Reset original view', 'home', 'home'), ('Back', 'Back to previous …"
      ]
     },
     "metadata": {},
     "output_type": "display_data"
    },
    {
     "data": {
      "text/plain": [
       "<matplotlib.image.AxesImage at 0x2af5421f6198>"
      ]
     },
     "execution_count": 168,
     "metadata": {},
     "output_type": "execute_result"
    }
   ],
   "source": [
    "fig, ax = plt.subplots()\n",
    "ax.imshow(recon_rot[roi] / .12, vmin=-1, vmax=1, cmap='gray')"
   ]
  },
  {
   "cell_type": "code",
   "execution_count": 150,
   "metadata": {},
   "outputs": [
    {
     "name": "stdout",
     "output_type": "stream",
     "text": [
      "Propagation distance: 1.20um\n",
      "Propagation distance: 1.20um\n",
      "Propagation distance: 1.20um\n",
      "Propagation distance: 1.20um\n",
      "Propagation distance: 1.20um\n",
      "Propagation distance: 1.20um\n",
      "Propagation distance: 1.20um\n"
     ]
    }
   ],
   "source": [
    "n_accum = [1, 2, 3, 5, 10, 15, 21]\n",
    "\n",
    "plt.ioff()\n",
    "\n",
    "for n in n_accum:\n",
    "    pos = d1.ccd.isel(index=slice(n)).mean('index').values\n",
    "    neg = d2.ccd.isel(index=slice(n)).mean('index').values\n",
    "    holo = pos - neg\n",
    "    \n",
    "    holo_center = set_center(holo, center)\n",
    "    holo_prop = fth.propagate(holo_center, propdist, experimental_setup)\n",
    "    \n",
    "    recon = fth.reconstruct(holo_prop)\n",
    "    recon_rot = fth.global_phase_shift(recon.copy(), phase).real\n",
    "    \n",
    "    vmax = np.abs(np.percentile(recon_rot[roi], [1, 99])).min()\n",
    "    \n",
    "    fig, ax = plt.subplots(figsize=(4, 4), constrained_layout=True)\n",
    "    m = ax.imshow(recon_rot[roi], vmin=-vmax, vmax=vmax, cmap='gray')\n",
    "    ax.set_axis_off()\n",
    "    ax.set_title(f'{n}×1s')\n",
    "    fig.savefig(f'210312_accum_{n:02d}_anim.png', dpi=300)\n",
    "    plt.close(fig)\n",
    "\n",
    "plt.ion()"
   ]
  },
  {
   "cell_type": "markdown",
   "metadata": {},
   "source": [
    "sum reconstruction"
   ]
  },
  {
   "cell_type": "code",
   "execution_count": 174,
   "metadata": {},
   "outputs": [
    {
     "name": "stdout",
     "output_type": "stream",
     "text": [
      "Propagation distance: 1.20um\n"
     ]
    },
    {
     "data": {
      "application/vnd.jupyter.widget-view+json": {
       "model_id": "fefeb12d4b2a428d8dac90769666f603",
       "version_major": 2,
       "version_minor": 0
      },
      "text/plain": [
       "Canvas(toolbar=Toolbar(toolitems=[('Home', 'Reset original view', 'home', 'home'), ('Back', 'Back to previous …"
      ]
     },
     "metadata": {},
     "output_type": "display_data"
    }
   ],
   "source": [
    "pos = d1.ccd.mean('index').values\n",
    "neg = d2.ccd.mean('index').values\n",
    "holo = pos + neg\n",
    "\n",
    "holo_center = set_center(holo, center)\n",
    "holo_prop = fth.propagate(holo_center, propdist, experimental_setup)\n",
    "\n",
    "recon = fth.reconstruct(holo_prop)\n",
    "recon_rot = fth.global_phase_shift(recon.copy(), phase).real\n",
    "\n",
    "fig, ax = plt.subplots(figsize=(4, 4), constrained_layout=True)\n",
    "m = ax.imshow(recon_rot, cmap='gray', vmin=-.2, vmax=.2)\n",
    "ax.set_axis_off()\n",
    "\n"
   ]
  },
  {
   "cell_type": "markdown",
   "metadata": {},
   "source": [
    "## alignment sample"
   ]
  },
  {
   "cell_type": "code",
   "execution_count": null,
   "metadata": {},
   "outputs": [],
   "source": []
  },
  {
   "cell_type": "markdown",
   "metadata": {},
   "source": [
    "# Reconstruct\n",
    "\n",
    "Reconstruct the hologramm.\n",
    "1. Center the hologram.\n",
    "2. Mask the beamstop.\n",
    "3. Check for corsmic rays and camera defects and mask them.\n",
    "4. Chose a region of interest (ROI).\n",
    "5. Propagate the image and shift the phase for maximal contrast and sharpness in your ROI.\n",
    "\n",
    "## Set center\n",
    "\n",
    "Your hologramm is nor necessarily centered on the camera. Here you can determine the pixel coordinates of the center of the hologram and shift ist to the center of the camera image.\n",
    "\n",
    "1. The image is plotted. Use the interactive plotting *zoom* tool (second from the right) to zoom into the image. Get the ring of the hologram centered in your field of view. You can shift the image with the *pan* tool right of *zoom*. You can use the arrows to get to the previous/next view. The *home* button (left) resets the view.\n",
    "2. The limit of your FOV is read from the axes of the image. From this, the center of the hologram is determined.\n",
    "3. Shift the hologram to the center.\n",
    "4. The centered hologram and the original hologram are plotted next to each other to check if the centering was done correctly."
   ]
  },
  {
   "cell_type": "code",
   "execution_count": 135,
   "metadata": {},
   "outputs": [
    {
     "data": {
      "application/vnd.jupyter.widget-view+json": {
       "model_id": "83c2ccae15e04b87b3c8201064ea8427",
       "version_major": 2,
       "version_minor": 0
      },
      "text/plain": [
       "Canvas(toolbar=Toolbar(toolitems=[('Home', 'Reset original view', 'home', 'home'), ('Back', 'Back to previous …"
      ]
     },
     "metadata": {},
     "output_type": "display_data"
    }
   ],
   "source": [
    "mi, ma = np.percentile(np.real(pos), (.01,99.99))\n",
    "\n",
    "fig, ax = plt.subplots()\n",
    "ax.imshow(np.real(pos), cmap = 'gray', vmin = mi, vmax = ma, aspect=1)\n",
    "circ = plt.Circle([.5, .5], radius=.3, transform=ax.transAxes, ec='r', fc='#00000000')\n",
    "ax.add_artist(circ)\n",
    "ax.set_xlim(1000, 1200)\n",
    "ax.set_ylim(1050, 1300)\n",
    "plt.tight_layout(pad=.2)"
   ]
  },
  {
   "cell_type": "code",
   "execution_count": 118,
   "metadata": {},
   "outputs": [],
   "source": [
    "fig.savefig('149,151_holo.png', dpi=300)"
   ]
  },
  {
   "cell_type": "code",
   "execution_count": null,
   "metadata": {},
   "outputs": [],
   "source": [
    "x1, x2 = ax.get_xlim()\n",
    "y2, y1 = ax.get_ylim()\n",
    "\n",
    "center = [fth.integer(y1 + (y2 - y1)/2), fth.integer(x1 + (x2 - x1)/2)]"
   ]
  },
  {
   "cell_type": "code",
   "execution_count": 71,
   "metadata": {},
   "outputs": [
    {
     "data": {
      "text/plain": [
       "[1152, 1079]"
      ]
     },
     "execution_count": 71,
     "metadata": {},
     "output_type": "execute_result"
    }
   ],
   "source": [
    "center"
   ]
  },
  {
   "cell_type": "code",
   "execution_count": 103,
   "metadata": {},
   "outputs": [],
   "source": [
    "center = np.array([1152, 1079])"
   ]
  },
  {
   "cell_type": "code",
   "execution_count": null,
   "metadata": {},
   "outputs": [],
   "source": [
    "holo_c = fth.set_center(holo, center)"
   ]
  },
  {
   "cell_type": "code",
   "execution_count": 136,
   "metadata": {},
   "outputs": [
    {
     "data": {
      "application/vnd.jupyter.widget-view+json": {
       "model_id": "531e334023c44724b22b188ca422beca",
       "version_major": 2,
       "version_minor": 0
      },
      "text/plain": [
       "Canvas(toolbar=Toolbar(toolitems=[('Home', 'Reset original view', 'home', 'home'), ('Back', 'Back to previous …"
      ]
     },
     "metadata": {},
     "output_type": "display_data"
    }
   ],
   "source": [
    "fig, ax = plt.subplots(1,2, figsize = (8, 5))\n",
    "ax[0].imshow(np.real(holo), cmap = 'gray')\n",
    "ax[0].set_axis_off()\n",
    "ax[1].imshow(np.real(holo_c), cmap = 'gray')\n",
    "ax[1].set_axis_off()"
   ]
  },
  {
   "cell_type": "markdown",
   "metadata": {},
   "source": [
    "## Mask beamstop\n",
    "\n",
    "Now the beamstop is masked. A circular mask is drawn with a vertain diameter and its edges are smoothed with a gauss filter.\n",
    "1. Set the diameter in pixels. You can determine this by zooming into the hologram and checking the diameter of the beamstop in the hologram. Make it larger than the physical beamstop in the image so the smoothing works well.\n",
    "2. The function $\\mathtt{mask-beamstop(image, bs-size, sigma=10, center = None)}$ returns the masked hologram. you can set the sigma of the Gauss filter (10 is default). You can give it a center for the beamstop mask, but since you already centered the hologram, this is not necessary.\n",
    "3. Plot the masked hologram to check that the beamstop is properly masked."
   ]
  },
  {
   "cell_type": "code",
   "execution_count": 137,
   "metadata": {},
   "outputs": [],
   "source": [
    "bs_diam = 35"
   ]
  },
  {
   "cell_type": "code",
   "execution_count": 138,
   "metadata": {},
   "outputs": [],
   "source": [
    "holo_b = fth.mask_beamstop(holo_c, bs_diam)"
   ]
  },
  {
   "cell_type": "code",
   "execution_count": 139,
   "metadata": {},
   "outputs": [
    {
     "data": {
      "application/vnd.jupyter.widget-view+json": {
       "model_id": "56271032e4f84b3880deb540b935ed3d",
       "version_major": 2,
       "version_minor": 0
      },
      "text/plain": [
       "Canvas(toolbar=Toolbar(toolitems=[('Home', 'Reset original view', 'home', 'home'), ('Back', 'Back to previous …"
      ]
     },
     "metadata": {},
     "output_type": "display_data"
    }
   ],
   "source": [
    "fig, ax = plt.subplots()\n",
    "ax.imshow(np.real(holo_b), cmap = 'gray')\n",
    "ax.set_axis_off()"
   ]
  },
  {
   "cell_type": "markdown",
   "metadata": {},
   "source": [
    "## Remove Cosmic Rays\n",
    "\n",
    "Cosmic rays are recorded as singular pixels with a very high count rate. Camera defects are also single or multiple pixels of high count rate. \n",
    "\n",
    "If they occur quite outside of center, they will be accounted for in the reconstruction and give high frequency modulations.\n",
    "1. Look at the all the pixels in the masked hologram $>1000$.\n",
    "2. Delete whole rows if necessary. Replace agglomerations of high pixels by values somewhere close.\n",
    "3. Remove cosmic rays via the function $\\mathtt{remove-cosmic-ray(holo, coordinates)}$. This function will replace the pixel of a single cosmic ray by the mean of its neighbors. If the cosmic ray extends on two pixels, use $\\mathtt{remove-two(holo, x_coord, y_coord)}$ where one of the two coordinate variables should have a dimension of two.\n"
   ]
  },
  {
   "cell_type": "code",
   "execution_count": 13,
   "metadata": {},
   "outputs": [
    {
     "data": {
      "application/vnd.jupyter.widget-view+json": {
       "model_id": "6dee37cc987c4691bd0e40d307ca6167",
       "version_major": 2,
       "version_minor": 0
      },
      "text/plain": [
       "Canvas(toolbar=Toolbar(toolitems=[('Home', 'Reset original view', 'home', 'home'), ('Back', 'Back to previous …"
      ]
     },
     "metadata": {},
     "output_type": "display_data"
    },
    {
     "data": {
      "text/plain": [
       "<matplotlib.image.AxesImage at 0x2afc36ee7be0>"
      ]
     },
     "execution_count": 13,
     "metadata": {},
     "output_type": "execute_result"
    }
   ],
   "source": [
    "# fig, ax = plt.subplots(figsize = (8, 8))\n",
    "# ax.imshow(np.abs(holo_b)>1000)"
   ]
  },
  {
   "cell_type": "code",
   "execution_count": null,
   "metadata": {},
   "outputs": [],
   "source": [
    "# holo_b = np.delete(holo_b, 50, axis = 1)\n",
    "# holo_b = np.delete(holo_b, 0, axis = 0)\n",
    "# holo_b.shape"
   ]
  },
  {
   "cell_type": "code",
   "execution_count": null,
   "metadata": {},
   "outputs": [],
   "source": [
    "# holo_b = fth.remove_cosmic_ray(holo_b, [, 822])\n",
    "# holo_b = fth.remove_cosmic_ray(holo_b, [860, 935])"
   ]
  },
  {
   "cell_type": "markdown",
   "metadata": {},
   "source": [
    "## Set ROI\n",
    "\n",
    "Set a region of interest, i.e., chose which image you want to optimize.\n",
    "\n",
    "This is done much in the same way as the center is set:\n",
    "1. Zoom into the image and adjust your FOV until you are satisfied.\n",
    "2. Save the axes coordinates."
   ]
  },
  {
   "cell_type": "code",
   "execution_count": 140,
   "metadata": {},
   "outputs": [
    {
     "data": {
      "application/vnd.jupyter.widget-view+json": {
       "model_id": "4e841a15e52d453bb2a8aa0866c0285b",
       "version_major": 2,
       "version_minor": 0
      },
      "text/plain": [
       "Canvas(toolbar=Toolbar(toolitems=[('Home', 'Reset original view', 'home', 'home'), ('Back', 'Back to previous …"
      ]
     },
     "metadata": {},
     "output_type": "display_data"
    }
   ],
   "source": [
    "fig, ax = fth.plot(np.real(fth.reconstruct(holo_b)), colorbar = False)"
   ]
  },
  {
   "cell_type": "code",
   "execution_count": 141,
   "metadata": {},
   "outputs": [],
   "source": [
    "x1, x2 = ax.get_xlim()\n",
    "y2, y1 = ax.get_ylim()\n",
    "roi = np.array([fth.integer(x1), fth.integer(x2), fth.integer(y1), fth.integer(y2)]) #xstart, xstop, ystart, ystop"
   ]
  },
  {
   "cell_type": "code",
   "execution_count": 12,
   "metadata": {},
   "outputs": [],
   "source": [
    "# roi = np.array([ 674,  850, 1121, 1292])"
   ]
  },
  {
   "cell_type": "markdown",
   "metadata": {},
   "source": [
    "## Propagate and Phase Shift\n",
    "\n",
    "Propagte your FOV and shift the phase to have all magnetic signal in the real image. This is done via ipython widget sliders (https://ipywidgets.readthedocs.io/en/latest/)."
   ]
  },
  {
   "cell_type": "code",
   "execution_count": 142,
   "metadata": {},
   "outputs": [
    {
     "data": {
      "application/vnd.jupyter.widget-view+json": {
       "model_id": "2c80ff9ce500485993cc8f425caa6b56",
       "version_major": 2,
       "version_minor": 0
      },
      "text/plain": [
       "Canvas(toolbar=Toolbar(toolitems=[('Home', 'Reset original view', 'home', 'home'), ('Back', 'Back to previous …"
      ]
     },
     "metadata": {},
     "output_type": "display_data"
    },
    {
     "data": {
      "application/vnd.jupyter.widget-view+json": {
       "model_id": "24aec8731df9487c948e6f3f1213920e",
       "version_major": 2,
       "version_minor": 0
      },
      "text/plain": [
       "interactive(children=(FloatSlider(value=0.0, description='propagation[um]', layout=Layout(width='90%'), max=10…"
      ]
     },
     "metadata": {},
     "output_type": "display_data"
    },
    {
     "data": {
      "application/vnd.jupyter.widget-view+json": {
       "model_id": "6bfef6b88d054b6cb0b393e07ffa07f6",
       "version_major": 2,
       "version_minor": 0
      },
      "text/plain": [
       "Button(description='Finished', style=ButtonStyle())"
      ]
     },
     "metadata": {},
     "output_type": "display_data"
    }
   ],
   "source": [
    "slider_prop, slider_phase, button = reco.propagate(holo_b, roi, experimental_setup = experimental_setup)"
   ]
  },
  {
   "cell_type": "code",
   "execution_count": 143,
   "metadata": {},
   "outputs": [],
   "source": [
    "prop_dist=slider_prop.value\n",
    "\n",
    "phase = slider_phase.value"
   ]
  },
  {
   "cell_type": "markdown",
   "metadata": {},
   "source": [
    "# Save Reconstruction Data\n",
    "\n",
    "Save the reconstructed data in a hdf5 file."
   ]
  },
  {
   "cell_type": "code",
   "execution_count": 68,
   "metadata": {},
   "outputs": [],
   "source": [
    "folder_save = '../processed/%i/'%p\n",
    "# folder_save = '/home/mschndr/%i/'%p\n",
    "\n",
    "if not(os.path.exists(folder_save)):\n",
    "    print(\"Creating folder \" + folder_save)\n",
    "    os.mkdir(folder_save)"
   ]
  },
  {
   "cell_type": "code",
   "execution_count": 144,
   "metadata": {},
   "outputs": [
    {
     "name": "stdout",
     "output_type": "stream",
     "text": [
      "Propagation distance: 0.21um\n"
     ]
    }
   ],
   "source": [
    "recon = fth.reconstruct(fth.propagate(holo_b, prop_dist*1e-6, experimental_setup = experimental_setup)*np.exp(1j*phase))[roi[2]:roi[3], roi[0]:roi[1]]"
   ]
  },
  {
   "cell_type": "code",
   "execution_count": 145,
   "metadata": {},
   "outputs": [
    {
     "data": {
      "application/vnd.jupyter.widget-view+json": {
       "model_id": "a47958312ce34e5781e2abb2df667def",
       "version_major": 2,
       "version_minor": 0
      },
      "text/plain": [
       "Canvas(toolbar=Toolbar(toolitems=[('Home', 'Reset original view', 'home', 'home'), ('Back', 'Back to previous …"
      ]
     },
     "metadata": {},
     "output_type": "display_data"
    }
   ],
   "source": [
    "fig, ax = plt.subplots(frameon = False, figsize = (recon.shape[1] / 40, recon.shape[0] / 40))\n",
    "ax.imshow(np.real(recon), cmap = 'gray')\n",
    "ax.set_axis_off()\n",
    "ax.annotate('%04d'%p, (.015, .95), xycoords = 'axes fraction', bbox = {'alpha': .5, 'ec': None, 'fc': 'w', 'lw': None})\n",
    "plt.savefig(folder_save + '2103_MaxP04_%04d.png'%p, bbox_inches='tight')"
   ]
  },
  {
   "cell_type": "code",
   "execution_count": 98,
   "metadata": {},
   "outputs": [],
   "source": [
    "reco.save_parameters(folder_save + 'P04_0620_%04d.hdf'%p, recon, factor, center, bs_diam, prop_dist, phase, roi, [p, n],\n",
    "                     comment = 'beamtime reconstruction', topo = None)\n",
    "# save_parameters(holo, center, prop_dist, phase, roi, folder_save, 'PETRA_P04_0620_', 'Reco1', 'RecoParam1', [p,n], bs_diam, propagate=True)"
   ]
  },
  {
   "cell_type": "code",
   "execution_count": null,
   "metadata": {},
   "outputs": [],
   "source": []
  }
 ],
 "metadata": {
  "kernelspec": {
   "display_name": "Python 3",
   "language": "python",
   "name": "python3"
  },
  "language_info": {
   "codemirror_mode": {
    "name": "ipython",
    "version": 3
   },
   "file_extension": ".py",
   "mimetype": "text/x-python",
   "name": "python",
   "nbconvert_exporter": "python",
   "pygments_lexer": "ipython3",
   "version": "3.6.7"
  },
  "toc": {
   "base_numbering": 1,
   "nav_menu": {},
   "number_sections": true,
   "sideBar": true,
   "skip_h1_title": false,
   "title_cell": "Table of Contents",
   "title_sidebar": "Contents",
   "toc_cell": false,
   "toc_position": {
    "height": "calc(100% - 180px)",
    "left": "10px",
    "top": "150px",
    "width": "370px"
   },
   "toc_section_display": true,
   "toc_window_display": true
  },
  "varInspector": {
   "cols": {
    "lenName": 16,
    "lenType": 16,
    "lenVar": 40
   },
   "kernels_config": {
    "python": {
     "delete_cmd_postfix": "",
     "delete_cmd_prefix": "del ",
     "library": "var_list.py",
     "varRefreshCmd": "print(var_dic_list())"
    },
    "r": {
     "delete_cmd_postfix": ") ",
     "delete_cmd_prefix": "rm(",
     "library": "var_list.r",
     "varRefreshCmd": "cat(var_dic_list()) "
    }
   },
   "oldHeight": 575.85,
   "position": {
    "height": "40px",
    "left": "1475px",
    "right": "20px",
    "top": "82px",
    "width": "321px"
   },
   "types_to_exclude": [
    "module",
    "function",
    "builtin_function_or_method",
    "instance",
    "_Feature"
   ],
   "varInspector_section_display": "none",
   "window_display": true
  },
  "widgets": {
   "application/vnd.jupyter.widget-state+json": {
    "state": {},
    "version_major": 2,
    "version_minor": 0
   }
  }
 },
 "nbformat": 4,
 "nbformat_minor": 4
}
