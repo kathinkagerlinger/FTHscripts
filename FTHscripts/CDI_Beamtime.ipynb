{
 "cells": [
  {
   "cell_type": "markdown",
   "metadata": {},
   "source": [
    " obtain the image for the article. Start from 20mar2021. then raw->Ewald->ROI->mask->averaging->offset"
   ]
  },
  {
   "cell_type": "code",
   "execution_count": 39,
   "metadata": {},
   "outputs": [],
   "source": [
    "# import self written libraries. These have to be in the same folder or the parent directory.\n",
    "import sys, os\n",
    "sys.path.append('./library/')\n",
    "import reconstruct as rec\n",
    "import fth_reconstruction as fth\n",
    "import Phase_Retrieval as PhR\n",
    "import pymaxp04 as maxi\n",
    "import scipy.io as io\n",
    "import cv2\n",
    "from scipy import signal\n",
    "from scipy.ndimage.filters import gaussian_filter\n",
    "import random\n",
    "import scipy.ndimage as ndimage\n",
    "from cameras import load_greateyes, load_spe\n",
    "\n",
    "import numpy as np\n",
    "import matplotlib.pyplot as plt\n",
    "from skimage.draw import circle\n",
    "from skimage.draw import rectangle\n",
    "from skimage.transform import resize\n",
    "#interactive stuff\n",
    "import ipywidgets as widgets\n",
    "from IPython.display import display\n",
    "import ipython_blocking\n",
    "from mpl_toolkits.axes_grid1 import make_axes_locatable\n",
    "from scipy.stats import pearsonr\n",
    "import matplotlib.image as imsave\n",
    "import scipy.constants as sc\n",
    "from matplotlib.pyplot import figure, draw\n",
    "from scipy import stats\n",
    "from matplotlib import colors\n",
    "\n",
    "from copy import deepcopy"
   ]
  },
  {
   "cell_type": "code",
   "execution_count": 40,
   "metadata": {},
   "outputs": [],
   "source": [
    "%matplotlib widget"
   ]
  },
  {
   "cell_type": "markdown",
   "metadata": {},
   "source": [
    "# Load images\n",
    "\n",
    "Images will be loaded as .npy files, created by Stitching_**.ipynb"
   ]
  },
  {
   "cell_type": "code",
   "execution_count": 41,
   "metadata": {},
   "outputs": [],
   "source": [
    "experimental_setup = {'ccd_dist': 18e-2, 'energy': 779.5, 'px_size' : 20e-6}\n",
    "\n",
    "INSTRUMENT_KEYS = {\n",
    "    'mono': 'scan/instrument/mono/energy',\n",
    "    'undu_shift': 'scan/instrument/undulator/collection/shift',\n",
    "    'ringcurrent': 'scan/instrument/petra_iii/current',\n",
    "    'exitslit': 'scan/instrument/exit_slit/slit/y_gap'\n",
    "    }"
   ]
  },
  {
   "cell_type": "code",
   "execution_count": 42,
   "metadata": {},
   "outputs": [],
   "source": [
    "folder = '/home/mschndr/MaxP04_2103_commissioning/raw/'\n",
    "fname = 'test_%05d.nxs'\n",
    "p_list = [148]"
   ]
  },
  {
   "cell_type": "code",
   "execution_count": 45,
   "metadata": {},
   "outputs": [
    {
     "name": "stdout",
     "output_type": "stream",
     "text": [
      "test_00148.nxs\n",
      "-\n"
     ]
    }
   ],
   "source": [
    "pos= np.array((maxi.load_scanfile(folder + fname%p_list[0], INSTRUMENT_KEYS))[\"ccd\"][0])\n",
    "neg=pos.copy()\n",
    "\n",
    "for p in p_list:\n",
    "    print(fname%p)\n",
    "    try:\n",
    "        tmp = maxi.load_scanfile(folder + fname%p, INSTRUMENT_KEYS)\n",
    "        if tmp.undu_shift > 0:\n",
    "            pos +=np.array(tmp[\"ccd\"][0])\n",
    "            print('+')\n",
    "        else:\n",
    "            neg +=np.array(tmp[\"ccd\"][0])\n",
    "            print('-')\n",
    "            \n",
    "    except:\n",
    "        print('Wait for file and retry.')"
   ]
  },
  {
   "cell_type": "code",
   "execution_count": 46,
   "metadata": {},
   "outputs": [
    {
     "name": "stdout",
     "output_type": "stream",
     "text": [
      "neg=0.000 + 2.000*pos\n"
     ]
    }
   ],
   "source": [
    "pos2, neg2, intercept, slope=fth.load_both(pos,neg, auto_factor=True)\n",
    "holo=pos2-neg2"
   ]
  },
  {
   "cell_type": "markdown",
   "metadata": {},
   "source": [
    "# select energy of beam and pixel size of camera\n",
    "this values will be part of the dictionary 'experimental_setup', containing:\n",
    "- energy of the beam [eV]\n",
    "- CCD camera px_size [m]\n",
    "- CCD camera- sample distance [m]"
   ]
  },
  {
   "cell_type": "code",
   "execution_count": 47,
   "metadata": {},
   "outputs": [
    {
     "name": "stdout",
     "output_type": "stream",
     "text": [
      "7.034865374634114e-09\n"
     ]
    }
   ],
   "source": [
    "import scipy.constants as cst\n",
    "wl = cst.h * cst.c / (experimental_setup['energy'] * cst.e)\n",
    "n_pixels_CCD=pos.shape[0]\n",
    "px_size=experimental_setup[\"px_size\"]\n",
    "CCD_dist=experimental_setup['ccd_dist']\n",
    "theta=1/2*np.arctan(0.5*px_size*n_pixels_CCD/CCD_dist)\n",
    "\n",
    "\n",
    "lpx=0.5*wl/np.sin(2*theta)\n",
    "print(lpx)"
   ]
  },
  {
   "cell_type": "markdown",
   "metadata": {},
   "source": [
    "# FIND CENTER\n",
    "zoom on the center of the scattering pattern to select the center value"
   ]
  },
  {
   "cell_type": "code",
   "execution_count": 48,
   "metadata": {},
   "outputs": [
    {
     "data": {
      "application/vnd.jupyter.widget-view+json": {
       "model_id": "cc72fcef09c34c45a7ca34a1a75b7f6f",
       "version_major": 2,
       "version_minor": 0
      },
      "text/plain": [
       "Canvas(toolbar=Toolbar(toolitems=[('Home', 'Reset original view', 'home', 'home'), ('Back', 'Back to previous …"
      ]
     },
     "metadata": {},
     "output_type": "display_data"
    },
    {
     "data": {
      "text/plain": [
       "<matplotlib.image.AxesImage at 0x2af90b4b0eb8>"
      ]
     },
     "execution_count": 48,
     "metadata": {},
     "output_type": "execute_result"
    }
   ],
   "source": [
    "mi, ma = np.percentile(np.real(pos), (.01,99.99))\n",
    "\n",
    "fig, ax = plt.subplots()\n",
    "ax.imshow(np.real(pos), cmap = 'gray', vmin = mi, vmax = ma)"
   ]
  },
  {
   "cell_type": "code",
   "execution_count": 49,
   "metadata": {},
   "outputs": [],
   "source": [
    "x1, x2 = ax.get_xlim()\n",
    "y2, y1 = ax.get_ylim()\n",
    "\n",
    "center=np.array([ (y1+y2)/2,(x1+x2)/2 ])"
   ]
  },
  {
   "cell_type": "code",
   "execution_count": 119,
   "metadata": {},
   "outputs": [],
   "source": [
    "center=np.array([1097.55411594,  945.08751243])"
   ]
  },
  {
   "cell_type": "code",
   "execution_count": 95,
   "metadata": {},
   "outputs": [],
   "source": [
    "mask_pixel_raw=pos*0\n",
    "mask_pixel=mask_pixel_raw.copy()"
   ]
  },
  {
   "cell_type": "markdown",
   "metadata": {},
   "source": [
    "# generate mask for defective pixels (optional)\n",
    "\n",
    "save the hologram, paint defective pixels in read and then reload the image"
   ]
  },
  {
   "cell_type": "code",
   "execution_count": 119,
   "metadata": {},
   "outputs": [],
   "source": [
    "mi, ma = np.percentile(np.real(pos), (.01,99.99))\n",
    "\n",
    "imsave.imsave(\"mask_pixel.png\",(pos-np.amin(pos)), vmin=mi, vmax=ma, norm=color.LogNorm())"
   ]
  },
  {
   "cell_type": "code",
   "execution_count": 119,
   "metadata": {},
   "outputs": [],
   "source": [
    "mask_pixel_raw=pos*0\n",
    "mask_pixel_raw += imageio.imread('mask_pixel_2.png')[:,:,0]==255\n",
    "\n",
    "mask_pixel_raw=np.minimum(mask_pixel_raw, np.ones(mask_pixel_raw.shape))"
   ]
  },
  {
   "cell_type": "code",
   "execution_count": 122,
   "metadata": {},
   "outputs": [],
   "source": [
    "mask_pixel_raw=pos*0\n",
    "mask_pixel_raw[:,1060:1110]=1\n",
    "mask_pixel_raw[1140:1180,1000:]=1\n",
    "mask_pixel_raw+=(pos<615)\n",
    "mask_pixel_raw=np.minimum(mask_pixel_raw,1)"
   ]
  },
  {
   "cell_type": "code",
   "execution_count": 123,
   "metadata": {},
   "outputs": [
    {
     "data": {
      "application/vnd.jupyter.widget-view+json": {
       "model_id": "c6f441b7f68d4149a209fd219649dc81",
       "version_major": 2,
       "version_minor": 0
      },
      "text/plain": [
       "Canvas(toolbar=Toolbar(toolitems=[('Home', 'Reset original view', 'home', 'home'), ('Back', 'Back to previous …"
      ]
     },
     "metadata": {},
     "output_type": "display_data"
    },
    {
     "data": {
      "application/vnd.jupyter.widget-view+json": {
       "model_id": "913a643247264350ab0dd9fdd44da92f",
       "version_major": 2,
       "version_minor": 0
      },
      "text/plain": [
       "Canvas(toolbar=Toolbar(toolitems=[('Home', 'Reset original view', 'home', 'home'), ('Back', 'Back to previous …"
      ]
     },
     "metadata": {},
     "output_type": "display_data"
    },
    {
     "data": {
      "text/plain": [
       "<matplotlib.image.AxesImage at 0x2af9110f6ba8>"
      ]
     },
     "execution_count": 123,
     "metadata": {},
     "output_type": "execute_result"
    }
   ],
   "source": [
    "fig,ax=plt.subplots()\n",
    "ax.imshow(pos*(1-mask_pixel_raw),vmax=2000, norm=colors.LogNorm())\n",
    "fig,ax=plt.subplots()\n",
    "ax.imshow(mask_pixel_raw)"
   ]
  },
  {
   "cell_type": "markdown",
   "metadata": {},
   "source": [
    "# let's normalize them (12/03/21)"
   ]
  },
  {
   "cell_type": "code",
   "execution_count": 124,
   "metadata": {},
   "outputs": [
    {
     "data": {
      "application/vnd.jupyter.widget-view+json": {
       "model_id": "c42e3ee89a244cd5b4ed5c5165b36fbb",
       "version_major": 2,
       "version_minor": 0
      },
      "text/plain": [
       "Canvas(toolbar=Toolbar(toolitems=[('Home', 'Reset original view', 'home', 'home'), ('Back', 'Back to previous …"
      ]
     },
     "metadata": {},
     "output_type": "display_data"
    },
    {
     "name": "stdout",
     "output_type": "stream",
     "text": [
      "neg=0.000 + 1.000*pos\n"
     ]
    }
   ],
   "source": [
    "x=(pos[mask_pixel_raw==0]).flatten()\n",
    "y=(neg[mask_pixel_raw==0]).flatten()\n",
    "\n",
    "fig,ax=plt.subplots()\n",
    "ax.scatter(x,y, marker='.',s=1)\n",
    "ax.set_xlabel(\"pos\")\n",
    "ax.set_ylabel(\"neg\")\n",
    "res = stats.linregress(x,y)\n",
    "values=np.array([np.amin(x), np.amax(x)])\n",
    "ax.plot(values,  -res.intercept+res.slope*(values), 'b', label='fit')\n",
    "ax.set_yscale(\"log\")\n",
    "ax.set_xscale(\"log\")\n",
    "ax.set_xlim(np.amin(x), np.amax(x))\n",
    "ax.set_ylim(np.amin(y), np.amax(y))\n",
    "print(\"neg=%0.3f + %0.3f*pos\"%(res.intercept,res.slope))"
   ]
  },
  {
   "cell_type": "code",
   "execution_count": 125,
   "metadata": {},
   "outputs": [],
   "source": [
    "neg-=res.intercept\n",
    "neg/=res.slope"
   ]
  },
  {
   "cell_type": "code",
   "execution_count": 52,
   "metadata": {},
   "outputs": [],
   "source": [
    "pos2= pos.copy()\n",
    "neg2= neg.copy()"
   ]
  },
  {
   "cell_type": "markdown",
   "metadata": {},
   "source": [
    "# Ewald sphere projection (optional)\n",
    "project the raw data (and the mask for defective pixels, if any) onto the Ewald sphere, knowing the camera distance, the center of the scattering pattern and the wavelenght used.\n",
    "\n",
    "pos,neg,mask_pixel_raw ---> pos2,neg2,mask_pixel\n",
    "The algorithm projects everything and then centers all the scattering patterns."
   ]
  },
  {
   "cell_type": "code",
   "execution_count": 53,
   "metadata": {},
   "outputs": [
    {
     "name": "stdout",
     "output_type": "stream",
     "text": [
      "center= [1157.11312815 1076.7163302 ] z= 0.18\n"
     ]
    }
   ],
   "source": [
    "pos2,points2, points, values=PhR.inv_gnomonic_2(CCD=pos+1000,center=center, experimental_setup = experimental_setup)"
   ]
  },
  {
   "cell_type": "code",
   "execution_count": 54,
   "metadata": {},
   "outputs": [
    {
     "name": "stdout",
     "output_type": "stream",
     "text": [
      "center= [1157.11312815 1076.7163302 ] z= 0.18\n"
     ]
    }
   ],
   "source": [
    "neg2,points2, points, values=PhR.inv_gnomonic_2(CCD=neg+1000,center=center, experimental_setup = experimental_setup)"
   ]
  },
  {
   "cell_type": "code",
   "execution_count": 129,
   "metadata": {},
   "outputs": [
    {
     "name": "stdout",
     "output_type": "stream",
     "text": [
      "center= [1157.11312815 1076.7163302 ] z= 0.18\n"
     ]
    }
   ],
   "source": [
    "if np.amin(mask_pixel_raw)<1:\n",
    "    mask_pixel,points2, points, values=PhR.inv_gnomonic_2(CCD=mask_pixel_raw,center=center, experimental_setup = experimental_setup, method=\"linear\")\n",
    "else:\n",
    "    mask_pixel=mask_pixel_raw.copy()\n",
    "mask_pixel[mask_pixel>0]=1\n",
    "mask_pixel[mask_pixel<=0]=0\n",
    "mask_pixel[pos2==0]=1"
   ]
  },
  {
   "cell_type": "code",
   "execution_count": 69,
   "metadata": {},
   "outputs": [],
   "source": [
    "pos2bis= pos2-1000\n",
    "neg2bis= neg2-1000\n",
    "mask_pixelbis= mask_pixel.copy()"
   ]
  },
  {
   "cell_type": "code",
   "execution_count": 130,
   "metadata": {},
   "outputs": [],
   "source": []
  },
  {
   "cell_type": "code",
   "execution_count": 127,
   "metadata": {},
   "outputs": [],
   "source": [
    "pos2= pos2bis.copy()\n",
    "neg2= neg2bis.copy()\n",
    "mask_pixel= mask_pixelbis.copy()"
   ]
  },
  {
   "cell_type": "markdown",
   "metadata": {},
   "source": [
    "# Get rid of useless pixels at the edge after Ewald projection"
   ]
  },
  {
   "cell_type": "code",
   "execution_count": 131,
   "metadata": {},
   "outputs": [
    {
     "data": {
      "application/vnd.jupyter.widget-view+json": {
       "model_id": "e17af92b980b45bda4865fe4b80d5a03",
       "version_major": 2,
       "version_minor": 0
      },
      "text/plain": [
       "Canvas(toolbar=Toolbar(toolitems=[('Home', 'Reset original view', 'home', 'home'), ('Back', 'Back to previous …"
      ]
     },
     "metadata": {},
     "output_type": "display_data"
    },
    {
     "data": {
      "text/plain": [
       "<matplotlib.image.AxesImage at 0x2af91138dfd0>"
      ]
     },
     "execution_count": 131,
     "metadata": {},
     "output_type": "execute_result"
    }
   ],
   "source": [
    "fig,ax=plt.subplots()\n",
    "ax.imshow(pos2*(1-mask_pixel),vmax=2000, norm=colors.LogNorm())"
   ]
  },
  {
   "cell_type": "code",
   "execution_count": 132,
   "metadata": {},
   "outputs": [
    {
     "name": "stdout",
     "output_type": "stream",
     "text": [
      "0 2047\n",
      "0 2047\n"
     ]
    }
   ],
   "source": [
    "yy,xx=np.where(mask_pixel==0)\n",
    "start_y,end_y=np.amin(yy),np.amax(yy)\n",
    "start_x,end_x=np.amin(xx),np.amax(xx)\n",
    "print(start_y,end_y)\n",
    "print(start_x,end_x)"
   ]
  },
  {
   "cell_type": "code",
   "execution_count": 133,
   "metadata": {},
   "outputs": [
    {
     "name": "stdout",
     "output_type": "stream",
     "text": [
      "2047\n"
     ]
    }
   ],
   "source": [
    "side=np.maximum(end_y-start_y,end_x-start_x)\n",
    "print(side)\n",
    "center_crop=[(start_y+end_y)//2,(start_x+end_x)//2]\n",
    "\n",
    "pos3=np.zeros((side,side))\n",
    "neg3=np.zeros((side,side))\n",
    "mask_pixel3=np.zeros((side,side))\n",
    "\n",
    "pos3[0:end_y-start_y,0:end_x-start_x]=pos2[start_y:end_y,start_x:end_x]\n",
    "neg3[0:end_y-start_y,0:end_x-start_x]=neg2[start_y:end_y,start_x:end_x]\n",
    "mask_pixel3[0:end_y-start_y,0:end_x-start_x]=mask_pixel[start_y:end_y,start_x:end_x]"
   ]
  },
  {
   "cell_type": "code",
   "execution_count": 134,
   "metadata": {},
   "outputs": [
    {
     "name": "stdout",
     "output_type": "stream",
     "text": [
      "2047\n"
     ]
    }
   ],
   "source": [
    "side=np.minimum(end_y-start_y,end_x-start_x)\n",
    "print(side)\n",
    "\n",
    "pos3=np.zeros((side,side))\n",
    "neg3=np.zeros((side,side))\n",
    "mask_pixel3=np.zeros((side,side))\n",
    "\n",
    "pos3[0:side,0:side]=pos2[start_y:start_y+side,start_x:start_x+side]\n",
    "neg3[0:side,0:side]=neg2[start_y:start_y+side,start_x:start_x+side]\n",
    "mask_pixel3[0:side,0:side]=mask_pixel[start_y:start_y+side,start_x:start_x+side]"
   ]
  },
  {
   "cell_type": "code",
   "execution_count": 135,
   "metadata": {},
   "outputs": [],
   "source": [
    "center_crop=[center[0]-start_y,center[1]-start_x]"
   ]
  },
  {
   "cell_type": "code",
   "execution_count": 136,
   "metadata": {},
   "outputs": [
    {
     "name": "stdout",
     "output_type": "stream",
     "text": [
      "Shifted image by -53 pixels in x and -134 pixels in y.\n",
      "Shifted image by -53 pixels in x and -134 pixels in y.\n",
      "Shifted image by -53 pixels in x and -134 pixels in y.\n"
     ]
    }
   ],
   "source": [
    "pos3= fth.set_center(pos3, center_crop)\n",
    "neg3= fth.set_center(neg3, center_crop)\n",
    "mask_pixel3= fth.set_center(mask_pixel3, center_crop)"
   ]
  },
  {
   "cell_type": "code",
   "execution_count": 137,
   "metadata": {},
   "outputs": [
    {
     "data": {
      "application/vnd.jupyter.widget-view+json": {
       "model_id": "dda0388f469b4f12b1a21f5284386ec4",
       "version_major": 2,
       "version_minor": 0
      },
      "text/plain": [
       "Canvas(toolbar=Toolbar(toolitems=[('Home', 'Reset original view', 'home', 'home'), ('Back', 'Back to previous …"
      ]
     },
     "metadata": {},
     "output_type": "display_data"
    },
    {
     "data": {
      "text/plain": [
       "<matplotlib.image.AxesImage at 0x2af90ddc0a58>"
      ]
     },
     "execution_count": 137,
     "metadata": {},
     "output_type": "execute_result"
    }
   ],
   "source": [
    "crop=950\n",
    "fig,ax=plt.subplots()\n",
    "ax.imshow(pos3[crop:-crop,crop:-crop])"
   ]
  },
  {
   "cell_type": "code",
   "execution_count": 138,
   "metadata": {},
   "outputs": [],
   "source": [
    "pos2=pos3.copy()\n",
    "neg2=neg3.copy()\n",
    "mask_pixel=mask_pixel3.copy()"
   ]
  },
  {
   "cell_type": "code",
   "execution_count": null,
   "metadata": {},
   "outputs": [],
   "source": []
  },
  {
   "cell_type": "markdown",
   "metadata": {},
   "source": [
    "# ROI\n",
    "\n",
    "You may select the reconstruction you want to look at. Do this by zooming into the image and putting in the x and y coordinates of the start and end points of your ROI.\n",
    "\n",
    "Click on the button when you are finished to resume the execution of the code. "
   ]
  },
  {
   "cell_type": "code",
   "execution_count": 139,
   "metadata": {},
   "outputs": [],
   "source": [
    "abs_val=pos2+neg2"
   ]
  },
  {
   "cell_type": "code",
   "execution_count": 140,
   "metadata": {},
   "outputs": [
    {
     "data": {
      "application/vnd.jupyter.widget-view+json": {
       "model_id": "4f3c45873e4c4239ac75283c9a48f9c7",
       "version_major": 2,
       "version_minor": 0
      },
      "text/plain": [
       "Canvas(toolbar=Toolbar(toolitems=[('Home', 'Reset original view', 'home', 'home'), ('Back', 'Back to previous …"
      ]
     },
     "metadata": {},
     "output_type": "display_data"
    }
   ],
   "source": [
    "ROI=True\n",
    "if ROI:\n",
    "    fig, ax = fth.plot(np.abs(fth.reconstruct(abs_val)), colorbar = False, scale = (2,96))"
   ]
  },
  {
   "cell_type": "code",
   "execution_count": 141,
   "metadata": {},
   "outputs": [],
   "source": [
    "if ROI:\n",
    "    x1, x2 = ax.get_xlim()\n",
    "    y2, y1 = ax.get_ylim()\n",
    "    side=np.maximum(x2-x1, y2-y1)/2\n",
    "    roi_array = np.array([fth.integer((x1+x2)/2-side), fth.integer((x1+x2)/2+side), fth.integer((y1+y2)/2-side), fth.integer((y1+y2)/2+side)]) #xstart, xstop, ystart, ystop\n",
    "    roi = np.s_[roi_array[2]:roi_array[3], roi_array[0]:roi_array[1]]"
   ]
  },
  {
   "cell_type": "code",
   "execution_count": 109,
   "metadata": {},
   "outputs": [],
   "source": [
    "roi=(slice(1074, 1313, None), slice(1275, 1514, None))\n",
    "roi=np.s_[1074:1313,1275:1514]"
   ]
  },
  {
   "cell_type": "markdown",
   "metadata": {},
   "source": [
    "# Check the FTH reconstruction\n",
    "use the sliders to find the right propagation distance, phase rotation or sub-pixel centering\n",
    "You can select different modes of representation:\n",
    "\n",
    "mode=\n",
    "- \\- : difference of the two images;\n",
    "- \\+ : sum of the two helicities, for topography image;\n",
    "- / : ratio between the two images;\n",
    "- -/+: ratio between difference and sum of the two helicity images"
   ]
  },
  {
   "cell_type": "code",
   "execution_count": 218,
   "metadata": {},
   "outputs": [
    {
     "data": {
      "application/vnd.jupyter.widget-view+json": {
       "model_id": "d0fc8d4bf27e48a18634dfe0fafc8bbe",
       "version_major": 2,
       "version_minor": 0
      },
      "text/plain": [
       "Canvas(toolbar=Toolbar(toolitems=[('Home', 'Reset original view', 'home', 'home'), ('Back', 'Back to previous …"
      ]
     },
     "metadata": {},
     "output_type": "display_data"
    },
    {
     "data": {
      "application/vnd.jupyter.widget-view+json": {
       "model_id": "32792ea203554621922402fcb932e97b",
       "version_major": 2,
       "version_minor": 0
      },
      "text/plain": [
       "interactive(children=(FloatSlider(value=0.0, description='propagation[um]', layout=Layout(width='90%'), max=2.…"
      ]
     },
     "metadata": {},
     "output_type": "display_data"
    }
   ],
   "source": [
    "prop_dist_holo,phase_holo,dx_holo,dy_holo = 0,0,0,0\n",
    "mode='+'\n",
    "slider_prop,slider_phase, slider_dx, slider_dy = rec.focus(pos2, neg2, roi=np.s_[:,:], mask=1,prop_dist=prop_dist_holo,\n",
    "                                                                           phase=phase_holo,dx=dx_holo,dy=dy_holo, experimental_setup=experimental_setup, operation=mode, max_prop_dist=2)"
   ]
  },
  {
   "cell_type": "code",
   "execution_count": 145,
   "metadata": {},
   "outputs": [],
   "source": [
    "prop_dist_holo=slider_prop.value\n",
    "phase_holo = slider_phase.value\n",
    "dx_holo = slider_dx.value\n",
    "dy_holo = slider_dy.value"
   ]
  },
  {
   "cell_type": "code",
   "execution_count": 149,
   "metadata": {},
   "outputs": [
    {
     "data": {
      "text/plain": [
       "<module 'Phase_Retrieval' from './library/Phase_Retrieval.py'>"
      ]
     },
     "execution_count": 149,
     "metadata": {},
     "output_type": "execute_result"
    }
   ],
   "source": [
    "from importlib import reload\n",
    "reload(PhR)"
   ]
  },
  {
   "cell_type": "markdown",
   "metadata": {},
   "source": [
    "# Select the support mask for the phase retrieval\n",
    "Zoom on all RH and on the OH, everytime press on the button \"Add RH\". Then you will be able to individually threshold each aperture to create your support mask\n",
    "The first RH would be the one on the center. Just zoom on another one to get the size precisely, the code will place that on the center automatically"
   ]
  },
  {
   "cell_type": "code",
   "execution_count": 155,
   "metadata": {},
   "outputs": [],
   "source": [
    "RHdict={}"
   ]
  },
  {
   "cell_type": "code",
   "execution_count": 156,
   "metadata": {},
   "outputs": [
    {
     "data": {
      "application/vnd.jupyter.widget-view+json": {
       "model_id": "64f6f95b9b6b4603ab31baef7623bbe8",
       "version_major": 2,
       "version_minor": 0
      },
      "text/plain": [
       "Canvas(toolbar=Toolbar(toolitems=[('Home', 'Reset original view', 'home', 'home'), ('Back', 'Back to previous …"
      ]
     },
     "metadata": {},
     "output_type": "display_data"
    },
    {
     "data": {
      "application/vnd.jupyter.widget-view+json": {
       "model_id": "31851965cedf4648a8bd28ff2c9cdf56",
       "version_major": 2,
       "version_minor": 0
      },
      "text/plain": [
       "Button(description='Add RH', style=ButtonStyle())"
      ]
     },
     "metadata": {},
     "output_type": "display_data"
    },
    {
     "data": {
      "application/vnd.jupyter.widget-view+json": {
       "model_id": "b4ac4c5148c2404983e1b0cdd08ae5e9",
       "version_major": 2,
       "version_minor": 0
      },
      "text/plain": [
       "Output()"
      ]
     },
     "metadata": {},
     "output_type": "display_data"
    }
   ],
   "source": [
    "RHdict=PhR.holomask(holo=abs_val,plot_max=98.0, RHdict=RHdict)"
   ]
  },
  {
   "cell_type": "markdown",
   "metadata": {},
   "source": [
    "# Build and visualize mask + artificial BS\n",
    "\n",
    "set a maxium value with the sliders. Only regions included before where the image exceeds your value will be included in the support.\n",
    "You can select maxim values for OH and for references separately."
   ]
  },
  {
   "cell_type": "code",
   "execution_count": 157,
   "metadata": {},
   "outputs": [
    {
     "data": {
      "text/plain": [
       "{'RH1': {'#': 1, 'r': 13, 'x': 1023, 'y': 1023},\n",
       " 'RH2': {'#': 2, 'r': 16, 'x': 763, 'y': 163},\n",
       " 'RH3': {'#': 3, 'r': 19, 'x': 305, 'y': 482},\n",
       " 'RH4': {'#': 4, 'r': 15, 'x': 466, 'y': 1015},\n",
       " 'RH5': {'#': 5, 'r': 15, 'x': 1207, 'y': 495},\n",
       " 'RH6': {'#': 6, 'r': 138, 'x': 754, 'y': 638}}"
      ]
     },
     "execution_count": 157,
     "metadata": {},
     "output_type": "execute_result"
    }
   ],
   "source": [
    "RHdict[\"RH1\"][\"x\"]=abs_val.shape[1]//2\n",
    "RHdict[\"RH1\"][\"y\"]=abs_val.shape[0]//2\n",
    "RHdict"
   ]
  },
  {
   "cell_type": "code",
   "execution_count": 158,
   "metadata": {},
   "outputs": [],
   "source": [
    "mask_holes=np.zeros(abs_val.shape)\n",
    "\n",
    "for key,i in RHdict.items():\n",
    "    yy,xx=circle(i[\"y\"], i[\"x\"], i[\"r\"])\n",
    "    mask_holes[yy,xx]=i[\"#\"]"
   ]
  },
  {
   "cell_type": "code",
   "execution_count": 161,
   "metadata": {},
   "outputs": [
    {
     "data": {
      "application/vnd.jupyter.widget-view+json": {
       "model_id": "fff45cd3953c4c04aa3646429deab36d",
       "version_major": 2,
       "version_minor": 0
      },
      "text/plain": [
       "Canvas(toolbar=Toolbar(toolitems=[('Home', 'Reset original view', 'home', 'home'), ('Back', 'Back to previous …"
      ]
     },
     "metadata": {},
     "output_type": "display_data"
    },
    {
     "data": {
      "application/vnd.jupyter.widget-view+json": {
       "model_id": "4e23bbb6d56b4144ad3bd05502abcfa6",
       "version_major": 2,
       "version_minor": 0
      },
      "text/plain": [
       "interactive(children=(FloatSlider(value=0.0, description='vmax_OH', layout=Layout(width='90%'), max=350.0, ste…"
      ]
     },
     "metadata": {},
     "output_type": "display_data"
    },
    {
     "data": {
      "text/plain": [
       "<function __main__.p(x, y, z, k, w, l)>"
      ]
     },
     "execution_count": 161,
     "metadata": {},
     "output_type": "execute_result"
    }
   ],
   "source": [
    "reco=np.abs(fth.reconstruct(abs_val))\n",
    "fig, ax = plt.subplots()\n",
    "def p(x,y,z,k,w,l):\n",
    "    \n",
    "    hole_array=[x,y,z,k,w,l]\n",
    "    \n",
    "    toplot=np.zeros(reco.shape)\n",
    "    for i in range(0,len(RHdict.keys())):\n",
    "        toplot+=(reco*(mask_holes==(i+1))>hole_array[i])\n",
    "\n",
    "    ax.imshow(toplot,cmap='binary')\n",
    "    \n",
    "\n",
    "    return\n",
    "\n",
    "layout = widgets.Layout(width='90%')\n",
    "style = {'description_width': 'initial'}\n",
    "\n",
    "max_slider=350\n",
    "\n",
    "slider_max_OH = widgets.FloatSlider(min = 0 , max = max_slider, step=0.0001, value= 0 , layout=layout,\n",
    "                                   description = 'vmax_OH', style=style)\n",
    "slider_max_ref = widgets.FloatSlider(min = 0 , max = max_slider, step=0.001, value= 20 , layout=layout,\n",
    "                                   description = 'vmax_ref', style=style)\n",
    "slider_max_ref2 = widgets.FloatSlider(min = 0 , max =max_slider, step=0.001, value= 3 , layout=layout,\n",
    "                                   description = 'vmax_ref2', style=style)\n",
    "slider_max_ref3 = widgets.FloatSlider(min = 0 , max = max_slider, step=0.001, value= 0.6 , layout=layout,\n",
    "                                   description = 'vmax_ref3', style=style)\n",
    "slider_max_ref4 = widgets.FloatSlider(min = 0 , max = max_slider, step=0.001, value= 0.9 , layout=layout,\n",
    "                                   description = 'vmax_ref4', style=style)\n",
    "slider_max_ref5 = widgets.FloatSlider(min = 0 , max = max_slider, step=0.001, value= 0.9 , layout=layout,\n",
    "                                   description = 'vmax_ref5', style=style)\n",
    "\n",
    "widgets.interact(p, x=slider_max_OH,y=slider_max_ref, z=slider_max_ref2, k=slider_max_ref3, w=slider_max_ref4, l=slider_max_ref5)"
   ]
  },
  {
   "cell_type": "code",
   "execution_count": 162,
   "metadata": {},
   "outputs": [],
   "source": [
    "vmax=[slider_max_OH.value,slider_max_ref.value,slider_max_ref2.value,slider_max_ref3.value,slider_max_ref4.value,slider_max_ref5.value]"
   ]
  },
  {
   "cell_type": "code",
   "execution_count": 163,
   "metadata": {},
   "outputs": [],
   "source": [
    "reco=np.abs(fth.reconstruct(abs_val))\n",
    "supportmask=np.zeros(reco.shape)\n",
    "for i in range(0,len(RHdict.keys())):\n",
    "    supportmask+=reco*(mask_holes==(i+1))>vmax[i]\n",
    "supportmask= np.minimum(supportmask, np.ones((supportmask.shape[0],supportmask.shape[1])))"
   ]
  },
  {
   "cell_type": "code",
   "execution_count": 164,
   "metadata": {},
   "outputs": [
    {
     "data": {
      "application/vnd.jupyter.widget-view+json": {
       "model_id": "3d5948be5cc64a82b2f73e6d6263956f",
       "version_major": 2,
       "version_minor": 0
      },
      "text/plain": [
       "Canvas(toolbar=Toolbar(toolitems=[('Home', 'Reset original view', 'home', 'home'), ('Back', 'Back to previous …"
      ]
     },
     "metadata": {},
     "output_type": "display_data"
    },
    {
     "data": {
      "text/plain": [
       "<matplotlib.image.AxesImage at 0x2af90e4d2048>"
      ]
     },
     "execution_count": 164,
     "metadata": {},
     "output_type": "execute_result"
    }
   ],
   "source": [
    "yy,xx=np.where(supportmask==1)\n",
    "ymin,ymax=np.amin(yy), np.amax(yy)\n",
    "xmin,xmax=np.amin(xx), np.amax(xx)\n",
    "\n",
    "fig,ax=plt.subplots( figsize=(5,5))\n",
    "ax.set_title(\"your support mask\")\n",
    "ax.imshow(supportmask[ymin-10:ymax+10,xmin-10:xmax+10], cmap=\"binary\")"
   ]
  },
  {
   "cell_type": "code",
   "execution_count": 165,
   "metadata": {},
   "outputs": [],
   "source": [
    "np.save(\"supportmask.npy\",supportmask)"
   ]
  },
  {
   "cell_type": "code",
   "execution_count": 86,
   "metadata": {},
   "outputs": [],
   "source": [
    "supportmask=np.load(\"supportmask.npy\")"
   ]
  },
  {
   "cell_type": "markdown",
   "metadata": {},
   "source": [
    "# Normalize pos2 and neg2"
   ]
  },
  {
   "cell_type": "code",
   "execution_count": 166,
   "metadata": {},
   "outputs": [],
   "source": [
    "negative_roi=pos2*0+1*supportmask\n",
    "negative_roi[roi]=0"
   ]
  },
  {
   "cell_type": "code",
   "execution_count": 167,
   "metadata": {},
   "outputs": [],
   "source": [
    "x=(np.abs(fth.reconstruct(pos2))[negative_roi==1]).flatten()\n",
    "y=(np.abs(fth.reconstruct(neg2))[negative_roi==1]).flatten()"
   ]
  },
  {
   "cell_type": "code",
   "execution_count": 168,
   "metadata": {},
   "outputs": [
    {
     "data": {
      "application/vnd.jupyter.widget-view+json": {
       "model_id": "752886be1fe241fcb40c1ff87b5ab261",
       "version_major": 2,
       "version_minor": 0
      },
      "text/plain": [
       "Canvas(toolbar=Toolbar(toolitems=[('Home', 'Reset original view', 'home', 'home'), ('Back', 'Back to previous …"
      ]
     },
     "metadata": {},
     "output_type": "display_data"
    },
    {
     "name": "stdout",
     "output_type": "stream",
     "text": [
      "neg2= 0.0 + 1.0 *pos\n"
     ]
    }
   ],
   "source": [
    "fig,ax=plt.subplots()\n",
    "ax.scatter(x,y, marker='.',s=1)\n",
    "ax.set_xlabel(\"pos2\")\n",
    "ax.set_ylabel(\"neg2\")\n",
    "res = stats.linregress(x,y)\n",
    "values=np.array([np.amin(x), np.amax(x)])\n",
    "ax.plot(values,   res.slope*(values)+res.intercept, 'b', label='fit')\n",
    "#ax.set_yscale(\"log\")\n",
    "#ax.set_xscale(\"log\")\n",
    "ax.set_xlim(np.amin(x), np.amax(x))\n",
    "ax.set_ylim(np.amin(y), np.amax(y))\n",
    "print(\"neg2=\",res.intercept,\"+\",res.slope,\"*pos\")"
   ]
  },
  {
   "cell_type": "code",
   "execution_count": 169,
   "metadata": {},
   "outputs": [],
   "source": [
    "neg2-=res.intercept\n",
    "neg2/=res.slope"
   ]
  },
  {
   "cell_type": "markdown",
   "metadata": {},
   "source": [
    "# take out offset\n",
    "first select a range of values, then find a value to be subtracted to the scattering patterns so that there is no constant background and the lower values of the outer fringes of the hologram is 0\n",
    "The code will subtract the offset. In case of pixels with negative values, they will later be set to 0 for phase retrieval (as the square root of intensity is needed"
   ]
  },
  {
   "cell_type": "code",
   "execution_count": 170,
   "metadata": {},
   "outputs": [],
   "source": [
    "offset={'+':0,'-':0}"
   ]
  },
  {
   "cell_type": "markdown",
   "metadata": {},
   "source": [
    "positive helicity first"
   ]
  },
  {
   "cell_type": "code",
   "execution_count": 171,
   "metadata": {},
   "outputs": [
    {
     "data": {
      "application/vnd.jupyter.widget-view+json": {
       "model_id": "87473743a65348429300ca57f322836b",
       "version_major": 2,
       "version_minor": 0
      },
      "text/plain": [
       "Canvas(toolbar=Toolbar(toolitems=[('Home', 'Reset original view', 'home', 'home'), ('Back', 'Back to previous …"
      ]
     },
     "metadata": {},
     "output_type": "display_data"
    },
    {
     "data": {
      "text/plain": [
       "[<matplotlib.lines.Line2D at 0x2af90e623a58>]"
      ]
     },
     "execution_count": 171,
     "metadata": {},
     "output_type": "execute_result"
    }
   ],
   "source": [
    "from matplotlib.gridspec import GridSpec\n",
    "holo_pos=pos2.copy()\n",
    "#Scan on line\n",
    "line=holo_pos.shape[0]//2\n",
    "cropping=0\n",
    "from_to=[cropping,holo_pos.shape[0]-cropping]\n",
    "dir='h'\n",
    "\n",
    "lineavg=1\n",
    "linewidth=np.maximum(lineavg,2)\n",
    "recon=holo_pos\n",
    "\n",
    "line_mark=np.zeros(recon.shape)\n",
    "if dir=='h':\n",
    "    linescan=recon[line-lineavg//2:line+lineavg//2+1,from_to[0]:from_to[1]]\n",
    "    linescan=np.sum(linescan, axis=0)\n",
    "    line_mark[line-linewidth:line+linewidth,from_to[0]:from_to[1]]=1\n",
    "    index=1\n",
    "    linescan_reduced=recon[line,from_to[0]:from_to[1]]\n",
    "elif dir=='v':\n",
    "    linescan=recon[from_to[0]:from_to[1],line-lineavg//2:line+lineavg//2+1]\n",
    "    linescan=np.sum(linescan, axis=1)\n",
    "    line_mark[from_to[0]:from_to[1],line-linewidth:line+linewidth]=1\n",
    "    index=0\n",
    "    linescan_reduced=recon[from_to[0]:from_to[1],line]\n",
    "line_mark=np.ma.masked_where(line_mark==0, line_mark)\n",
    "\n",
    "f = plt.figure()\n",
    "gs=GridSpec(1,2, left=0, right=0.98,top=0.77, bottom=0.23)\n",
    "ax = f.add_subplot(gs[0,0])\n",
    "ax2 = f.add_subplot(gs[0,1])\n",
    "ax.set_title('Far field image - + hel.')\n",
    "mi, ma = np.percentile(recon, (0,90))\n",
    "ax.imshow(recon[from_to[0]:from_to[1],from_to[0]:from_to[1]],vmin=mi,vmax=ma,cmap='coolwarm')\n",
    "#ax.imshow(line_mark[from_to[0]:from_to[1],from_to[0]:from_to[1]],vmin=0,vmax=1,cmap='binary')\n",
    "#ax.imshow(satmap[from_to[0]:from_to[1],from_to[0]:from_to[1]], vmin = -1+0.01, vmax = 8+0.01,cmap='Set1',alpha=0.4)\n",
    "\n",
    "title='linescan - select yrange here'\n",
    "ax2.set_title(title)\n",
    "ax2.set_xlabel('pixels')\n",
    "ax2.set_ylabel('electrons')\n",
    "#ax2.plot(np.linspace(from_to[0], from_to[1],from_to[1]-from_to[0]), np.log10(linescan), '-')\n",
    "ax2.set_yscale('log')\n",
    "#ax2.set_ylim(0,10000000)\n",
    "ax2.plot(np.linspace(from_to[0], from_to[1],from_to[1]-from_to[0]), (linescan), '-')"
   ]
  },
  {
   "cell_type": "code",
   "execution_count": 172,
   "metadata": {},
   "outputs": [],
   "source": [
    "ymin, ymax = ax2.get_ylim()"
   ]
  },
  {
   "cell_type": "code",
   "execution_count": 173,
   "metadata": {},
   "outputs": [
    {
     "data": {
      "application/vnd.jupyter.widget-view+json": {
       "model_id": "f0d814bff387414ea197e0d444332633",
       "version_major": 2,
       "version_minor": 0
      },
      "text/plain": [
       "Canvas(toolbar=Toolbar(toolitems=[('Home', 'Reset original view', 'home', 'home'), ('Back', 'Back to previous …"
      ]
     },
     "metadata": {},
     "output_type": "display_data"
    },
    {
     "data": {
      "application/vnd.jupyter.widget-view+json": {
       "model_id": "509c35ed22864b098d1cb87fd4b60789",
       "version_major": 2,
       "version_minor": 0
      },
      "text/plain": [
       "interactive(children=(FloatSlider(value=0.0, description='offset', layout=Layout(width='90%'), max=1414.0, min…"
      ]
     },
     "metadata": {},
     "output_type": "display_data"
    },
    {
     "data": {
      "text/plain": [
       "<function __main__.p(x)>"
      ]
     },
     "execution_count": 173,
     "metadata": {},
     "output_type": "execute_result"
    }
   ],
   "source": [
    "fig, ax = plt.subplots()\n",
    "def p(x):\n",
    "    toplot=holo_pos<x\n",
    "    toplot=np.ones(holo_pos.shape)*toplot\n",
    "    ax.imshow(toplot, cmap=\"binary\")\n",
    "\n",
    "    return\n",
    "\n",
    "layout = widgets.Layout(width='90%')\n",
    "style = {'description_width': 'initial'}\n",
    "\n",
    "slider_offset = widgets.FloatSlider(min = fth.integer(ymin)-770 , max = fth.integer(ymax), step=1, value= offset['+'] , layout=layout, description = 'offset', style=style)\n",
    "\n",
    "widgets.interact(p, x=slider_offset)"
   ]
  },
  {
   "cell_type": "code",
   "execution_count": 174,
   "metadata": {},
   "outputs": [],
   "source": [
    "offset['+']=slider_offset.value"
   ]
  },
  {
   "cell_type": "markdown",
   "metadata": {},
   "source": [
    "negative helcity second"
   ]
  },
  {
   "cell_type": "code",
   "execution_count": 175,
   "metadata": {},
   "outputs": [
    {
     "data": {
      "application/vnd.jupyter.widget-view+json": {
       "model_id": "3980afe7bc1e44e792216a101a8372b2",
       "version_major": 2,
       "version_minor": 0
      },
      "text/plain": [
       "Canvas(toolbar=Toolbar(toolitems=[('Home', 'Reset original view', 'home', 'home'), ('Back', 'Back to previous …"
      ]
     },
     "metadata": {},
     "output_type": "display_data"
    },
    {
     "data": {
      "text/plain": [
       "[<matplotlib.lines.Line2D at 0x2af90e810470>]"
      ]
     },
     "execution_count": 175,
     "metadata": {},
     "output_type": "execute_result"
    }
   ],
   "source": [
    "holo_pos=neg2.copy()\n",
    "#Scan on line\n",
    "line=holo_pos.shape[0]//2\n",
    "cropping=0\n",
    "from_to=[cropping,holo_pos.shape[0]-cropping]\n",
    "dir='h'\n",
    "\n",
    "lineavg=1\n",
    "linewidth=np.maximum(lineavg,2)\n",
    "recon=holo_pos\n",
    "\n",
    "line_mark=np.zeros(recon.shape)\n",
    "if dir=='h':\n",
    "    linescan=recon[line-lineavg//2:line+lineavg//2+1,from_to[0]:from_to[1]]\n",
    "    linescan=np.sum(linescan, axis=0)\n",
    "    line_mark[line-linewidth:line+linewidth,from_to[0]:from_to[1]]=1\n",
    "    index=1\n",
    "    linescan_reduced=recon[line,from_to[0]:from_to[1]]\n",
    "elif dir=='v':\n",
    "    linescan=recon[from_to[0]:from_to[1],line-lineavg//2:line+lineavg//2+1]\n",
    "    linescan=np.sum(linescan, axis=1)\n",
    "    line_mark[from_to[0]:from_to[1],line-linewidth:line+linewidth]=1\n",
    "    index=0\n",
    "    linescan_reduced=recon[from_to[0]:from_to[1],line]\n",
    "line_mark=np.ma.masked_where(line_mark==0, line_mark)\n",
    "\n",
    "f = plt.figure()\n",
    "gs=GridSpec(1,2, left=0, right=0.98,top=0.77, bottom=0.23)\n",
    "ax = f.add_subplot(gs[0,0])\n",
    "ax2 = f.add_subplot(gs[0,1])\n",
    "ax.set_title('Far field image - + hel.')\n",
    "mi, ma = np.percentile(recon, (0,90))\n",
    "ax.imshow(recon[from_to[0]:from_to[1],from_to[0]:from_to[1]],vmin=mi,vmax=ma,cmap='coolwarm')\n",
    "#ax.imshow(line_mark[from_to[0]:from_to[1],from_to[0]:from_to[1]],vmin=0,vmax=1,cmap='binary')\n",
    "#ax.imshow(satmap[from_to[0]:from_to[1],from_to[0]:from_to[1]], vmin = -1+0.01, vmax = 8+0.01,cmap='Set1',alpha=0.4)\n",
    "\n",
    "title='linescan - select yrange here'\n",
    "ax2.set_title(title)\n",
    "ax2.set_xlabel('pixels')\n",
    "ax2.set_ylabel('electrons')\n",
    "#ax2.plot(np.linspace(from_to[0], from_to[1],from_to[1]-from_to[0]), np.log10(linescan), '-')\n",
    "ax2.set_yscale('log')\n",
    "#ax2.set_ylim(0,10000000)\n",
    "ax2.plot(np.linspace(from_to[0], from_to[1],from_to[1]-from_to[0]), (linescan), '-')"
   ]
  },
  {
   "cell_type": "code",
   "execution_count": 119,
   "metadata": {},
   "outputs": [],
   "source": [
    "ymin, ymax = ax2.get_ylim()"
   ]
  },
  {
   "cell_type": "code",
   "execution_count": 176,
   "metadata": {},
   "outputs": [
    {
     "data": {
      "application/vnd.jupyter.widget-view+json": {
       "model_id": "b7bf283a2e0a45ecb49babe4a20f0b55",
       "version_major": 2,
       "version_minor": 0
      },
      "text/plain": [
       "Canvas(toolbar=Toolbar(toolitems=[('Home', 'Reset original view', 'home', 'home'), ('Back', 'Back to previous …"
      ]
     },
     "metadata": {},
     "output_type": "display_data"
    },
    {
     "data": {
      "application/vnd.jupyter.widget-view+json": {
       "model_id": "550d83da60a5422f9520c89779d8e93f",
       "version_major": 2,
       "version_minor": 0
      },
      "text/plain": [
       "interactive(children=(FloatSlider(value=454.0, description='offset', layout=Layout(width='90%'), max=1414.0, m…"
      ]
     },
     "metadata": {},
     "output_type": "display_data"
    },
    {
     "data": {
      "text/plain": [
       "<function __main__.p(x)>"
      ]
     },
     "execution_count": 176,
     "metadata": {},
     "output_type": "execute_result"
    }
   ],
   "source": [
    "fig, ax = plt.subplots()\n",
    "def p(x):\n",
    "    toplot=holo_pos<x\n",
    "    toplot=np.ones(holo_pos.shape)*toplot\n",
    "    ax.imshow(toplot, cmap=\"binary\")\n",
    "\n",
    "    return\n",
    "\n",
    "layout = widgets.Layout(width='90%')\n",
    "style = {'description_width': 'initial'}\n",
    "\n",
    "slider_offset = widgets.FloatSlider(min = fth.integer(ymin)-50 , max = fth.integer(ymax), step=1, value= offset['-'] , layout=layout, description = 'offset', style=style)\n",
    "\n",
    "widgets.interact(p, x=slider_offset)"
   ]
  },
  {
   "cell_type": "code",
   "execution_count": 177,
   "metadata": {},
   "outputs": [],
   "source": [
    "offset['-']=slider_offset.value"
   ]
  },
  {
   "cell_type": "code",
   "execution_count": 178,
   "metadata": {},
   "outputs": [],
   "source": [
    "pos2=pos2-offset['+']\n",
    "neg2=neg2-offset['-']"
   ]
  },
  {
   "cell_type": "code",
   "execution_count": 182,
   "metadata": {},
   "outputs": [
    {
     "data": {
      "application/vnd.jupyter.widget-view+json": {
       "model_id": "78ea50a5fbc44475bc313c6210a6a520",
       "version_major": 2,
       "version_minor": 0
      },
      "text/plain": [
       "Canvas(toolbar=Toolbar(toolitems=[('Home', 'Reset original view', 'home', 'home'), ('Back', 'Back to previous …"
      ]
     },
     "metadata": {},
     "output_type": "display_data"
    }
   ],
   "source": [
    "fig,ax=plt.subplots(1,2, figsize=(10,5))\n",
    "ax[0].plot(pos2[:,pos.shape[0]//2])\n",
    "ax[0].plot(neg2[:,pos.shape[0]//2])\n",
    "#ax[0].set_ylim(100,160000)\n",
    "ax[0].set_yscale(\"log\")\n",
    "ax[1].plot(np.abs(pos2-neg2)[:,pos.shape[0]//2])\n",
    "#ax[1].set_ylim(-100000,100000)\n",
    "ax[1].set_yscale(\"log\")"
   ]
  },
  {
   "cell_type": "code",
   "execution_count": 289,
   "metadata": {},
   "outputs": [],
   "source": [
    "pos_cropped,neg_cropped, mask_pixel_cropped, roi_cropped_array, supportmask_cropped=pos2.copy(), neg2.copy(), mask_pixel.copy(), roi_array.copy(), supportmask.copy()\n",
    "roi_cropped=np.s_[roi_cropped_array[2]:roi_cropped_array[3], roi_cropped_array[0]: roi_cropped_array[1]]"
   ]
  },
  {
   "cell_type": "markdown",
   "metadata": {},
   "source": [
    "# crop if needed"
   ]
  },
  {
   "cell_type": "code",
   "execution_count": 263,
   "metadata": {},
   "outputs": [],
   "source": [
    "crop=700\n",
    "pos_cropped,neg_cropped, mask_pixel_cropped=pos2[crop:-crop,crop:-crop],neg2[crop:-crop,crop:-crop], mask_pixel[crop:-crop,crop:-crop]"
   ]
  },
  {
   "cell_type": "code",
   "execution_count": 280,
   "metadata": {},
   "outputs": [],
   "source": [
    "roi_array_cropped=roi_array*(pos_cropped.shape[0]/pos2.shape[0])\n",
    "roi_array_cropped=roi_array_cropped.astype(int)\n",
    "roi_cropped = np.s_[roi_array_cropped[2]:roi_array_cropped[3], roi_array_cropped[0]:roi_array_cropped[1]]"
   ]
  },
  {
   "cell_type": "code",
   "execution_count": 281,
   "metadata": {},
   "outputs": [
    {
     "data": {
      "text/plain": [
       "array([193, 284, 156, 247])"
      ]
     },
     "execution_count": 281,
     "metadata": {},
     "output_type": "execute_result"
    }
   ],
   "source": [
    "roi_array_cropped"
   ]
  },
  {
   "cell_type": "code",
   "execution_count": 279,
   "metadata": {},
   "outputs": [
    {
     "data": {
      "text/plain": [
       "array([193.43624817, 284.14899853, 156.45578896, 247.16853933])"
      ]
     },
     "execution_count": 279,
     "metadata": {},
     "output_type": "execute_result"
    }
   ],
   "source": []
  },
  {
   "cell_type": "code",
   "execution_count": 272,
   "metadata": {},
   "outputs": [],
   "source": [
    "thr=0.5\n",
    "supportmask_cropped=fth.reconstruct(fth.reconstructCDI(supportmask)[crop:-crop,crop:-crop])\n",
    "supportmask_cropped=1*(np.abs(supportmask_cropped)>1)"
   ]
  },
  {
   "cell_type": "code",
   "execution_count": 273,
   "metadata": {},
   "outputs": [
    {
     "data": {
      "application/vnd.jupyter.widget-view+json": {
       "model_id": "837a7e577519491e8be1d95db02af908",
       "version_major": 2,
       "version_minor": 0
      },
      "text/plain": [
       "Canvas(toolbar=Toolbar(toolitems=[('Home', 'Reset original view', 'home', 'home'), ('Back', 'Back to previous …"
      ]
     },
     "metadata": {},
     "output_type": "display_data"
    },
    {
     "data": {
      "text/plain": [
       "<matplotlib.image.AxesImage at 0x2af94746ccf8>"
      ]
     },
     "execution_count": 273,
     "metadata": {},
     "output_type": "execute_result"
    }
   ],
   "source": [
    "fig,ax=plt.subplots(2,2)\n",
    "ax[0,0].imshow(pos2, norm=colors.LogNorm())\n",
    "ax[0,1].imshow(supportmask, vmin=0, vmax=1)\n",
    "ax[1,0].imshow(pos_cropped, norm=colors.LogNorm())\n",
    "ax[1,1].imshow(supportmask_cropped, vmin=0, vmax=1)"
   ]
  },
  {
   "cell_type": "markdown",
   "metadata": {},
   "source": [
    "# FULLY COHERENT PHASE RETRIEVAL\n",
    "Now you will retrieve the phase from the scattering pattern collected.\n",
    "First, if necessary and if it's not already included in mask_pixel, select the diameter of the beamstop. The pixels inside this diameter will be masked and the magnitude constraint will not be applied to them.\n",
    "bsmask_p and bsmask_n are the set of points with incorrect values (covered by BS, hot and cold pixels, pixels with negative values after offset subtraction). They will be masked during phase retrieval and the magnitude constraint will not be imposed on them."
   ]
  },
  {
   "cell_type": "code",
   "execution_count": 290,
   "metadata": {},
   "outputs": [],
   "source": [
    "bs_diam=0\n",
    "BS2=[pos_cropped.shape[0]//2,pos_cropped.shape[1]//2,bs_diam//2]\n",
    "yy,xx = circle(pos_cropped.shape[0]//2, pos_cropped.shape[1]//2, bs_diam//2)\n",
    "\n",
    "real_object=False"
   ]
  },
  {
   "cell_type": "code",
   "execution_count": 291,
   "metadata": {},
   "outputs": [],
   "source": [
    "bsmask_p=mask_pixel_cropped.copy()\n",
    "bsmask_p[pos_cropped<=0]=1\n",
    "bsmask_p[yy,xx]=1\n",
    "bsmask_n=mask_pixel_cropped.copy()\n",
    "bsmask_n[neg_cropped<=0]=1\n",
    "bsmask_n[yy,xx]=1"
   ]
  },
  {
   "cell_type": "markdown",
   "metadata": {},
   "source": [
    "### select a starting guess for your phase retrieval algorithm\n",
    "\n",
    "Startimage = 0 will make you start with a random phase.\n",
    "Every other complex array as an input will be used as the starting phase for the algorithm. Popular choices are, for example, the fourier transform of the FTH reconstruction of pos2 multiplied by the support mask, or just the support mask multiplied by a factor."
   ]
  },
  {
   "cell_type": "code",
   "execution_count": 292,
   "metadata": {},
   "outputs": [],
   "source": [
    "prop_dist,phase,dx,dy=0,0,0,0\n",
    "prop_dist_pc,phase_pc,dx_pc,dy_pc=0,0,0,0"
   ]
  },
  {
   "cell_type": "code",
   "execution_count": 293,
   "metadata": {},
   "outputs": [
    {
     "name": "stdout",
     "output_type": "stream",
     "text": [
      "CDI - larger mask\n",
      "############ 0   -   CDI\n",
      "using phase given\n",
      "mode= RAAR     beta_mode= arctan\n",
      "# 0    beta= 0.9354686820426836    Error_diffr= 8.786526843385428    Error_supp= -40.95432299282269\n",
      "# 349    beta= 0.7414550869157752    Error_diffr= -7.59643608807965    Error_supp= -43.707161528992756\n",
      "# 698    beta= 0.544772880989826    Error_diffr= -13.583604821931388    Error_supp= -43.60265525969375\n",
      "using phase given\n",
      "mode= ER     beta_mode= const\n",
      "# 0    beta= 0.5    Error_diffr= -15.123692328088133    Error_supp= -43.59850462251256\n",
      "# 24    beta= 0.5    Error_diffr= -15.129305955537264    Error_supp= -43.59731667733235\n",
      "# 48    beta= 0.5    Error_diffr= -15.132977652271771    Error_supp= -43.596215752347625\n",
      "using phase given\n",
      "mode= ER     beta_mode= const\n",
      "# 0    beta= 0.5    Error_diffr= -15.000190643340295    Error_supp= -43.64353351320655\n",
      "# 24    beta= 0.5    Error_diffr= -15.009348420285296    Error_supp= -43.67349665700502\n",
      "# 48    beta= 0.5    Error_diffr= -15.01278897909048    Error_supp= -43.673820010668905\n"
     ]
    },
    {
     "data": {
      "application/vnd.jupyter.widget-view+json": {
       "model_id": "8c03a5bb235c4cc1a14b9837e87e8eea",
       "version_major": 2,
       "version_minor": 0
      },
      "text/plain": [
       "Canvas(toolbar=Toolbar(toolitems=[('Home', 'Reset original view', 'home', 'home'), ('Back', 'Back to previous …"
      ]
     },
     "metadata": {},
     "output_type": "display_data"
    },
    {
     "data": {
      "application/vnd.jupyter.widget-view+json": {
       "model_id": "9b978883529448d4a0b8c68b6fe4fb3a",
       "version_major": 2,
       "version_minor": 0
      },
      "text/plain": [
       "interactive(children=(FloatSlider(value=0.0, description='propagation[um]', layout=Layout(width='90%'), max=0.…"
      ]
     },
     "metadata": {},
     "output_type": "display_data"
    },
    {
     "data": {
      "application/vnd.jupyter.widget-view+json": {
       "model_id": "44daaed732d64f3394b170cacf4c70a8",
       "version_major": 2,
       "version_minor": 0
      },
      "text/plain": [
       "Canvas(toolbar=Toolbar(toolitems=[('Home', 'Reset original view', 'home', 'home'), ('Back', 'Back to previous …"
      ]
     },
     "metadata": {},
     "output_type": "display_data"
    },
    {
     "data": {
      "application/vnd.jupyter.widget-view+json": {
       "model_id": "2bf148b63fcf4f19b158a1e9f82d98d8",
       "version_major": 2,
       "version_minor": 0
      },
      "text/plain": [
       "interactive(children=(FloatSlider(value=0.0, description='propagation[um]', layout=Layout(width='90%'), max=0.…"
      ]
     },
     "metadata": {},
     "output_type": "display_data"
    },
    {
     "name": "stdout",
     "output_type": "stream",
     "text": [
      "############ 0   -   CDI_pc\n",
      "using phase given\n",
      "mode= RAAR     beta_mode= arctan\n",
      "# 0    beta= 0.9354686820426836    Error_diffr= (-0.00018091402846586626+4.509562856400047e-21j)    Error_supp= -63.93243729573031\n",
      "# 349    beta= 0.7414550869157752    Error_diffr= (-24.57845088003311+0.07833635516470415j)    Error_supp= -43.63687545874547\n",
      "# 698    beta= 0.544772880989826    Error_diffr= (-35.384171285025474+0.0271547710754614j)    Error_supp= -43.53043737798827\n",
      "using phase given\n",
      "mode= ER     beta_mode= const\n",
      "# 0    beta= 0.5    Error_diffr= (-45.056546642855224+0.04206891824614155j)    Error_supp= -44.05240501058117\n",
      "# 24    beta= 0.5    Error_diffr= (-37.7994245422518+0.036807503477740595j)    Error_supp= -43.5676403882466\n",
      "# 48    beta= 0.5    Error_diffr= (-37.703500803223285+0.03646232051656993j)    Error_supp= -43.53440492256438\n",
      "using phase given\n",
      "mode= ER     beta_mode= const\n",
      "# 0    beta= 0.5    Error_diffr= (-44.517575298019054+0.0642690899106927j)    Error_supp= -43.77356572728517\n",
      "# 24    beta= 0.5    Error_diffr= (-37.64251711135277+0.036222420118470065j)    Error_supp= -43.6111579921653\n",
      "# 48    beta= 0.5    Error_diffr= (-37.69974746463583+0.03651797196530896j)    Error_supp= -43.608466159230666\n"
     ]
    },
    {
     "data": {
      "application/vnd.jupyter.widget-view+json": {
       "model_id": "fc5bdc50a5274cd2aac0061a8390fc01",
       "version_major": 2,
       "version_minor": 0
      },
      "text/plain": [
       "Canvas(toolbar=Toolbar(toolitems=[('Home', 'Reset original view', 'home', 'home'), ('Back', 'Back to previous …"
      ]
     },
     "metadata": {},
     "output_type": "display_data"
    },
    {
     "data": {
      "application/vnd.jupyter.widget-view+json": {
       "model_id": "566ba780a0f84966b37ad9b368641868",
       "version_major": 2,
       "version_minor": 0
      },
      "text/plain": [
       "interactive(children=(FloatSlider(value=0.0, description='propagation[um]', layout=Layout(width='90%'), max=0.…"
      ]
     },
     "metadata": {},
     "output_type": "display_data"
    },
    {
     "data": {
      "application/vnd.jupyter.widget-view+json": {
       "model_id": "cd5367634e6c4caf847424e097ac029c",
       "version_major": 2,
       "version_minor": 0
      },
      "text/plain": [
       "Canvas(toolbar=Toolbar(toolitems=[('Home', 'Reset original view', 'home', 'home'), ('Back', 'Back to previous …"
      ]
     },
     "metadata": {},
     "output_type": "display_data"
    },
    {
     "data": {
      "application/vnd.jupyter.widget-view+json": {
       "model_id": "90546cd8730d4813975792e8dfdf2de2",
       "version_major": 2,
       "version_minor": 0
      },
      "text/plain": [
       "interactive(children=(FloatSlider(value=0.0, description='propagation[um]', layout=Layout(width='90%'), max=0.…"
      ]
     },
     "metadata": {},
     "output_type": "display_data"
    },
    {
     "name": "stdout",
     "output_type": "stream",
     "text": [
      "############ 1   -   CDI\n",
      "using phase given\n",
      "mode= RAAR     beta_mode= arctan\n",
      "# 0    beta= 0.9354686820426836    Error_diffr= -9.08472862524179    Error_supp= -43.8995303556929\n",
      "# 349    beta= 0.7414550869157752    Error_diffr= -8.086419723946918    Error_supp= -43.64421547908481\n",
      "# 698    beta= 0.544772880989826    Error_diffr= -14.302092804172819    Error_supp= -43.55239575080793\n",
      "using phase given\n",
      "mode= ER     beta_mode= const\n",
      "# 0    beta= 0.5    Error_diffr= -15.851312230493233    Error_supp= -43.54874568289324\n",
      "# 24    beta= 0.5    Error_diffr= -15.854714461430486    Error_supp= -43.548071464522735\n",
      "# 48    beta= 0.5    Error_diffr= -15.856526098621217    Error_supp= -43.54741432657108\n",
      "using phase given\n",
      "mode= ER     beta_mode= const\n",
      "# 0    beta= 0.5    Error_diffr= -15.705819437824044    Error_supp= -43.595733598421845\n",
      "# 24    beta= 0.5    Error_diffr= -15.713969022191392    Error_supp= -43.62595314221882\n",
      "# 48    beta= 0.5    Error_diffr= -15.715691715671273    Error_supp= -43.6266182831016\n"
     ]
    },
    {
     "data": {
      "application/vnd.jupyter.widget-view+json": {
       "model_id": "bd4608ee05d84b25988d750f45e106ca",
       "version_major": 2,
       "version_minor": 0
      },
      "text/plain": [
       "Canvas(toolbar=Toolbar(toolitems=[('Home', 'Reset original view', 'home', 'home'), ('Back', 'Back to previous …"
      ]
     },
     "metadata": {},
     "output_type": "display_data"
    },
    {
     "data": {
      "application/vnd.jupyter.widget-view+json": {
       "model_id": "ac91bba6c52747e8b115dcba831bdbb8",
       "version_major": 2,
       "version_minor": 0
      },
      "text/plain": [
       "interactive(children=(FloatSlider(value=0.0, description='propagation[um]', layout=Layout(width='90%'), max=0.…"
      ]
     },
     "metadata": {},
     "output_type": "display_data"
    },
    {
     "data": {
      "application/vnd.jupyter.widget-view+json": {
       "model_id": "8dcf2d69c4044404869fde13d8dd156a",
       "version_major": 2,
       "version_minor": 0
      },
      "text/plain": [
       "Canvas(toolbar=Toolbar(toolitems=[('Home', 'Reset original view', 'home', 'home'), ('Back', 'Back to previous …"
      ]
     },
     "metadata": {},
     "output_type": "display_data"
    },
    {
     "data": {
      "application/vnd.jupyter.widget-view+json": {
       "model_id": "fec7612129ba490eb2303208aeb37d85",
       "version_major": 2,
       "version_minor": 0
      },
      "text/plain": [
       "interactive(children=(FloatSlider(value=0.0, description='propagation[um]', layout=Layout(width='90%'), max=0.…"
      ]
     },
     "metadata": {},
     "output_type": "display_data"
    },
    {
     "name": "stdout",
     "output_type": "stream",
     "text": [
      "############ 1   -   CDI_pc\n",
      "using phase given\n",
      "mode= RAAR     beta_mode= arctan\n",
      "# 0    beta= 0.9354686820426836    Error_diffr= (-20.789982899436893-0.001780855391155993j)    Error_supp= -43.80237779972966\n",
      "# 349    beta= 0.7414550869157752    Error_diffr= (-24.511808659622737+0.036707592927731486j)    Error_supp= -43.75036593217915\n",
      "# 698    beta= 0.544772880989826    Error_diffr= (-35.95029018068459-0.05004833598010158j)    Error_supp= -44.29177292387575\n",
      "using phase given\n",
      "mode= ER     beta_mode= const\n",
      "# 0    beta= 0.5    Error_diffr= (-37.44903161217391+0.05263362692306166j)    Error_supp= -44.52443583460561\n",
      "# 24    beta= 0.5    Error_diffr= (-38.86467417011817-0.06768301684055152j)    Error_supp= -44.35739030518831\n",
      "# 48    beta= 0.5    Error_diffr= (-38.81552724085014-0.06709547379902484j)    Error_supp= -44.34179419828324\n",
      "using phase given\n",
      "mode= ER     beta_mode= const\n",
      "# 0    beta= 0.5    Error_diffr= (-39.86495197198808+0.07063223859872242j)    Error_supp= -44.47502710936354\n",
      "# 24    beta= 0.5    Error_diffr= (-38.85632008053765-0.06771204829507313j)    Error_supp= -44.444781669655214\n",
      "# 48    beta= 0.5    Error_diffr= (-38.84312195990173-0.06759728913210156j)    Error_supp= -44.445854893082064\n"
     ]
    },
    {
     "data": {
      "application/vnd.jupyter.widget-view+json": {
       "model_id": "a5c9619e67844c878878801daa351c33",
       "version_major": 2,
       "version_minor": 0
      },
      "text/plain": [
       "Canvas(toolbar=Toolbar(toolitems=[('Home', 'Reset original view', 'home', 'home'), ('Back', 'Back to previous …"
      ]
     },
     "metadata": {},
     "output_type": "display_data"
    },
    {
     "data": {
      "application/vnd.jupyter.widget-view+json": {
       "model_id": "60ceaf8e91ea45d596660c064ed0c5fd",
       "version_major": 2,
       "version_minor": 0
      },
      "text/plain": [
       "interactive(children=(FloatSlider(value=0.0, description='propagation[um]', layout=Layout(width='90%'), max=0.…"
      ]
     },
     "metadata": {},
     "output_type": "display_data"
    },
    {
     "data": {
      "application/vnd.jupyter.widget-view+json": {
       "model_id": "107a2e505de648049505287b8094c7a9",
       "version_major": 2,
       "version_minor": 0
      },
      "text/plain": [
       "Canvas(toolbar=Toolbar(toolitems=[('Home', 'Reset original view', 'home', 'home'), ('Back', 'Back to previous …"
      ]
     },
     "metadata": {},
     "output_type": "display_data"
    },
    {
     "data": {
      "application/vnd.jupyter.widget-view+json": {
       "model_id": "439dd5ed203d4b5b8436f019162f73f8",
       "version_major": 2,
       "version_minor": 0
      },
      "text/plain": [
       "interactive(children=(FloatSlider(value=0.0, description='propagation[um]', layout=Layout(width='90%'), max=0.…"
      ]
     },
     "metadata": {},
     "output_type": "display_data"
    }
   ],
   "source": [
    "reload(rec)\n",
    "#this one\n",
    "#CDI\n",
    "plt.rcParams['figure.dpi'] = 100\n",
    "print(\"CDI - larger mask\")\n",
    "Startimage=supportmask_cropped*(pos_cropped*0+1.5*1e7*np.exp(-1j*0.7))\n",
    "Startimage=np.fft.fftshift(np.fft.ifft2(np.fft.ifftshift(Startimage)))\n",
    "\n",
    "\n",
    "R_apod=None\n",
    "Startgamma=np.ones(pos_cropped.shape)\n",
    "#Startgamma[pos_cropped.shape[0]//2, pos_cropped.shape[1]//2]=0.7\n",
    "\n",
    "\n",
    "\n",
    "\n",
    "#retrieve pos image\n",
    "\n",
    "for i in range(2):\n",
    "    \n",
    "    print(\"############ %i   -   CDI\"%i)\n",
    "    \n",
    "    retrieved_p,Error_diff_p,Error_supp=PhR.PhaseRtrv_GPU(diffract=np.sqrt(np.maximum(pos_cropped,np.zeros(pos_cropped.shape))), mask=supportmask_cropped, mode='RAAR',\n",
    "                 beta_zero=0.5, Nit=700, beta_mode='arctan', plot_every=349,Phase=Startimage,seed=False,real_object=real_object, BS=BS2, bsmask=bsmask_p,average_img=30, Fourier_last=True)\n",
    "    retrieved_p,Error_diff_p2,Error_supp=PhR.PhaseRtrv_GPU(diffract=np.sqrt(np.maximum(pos_cropped,np.zeros(pos_cropped.shape))), mask=supportmask_cropped, mode='ER',\n",
    "                 beta_zero=0.5, Nit=50, beta_mode='const', plot_every=24,\n",
    "                 Phase=retrieved_p,seed=False,real_object=real_object, BS=BS2, bsmask=bsmask_p,average_img=30, Fourier_last=True)\n",
    "    retrieved_n,Error_diff_n2,Error_supp=PhR.PhaseRtrv_GPU(diffract=np.sqrt(np.maximum(neg_cropped,np.zeros(neg_cropped.shape))), mask=supportmask_cropped, mode='ER',\n",
    "                 beta_zero=0.5, Nit=50, beta_mode='const', plot_every=24,\n",
    "                 Phase=retrieved_p,seed=False,real_object=real_object, BS=BS2, bsmask=bsmask_n,average_img=30, Fourier_last=True)\n",
    "    mode=\"-\"\n",
    "    slider_prop,slider_phase, slider_dx, slider_dy = rec.focusCDI(retrieved_p, retrieved_n, roi=roi_cropped, mask=supportmask_cropped, phase=phase, prop_dist=prop_dist,\n",
    "                                                                               experimental_setup=experimental_setup, operation=mode, max_prop_dist=0.4)\n",
    "    mode=\"+\"\n",
    "    slider_prop,slider_phase, slider_dx, slider_dy = rec.focusCDI(retrieved_p, retrieved_n, roi=roi_cropped, mask=supportmask_cropped, phase=phase, prop_dist=prop_dist,\n",
    "                                                                               experimental_setup=experimental_setup, operation=mode, max_prop_dist=0.4)\n",
    "    #CDI_PC\n",
    "    print(\"############ %i   -   CDI_pc\"%i)\n",
    "    pos3=(np.abs(retrieved_p)**2)*bsmask_p+ np.maximum(pos_cropped,np.zeros(pos_cropped.shape))*(1-bsmask_p)\n",
    "    neg3=(np.abs(retrieved_n)**2)*bsmask_n+ np.maximum(neg_cropped,np.zeros(neg_cropped.shape))*(1-bsmask_n)\n",
    "    Startimage =  retrieved_p.copy()\n",
    "\n",
    "    #retrieve pos image\n",
    "    retrieved_p_pc,Error_diff_p_pc,Error_supp, gamma_p=PhR.PhaseRtrv_with_RL(diffract=np.sqrt(pos3), mask=supportmask_cropped, mode='RAAR',\n",
    "                 beta_zero=0.5, Nit=700, beta_mode=\"arctan\", gamma=Startgamma, RL_freq=30, RL_it=30,\n",
    "                 plot_every=349,Phase=Startimage, seed=False, real_object=False, BS=BS2, bsmask=np.zeros(bsmask_p.shape), average_img=30, Fourier_last=True, R_apod=R_apod)\n",
    "\n",
    "    retrieved_p_pc,Error_diff_p_pc2,Error_supp, gamma_p=PhR.PhaseRtrv_with_RL(diffract=np.sqrt(pos3), mask=supportmask_cropped, mode='ER',\n",
    "                 beta_zero=0.5, Nit=50, beta_mode='const', gamma=gamma_p, RL_freq=30, RL_it=30,\n",
    "                plot_every=24,Phase=retrieved_p_pc,real_object=False, BS=BS2, bsmask=np.zeros(bsmask_p.shape), average_img=30, Fourier_last=True, R_apod=R_apod)\n",
    "    retrieved_n_pc,Error_diff_n_pc2,Error_supp, gamma_n=PhR.PhaseRtrv_with_RL(diffract=np.sqrt(neg3), mask=supportmask_cropped, mode='ER',\n",
    "                 beta_zero=0.5, Nit=50, beta_mode='const', gamma=gamma_p, RL_freq=30, RL_it=30,\n",
    "                plot_every=24,Phase=retrieved_p_pc,real_object=False, BS=BS2, bsmask=np.zeros(bsmask_n.shape), average_img=30, Fourier_last=True, R_apod=R_apod)\n",
    "\n",
    "    mode=\"-\"\n",
    "    slider_prop,slider_phase, slider_dx, slider_dy = rec.focusCDI(retrieved_p_pc, retrieved_n_pc, roi_cropped, mask=supportmask_cropped,prop_dist=prop_dist_pc,\n",
    "                                                                               phase=phase_pc,dx=dx_pc,dy=dy_pc, experimental_setup=experimental_setup, operation=mode, max_prop_dist=0.7)\n",
    "    mode=\"+\"\n",
    "    slider_prop,slider_phase, slider_dx, slider_dy = rec.focusCDI(retrieved_p_pc, retrieved_n_pc, roi_cropped, mask=supportmask_cropped,prop_dist=prop_dist_pc,\n",
    "                                                                               phase=phase_pc,dx=dx_pc,dy=dy_pc, experimental_setup=experimental_setup, operation=mode, max_prop_dist=0.7)\n",
    "    #retrieved_p=retrieved_p_pc.copy()\n",
    "    Startimage =  retrieved_p_pc.copy()\n",
    "    Startgamma =  gamma_p.copy()"
   ]
  },
  {
   "cell_type": "markdown",
   "metadata": {},
   "source": [
    "# check your results"
   ]
  },
  {
   "cell_type": "code",
   "execution_count": 294,
   "metadata": {},
   "outputs": [
    {
     "name": "stdout",
     "output_type": "stream",
     "text": [
      "{'ccd_dist': 0.18, 'energy': 779.5, 'px_size': 2e-05}\n"
     ]
    },
    {
     "data": {
      "application/vnd.jupyter.widget-view+json": {
       "model_id": "01f76a80c4824b90b6ff7b679b2b86a3",
       "version_major": 2,
       "version_minor": 0
      },
      "text/plain": [
       "Canvas(toolbar=Toolbar(toolitems=[('Home', 'Reset original view', 'home', 'home'), ('Back', 'Back to previous …"
      ]
     },
     "metadata": {},
     "output_type": "display_data"
    },
    {
     "data": {
      "application/vnd.jupyter.widget-view+json": {
       "model_id": "ffec9affdc2745378a0cc6a5bfa5ff48",
       "version_major": 2,
       "version_minor": 0
      },
      "text/plain": [
       "interactive(children=(FloatSlider(value=0.0, description='propagation[um]', layout=Layout(width='90%'), max=0.…"
      ]
     },
     "metadata": {},
     "output_type": "display_data"
    }
   ],
   "source": [
    "print(experimental_setup)\n",
    "mode=\"+\"\n",
    "slider_prop,slider_phase, slider_dx, slider_dy = rec.focusCDI(retrieved_p, retrieved_n, roi=np.s_[:,:], mask=supportmask_cropped, prop_dist=prop_dist,\n",
    "                                                                           phase=phase,dx=dx,dy=dy, experimental_setup=experimental_setup, operation=mode, max_prop_dist=0.7)"
   ]
  },
  {
   "cell_type": "code",
   "execution_count": 286,
   "metadata": {},
   "outputs": [
    {
     "name": "stdout",
     "output_type": "stream",
     "text": [
      "{'ccd_dist': 0.18, 'energy': 779.5, 'px_size': 2e-05}\n"
     ]
    },
    {
     "data": {
      "application/vnd.jupyter.widget-view+json": {
       "model_id": "2b1d806149bd4cda8abeda238390b7a6",
       "version_major": 2,
       "version_minor": 0
      },
      "text/plain": [
       "Canvas(toolbar=Toolbar(toolitems=[('Home', 'Reset original view', 'home', 'home'), ('Back', 'Back to previous …"
      ]
     },
     "metadata": {},
     "output_type": "display_data"
    },
    {
     "data": {
      "application/vnd.jupyter.widget-view+json": {
       "model_id": "fec08d786f0e433db0b3b5d5d1b6567d",
       "version_major": 2,
       "version_minor": 0
      },
      "text/plain": [
       "interactive(children=(FloatSlider(value=0.0, description='propagation[um]', layout=Layout(width='90%'), max=0.…"
      ]
     },
     "metadata": {},
     "output_type": "display_data"
    }
   ],
   "source": [
    "print(experimental_setup)\n",
    "mode=\"+\"\n",
    "slider_prop,slider_phase, slider_dx, slider_dy = rec.focusCDI(retrieved_p, retrieved_n, roi=roi_cropped, mask=supportmask_cropped, prop_dist=prop_dist,\n",
    "                                                                           phase=phase,dx=dx,dy=dy, experimental_setup=experimental_setup, operation=mode, max_prop_dist=0.7)"
   ]
  },
  {
   "cell_type": "code",
   "execution_count": 295,
   "metadata": {},
   "outputs": [
    {
     "name": "stdout",
     "output_type": "stream",
     "text": [
      "{'ccd_dist': 0.18, 'energy': 779.5, 'px_size': 2e-05}\n"
     ]
    },
    {
     "data": {
      "application/vnd.jupyter.widget-view+json": {
       "model_id": "6002e394110843c687ba71df35e19970",
       "version_major": 2,
       "version_minor": 0
      },
      "text/plain": [
       "Canvas(toolbar=Toolbar(toolitems=[('Home', 'Reset original view', 'home', 'home'), ('Back', 'Back to previous …"
      ]
     },
     "metadata": {},
     "output_type": "display_data"
    },
    {
     "data": {
      "application/vnd.jupyter.widget-view+json": {
       "model_id": "9e7e613d8b774fa2812ba022747cb968",
       "version_major": 2,
       "version_minor": 0
      },
      "text/plain": [
       "interactive(children=(FloatSlider(value=0.0, description='propagation[um]', layout=Layout(width='90%'), max=17…"
      ]
     },
     "metadata": {},
     "output_type": "display_data"
    }
   ],
   "source": [
    "print(experimental_setup)\n",
    "mode=\"+\"\n",
    "slider_prop,slider_phase, slider_dx, slider_dy = rec.focusCDI(retrieved_p_pc, retrieved_n_pc, roi=np.s_[:,:], mask=supportmask_cropped, prop_dist=prop_dist_pc,\n",
    "                                                                           phase=phase_pc,dx=dx_pc,dy=dy_pc, experimental_setup=experimental_setup, operation=mode, max_prop_dist=17)"
   ]
  },
  {
   "cell_type": "code",
   "execution_count": 287,
   "metadata": {},
   "outputs": [
    {
     "name": "stdout",
     "output_type": "stream",
     "text": [
      "{'ccd_dist': 0.18, 'energy': 779.5, 'px_size': 2e-05}\n"
     ]
    },
    {
     "data": {
      "application/vnd.jupyter.widget-view+json": {
       "model_id": "58c0ff4e34d1427aba68e42ed30308b7",
       "version_major": 2,
       "version_minor": 0
      },
      "text/plain": [
       "Canvas(toolbar=Toolbar(toolitems=[('Home', 'Reset original view', 'home', 'home'), ('Back', 'Back to previous …"
      ]
     },
     "metadata": {},
     "output_type": "display_data"
    },
    {
     "data": {
      "application/vnd.jupyter.widget-view+json": {
       "model_id": "32f37ca443de4676abd7aa243f44fa37",
       "version_major": 2,
       "version_minor": 0
      },
      "text/plain": [
       "interactive(children=(FloatSlider(value=0.0, description='propagation[um]', layout=Layout(width='90%'), max=17…"
      ]
     },
     "metadata": {},
     "output_type": "display_data"
    }
   ],
   "source": [
    "print(experimental_setup)\n",
    "mode=\"-\"\n",
    "slider_prop,slider_phase, slider_dx, slider_dy = rec.focusCDI(retrieved_p_pc, retrieved_n_pc, roi_cropped, mask=supportmask_cropped, prop_dist=prop_dist_pc,\n",
    "                                                                           phase=phase_pc,dx=dx_pc,dy=dy_pc, experimental_setup=experimental_setup, operation=mode, max_prop_dist=17)"
   ]
  },
  {
   "cell_type": "code",
   "execution_count": 211,
   "metadata": {},
   "outputs": [],
   "source": [
    "prop_dist_pc=slider_prop.value\n",
    "phase_pc = slider_phase.value\n",
    "dx_pc = slider_dx.value\n",
    "dy_pc = slider_dy.value"
   ]
  },
  {
   "cell_type": "markdown",
   "metadata": {},
   "source": [
    "### check the retrieved MCF function"
   ]
  },
  {
   "cell_type": "code",
   "execution_count": 214,
   "metadata": {},
   "outputs": [
    {
     "data": {
      "application/vnd.jupyter.widget-view+json": {
       "model_id": "4886a7c70c0043e88751a52bd22c4518",
       "version_major": 2,
       "version_minor": 0
      },
      "text/plain": [
       "Canvas(toolbar=Toolbar(toolitems=[('Home', 'Reset original view', 'home', 'home'), ('Back', 'Back to previous …"
      ]
     },
     "metadata": {},
     "output_type": "display_data"
    },
    {
     "data": {
      "text/plain": [
       "<matplotlib.colorbar.Colorbar at 0x2af92fbe9f28>"
      ]
     },
     "execution_count": 214,
     "metadata": {},
     "output_type": "execute_result"
    }
   ],
   "source": [
    "crop=2\n",
    "factor=4\n",
    "\n",
    "gamma=gamma_n.copy()\n",
    "fig,ax = plt.subplots(1,3, figsize=(15.1,4.1))\n",
    "\n",
    "MCF=np.abs(np.fft.fftshift(np.fft.fft2(np.fft.fftshift((gamma)))))[crop:-crop,crop:-crop]\n",
    "extent = [-MCF.shape[0]//2*lpx*1e6 , MCF.shape[0]//2*lpx*1e6, -MCF.shape[1]//2*lpx*1e6 , MCF.shape[1]//2*lpx*1e6]\n",
    "\n",
    "ax[0].set_aspect('equal')\n",
    "m=ax[0].imshow(MCF, cmap=\"jet\", extent=extent, norm=colors.LogNorm())\n",
    "divider = make_axes_locatable(ax[0])\n",
    "cax = divider.append_axes(\"right\", size=\"5%\", pad=0.05)\n",
    "ax[0].set_title(\"Degree of coherence\")\n",
    "ax[0].set_xlabel(\"Separation $(\\mu m)$\")\n",
    "ax[0].set_ylabel(\"Separation $(\\mu m)$\")\n",
    "\n",
    "crop=gamma.shape[0]//2-4\n",
    "\n",
    "MCF=np.abs(gamma)[crop:-crop,crop:-crop]\n",
    "extent = [-MCF.shape[0]//2*1/lpx/1e6 , MCF.shape[0]//2*1/lpx/1e6, -MCF.shape[1]//2*1/lpx/1e6 , MCF.shape[1]//2*1/lpx/1e6]\n",
    "\n",
    "ax[1].set_aspect('equal')\n",
    "m2=ax[1].imshow(MCF, cmap=\"jet\", extent=extent)\n",
    "divider = make_axes_locatable(ax[1])\n",
    "cax2 = divider.append_axes(\"right\", size=\"5%\", pad=0.05)\n",
    "ax[1].set_title(\"Degree of coherence\")\n",
    "ax[1].set_xlabel(\"Separation $(\\mu m)$\")\n",
    "ax[1].set_ylabel(\"Separation $(\\mu m)$\")\n",
    "\n",
    "from scipy.interpolate import interp2d\n",
    "\n",
    "x = np.linspace(0, MCF.shape[0], MCF.shape[0])\n",
    "y = np.linspace(0, MCF.shape[1], MCF.shape[1])\n",
    "X, Y = np.meshgrid(x, y)\n",
    "Z = MCF.copy()#np.sin(np.pi*X/2) * np.exp(Y/2)\n",
    "\n",
    "x2 = np.linspace(0, MCF.shape[0], MCF.shape[0]*factor)\n",
    "y2 = np.linspace(0, MCF.shape[1], MCF.shape[1]*factor)\n",
    "f = interp2d(x, y, Z, kind='cubic')\n",
    "Z2 = f(x2, y2)\n",
    "\n",
    "\n",
    "MCF=Z2.copy()\n",
    "extent = [-MCF.shape[0]//2*1/lpx/1e6 , MCF.shape[0]//2*1/lpx/1e6, -MCF.shape[1]//2*1/lpx/1e6 , MCF.shape[1]//2*1/lpx/1e6]\n",
    "\n",
    "ax[2].set_aspect('equal')\n",
    "m2=ax[2].imshow(MCF, cmap=\"jet\", extent=extent)\n",
    "divider = make_axes_locatable(ax[2])\n",
    "cax2 = divider.append_axes(\"right\", size=\"5%\", pad=0.05)\n",
    "ax[2].set_title(\"Degree of coherence\")\n",
    "ax[2].set_xlabel(\"Separation $(\\mu m)$\")\n",
    "ax[2].set_ylabel(\"Separation $(\\mu m)$\")\n",
    "\n",
    "plt.colorbar(m, cax=cax)\n",
    "plt.colorbar(m2, cax=cax2)\n",
    "#ax.set_axis_off()"
   ]
  },
  {
   "cell_type": "markdown",
   "metadata": {},
   "source": [
    "# Save what you have done"
   ]
  },
  {
   "cell_type": "code",
   "execution_count": 627,
   "metadata": {},
   "outputs": [],
   "source": [
    "data={}"
   ]
  },
  {
   "cell_type": "code",
   "execution_count": 758,
   "metadata": {},
   "outputs": [],
   "source": [
    "data[\"experimental_setup\"]=experimental_setup.copy()\n",
    "data[\"center\"]=center.copy()"
   ]
  },
  {
   "cell_type": "code",
   "execution_count": 759,
   "metadata": {},
   "outputs": [],
   "source": [
    "data[\"px_size\"]=lpx\n",
    "data[\"center\"]=center.copy()"
   ]
  },
  {
   "cell_type": "code",
   "execution_count": 760,
   "metadata": {},
   "outputs": [],
   "source": [
    "data[\"raw\"]={\"+\":pos.copy(), \"-\":neg.copy(), \"bsmask\":mask_pixel_raw.copy()}"
   ]
  },
  {
   "cell_type": "code",
   "execution_count": 761,
   "metadata": {},
   "outputs": [],
   "source": [
    "data[\"holo\"]={\"+\":pos2.copy(), \"-\":neg2.copy(), \"bsmask\":mask_pixel.copy(), \"offset\":offset.copy()}\n",
    "data[\"holo\"][\"ROI\"]=roi_array.copy()\n",
    "data[\"holo\"][\"supportmask\"]=supportmask.copy()"
   ]
  },
  {
   "cell_type": "code",
   "execution_count": 779,
   "metadata": {},
   "outputs": [],
   "source": [
    "data[\"CDI\"]={}\n",
    "data[\"CDI_pc\"]={}\n",
    "data[\"CDI\"][\"ROI\"]=roi_array_cropped.copy()\n",
    "data[\"CDI_pc\"][\"ROI\"]=roi_array_cropped.copy()"
   ]
  },
  {
   "cell_type": "code",
   "execution_count": 780,
   "metadata": {},
   "outputs": [],
   "source": [
    "data[\"CDI\"]={\"+\":retrieved_p.copy(), \"-\":retrieved_n.copy()}\n",
    "data[\"CDI\"][\"holo\"]={\"+\":pos_cropped.copy(), \"-\":neg_cropped.copy(), \"bsmask\":{\"+\":bsmask_p, \"-\":bsmask_n}, \"offset\":offset.copy()}"
   ]
  },
  {
   "cell_type": "code",
   "execution_count": 145,
   "metadata": {},
   "outputs": [],
   "source": [
    "data[\"CDI_pc\"]={\"+\":retrieved_p_pc.copy(), \"-\":retrieved_n_pc.copy()}\n",
    "data[\"CDI_pc\"][\"holo\"]={\"+\":pos3.copy(), \"-\":neg3.copy()}"
   ]
  },
  {
   "cell_type": "code",
   "execution_count": 146,
   "metadata": {},
   "outputs": [],
   "source": [
    "data[\"CDI\"][\"supportmask\"]=supportmask_cropped.copy()\n",
    "data[\"CDI_pc\"][\"supportmask\"]=supportmask_cropped.copy()"
   ]
  },
  {
   "cell_type": "code",
   "execution_count": 148,
   "metadata": {},
   "outputs": [],
   "source": [
    "data[\"CDI_pc\"][\"gamma\"]={\"+\":gamma_p.copy(), \"-\":gamma_n.copy()}"
   ]
  },
  {
   "cell_type": "code",
   "execution_count": 149,
   "metadata": {},
   "outputs": [],
   "source": [
    "data[\"CDI_pc\"][\"focus\"]={\"prop_dist\": prop_dist_pc, \"phase\": phase_pc,\"dx\": dx_pc, \"dy\": dy_pc}\n",
    "data[\"CDI\"][\"focus\"]={\"prop_dist\": prop_dist, \"phase\": phase,\"dx\": dx, \"dy\": dy}"
   ]
  },
  {
   "cell_type": "code",
   "execution_count": 150,
   "metadata": {},
   "outputs": [],
   "source": [
    "filename1='./11009916/processed/CDI_new/s1909a_B2_2order/s1909a_B2_21gen2021'"
   ]
  },
  {
   "cell_type": "code",
   "execution_count": 151,
   "metadata": {},
   "outputs": [],
   "source": [
    "filename='./11009916/processed/CDI_new/s1909a_B2_2order/s1909a_B2_'"
   ]
  },
  {
   "cell_type": "code",
   "execution_count": 788,
   "metadata": {},
   "outputs": [],
   "source": [
    "folder_save='./Results/11008801/CDI/s1909a/'"
   ]
  },
  {
   "cell_type": "code",
   "execution_count": 152,
   "metadata": {},
   "outputs": [
    {
     "name": "stdout",
     "output_type": "stream",
     "text": [
      "dict_keys(['CDI', 'CDI_pc', 'ROI', 'ROI_RH', 'center', 'comment', 'experimental_setup', 'hazimuthal_integrals', 'holo', 'px_size', 'raw', 'stitching_details'])\n",
      "create group CDI\n",
      "---\n",
      "CDI , <class 'dict'>\n",
      "dict\n",
      "dict_keys(['+', '-', 'focus', 'holo', 'supportmask', 'supportmask2'])\n",
      "create group +\n",
      "---\n",
      "+ , <class 'numpy.ndarray'>\n",
      "dataset created\n",
      "---\n",
      "create group -\n",
      "---\n",
      "- , <class 'numpy.ndarray'>\n",
      "dataset created\n",
      "---\n",
      "create group focus\n",
      "---\n",
      "focus , <class 'dict'>\n",
      "dict\n",
      "dict_keys(['prop_dist', 'phase', 'dx', 'dy'])\n",
      "create group prop_dist\n",
      "---\n",
      "prop_dist , <class 'numpy.float64'>\n",
      "dataset created\n",
      "---\n",
      "create group phase\n",
      "---\n",
      "phase , <class 'numpy.float64'>\n",
      "dataset created\n",
      "---\n",
      "create group dx\n",
      "---\n",
      "dx , <class 'numpy.float64'>\n",
      "dataset created\n",
      "---\n",
      "create group dy\n",
      "---\n",
      "dy , <class 'numpy.float64'>\n",
      "dataset created\n",
      "---\n",
      "---\n",
      "create group holo\n",
      "---\n",
      "holo , <class 'dict'>\n",
      "dict\n",
      "dict_keys(['+', '-', 'bsmask', 'offset'])\n",
      "create group +\n",
      "---\n",
      "+ , <class 'numpy.ndarray'>\n",
      "dataset created\n",
      "---\n",
      "create group -\n",
      "---\n",
      "- , <class 'numpy.ndarray'>\n",
      "dataset created\n",
      "---\n",
      "create group bsmask\n",
      "---\n",
      "bsmask , <class 'dict'>\n",
      "dict\n",
      "dict_keys(['+', '-'])\n",
      "create group +\n",
      "---\n",
      "+ , <class 'numpy.ndarray'>\n",
      "dataset created\n",
      "---\n",
      "create group -\n",
      "---\n",
      "- , <class 'numpy.ndarray'>\n",
      "dataset created\n",
      "---\n",
      "---\n",
      "create group offset\n",
      "---\n",
      "offset , <class 'dict'>\n",
      "dict\n",
      "dict_keys(['+', '-'])\n",
      "create group +\n",
      "---\n",
      "+ , <class 'numpy.float64'>\n",
      "dataset created\n",
      "---\n",
      "create group -\n",
      "---\n",
      "- , <class 'numpy.float64'>\n",
      "dataset created\n",
      "---\n",
      "---\n",
      "---\n",
      "create group supportmask\n",
      "---\n",
      "supportmask , <class 'numpy.ndarray'>\n",
      "dataset created\n",
      "---\n",
      "create group supportmask2\n",
      "---\n",
      "supportmask2 , <class 'numpy.ndarray'>\n",
      "dataset created\n",
      "---\n",
      "---\n",
      "create group CDI_pc\n",
      "---\n",
      "CDI_pc , <class 'dict'>\n",
      "dict\n",
      "dict_keys(['+', '-', 'holo', 'supportmask', 'gamma', 'focus'])\n",
      "create group +\n",
      "---\n",
      "+ , <class 'numpy.ndarray'>\n",
      "dataset created\n",
      "---\n",
      "create group -\n",
      "---\n",
      "- , <class 'numpy.ndarray'>\n",
      "dataset created\n",
      "---\n",
      "create group holo\n",
      "---\n",
      "holo , <class 'dict'>\n",
      "dict\n",
      "dict_keys(['+', '-'])\n",
      "create group +\n",
      "---\n",
      "+ , <class 'numpy.ndarray'>\n",
      "dataset created\n",
      "---\n",
      "create group -\n",
      "---\n",
      "- , <class 'numpy.ndarray'>\n",
      "dataset created\n",
      "---\n",
      "---\n",
      "create group supportmask\n",
      "---\n",
      "supportmask , <class 'numpy.ndarray'>\n",
      "dataset created\n",
      "---\n",
      "create group gamma\n",
      "---\n",
      "gamma , <class 'dict'>\n",
      "dict\n",
      "dict_keys(['+', '-'])\n",
      "create group +\n",
      "---\n",
      "+ , <class 'numpy.ndarray'>\n",
      "dataset created\n",
      "---\n",
      "create group -\n",
      "---\n",
      "- , <class 'numpy.ndarray'>\n",
      "dataset created\n",
      "---\n",
      "---\n",
      "create group focus\n",
      "---\n",
      "focus , <class 'dict'>\n",
      "dict\n",
      "dict_keys(['prop_dist', 'phase', 'dx', 'dy'])\n",
      "create group prop_dist\n",
      "---\n",
      "prop_dist , <class 'numpy.float64'>\n",
      "dataset created\n",
      "---\n",
      "create group phase\n",
      "---\n",
      "phase , <class 'numpy.float64'>\n",
      "dataset created\n",
      "---\n",
      "create group dx\n",
      "---\n",
      "dx , <class 'numpy.float64'>\n",
      "dataset created\n",
      "---\n",
      "create group dy\n",
      "---\n",
      "dy , <class 'numpy.float64'>\n",
      "dataset created\n",
      "---\n",
      "---\n",
      "---\n",
      "create group ROI\n",
      "---\n",
      "ROI , <class 'numpy.ndarray'>\n",
      "dataset created\n",
      "---\n",
      "create group ROI_RH\n",
      "---\n",
      "ROI_RH , <class 'numpy.ndarray'>\n",
      "dataset created\n",
      "---\n",
      "create group center\n",
      "---\n",
      "center , <class 'numpy.ndarray'>\n",
      "dataset created\n",
      "---\n",
      "create group comment\n",
      "---\n",
      "comment , <class 'str'>\n",
      "dataset created\n",
      "---\n",
      "create group experimental_setup\n",
      "---\n",
      "experimental_setup , <class 'dict'>\n",
      "dict\n",
      "dict_keys(['ccd_dist', 'energy', 'px_size'])\n",
      "create group ccd_dist\n",
      "---\n",
      "ccd_dist , <class 'numpy.float64'>\n",
      "dataset created\n",
      "---\n",
      "create group energy\n",
      "---\n",
      "energy , <class 'numpy.float64'>\n",
      "dataset created\n",
      "---\n",
      "create group px_size\n",
      "---\n",
      "px_size , <class 'numpy.float64'>\n",
      "dataset created\n",
      "---\n",
      "---\n",
      "create group hazimuthal_integrals\n",
      "---\n",
      "hazimuthal_integrals , <class 'dict'>\n",
      "dict\n",
      "dict_keys(['+', '-', 'coherent_diff', 'coherent_diff_squared', 'coherent_topo', 'coherent_topo_squared', 'diff', 'holo', 'labels', 'roi_holes', 'topo'])\n",
      "create group +\n",
      "---\n",
      "+ , <class 'numpy.ndarray'>\n",
      "dataset created\n",
      "---\n",
      "create group -\n",
      "---\n",
      "- , <class 'numpy.ndarray'>\n",
      "dataset created\n",
      "---\n",
      "create group coherent_diff\n",
      "---\n",
      "coherent_diff , <class 'numpy.ndarray'>\n",
      "dataset created\n",
      "---\n",
      "create group coherent_diff_squared\n",
      "---\n",
      "coherent_diff_squared , <class 'numpy.ndarray'>\n",
      "dataset created\n",
      "---\n",
      "create group coherent_topo\n",
      "---\n",
      "coherent_topo , <class 'numpy.ndarray'>\n",
      "dataset created\n",
      "---\n",
      "create group coherent_topo_squared\n",
      "---\n",
      "coherent_topo_squared , <class 'numpy.ndarray'>\n",
      "dataset created\n",
      "---\n",
      "create group diff\n",
      "---\n",
      "diff , <class 'numpy.ndarray'>\n",
      "dataset created\n",
      "---\n",
      "create group holo\n",
      "---\n",
      "holo , <class 'dict'>\n",
      "dict\n",
      "dict_keys(['+', '-', 'diff', 'topo'])\n",
      "create group +\n",
      "---\n",
      "+ , <class 'numpy.ndarray'>\n",
      "dataset created\n",
      "---\n",
      "create group -\n",
      "---\n",
      "- , <class 'numpy.ndarray'>\n",
      "dataset created\n",
      "---\n",
      "create group diff\n",
      "---\n",
      "diff , <class 'numpy.ndarray'>\n",
      "dataset created\n",
      "---\n",
      "create group topo\n",
      "---\n",
      "topo , <class 'numpy.ndarray'>\n",
      "dataset created\n",
      "---\n",
      "---\n",
      "create group labels\n",
      "---\n",
      "labels , <class 'str'>\n",
      "dataset created\n",
      "---\n",
      "create group roi_holes\n",
      "---\n",
      "roi_holes , <class 'numpy.int64'>\n",
      "dataset created\n",
      "---\n",
      "create group topo\n",
      "---\n",
      "topo , <class 'numpy.ndarray'>\n",
      "dataset created\n",
      "---\n",
      "---\n",
      "create group holo\n",
      "---\n",
      "holo , <class 'dict'>\n",
      "dict\n",
      "dict_keys(['+', '-', 'ROI', 'bsmask', 'offset'])\n",
      "create group +\n",
      "---\n",
      "+ , <class 'numpy.ndarray'>\n",
      "dataset created\n",
      "---\n",
      "create group -\n",
      "---\n",
      "- , <class 'numpy.ndarray'>\n",
      "dataset created\n",
      "---\n",
      "create group ROI\n",
      "---\n",
      "ROI , <class 'numpy.ndarray'>\n",
      "dataset created\n",
      "---\n",
      "create group bsmask\n",
      "---\n",
      "bsmask , <class 'numpy.ndarray'>\n",
      "dataset created\n",
      "---\n",
      "create group offset\n",
      "---\n",
      "offset , <class 'dict'>\n",
      "dict\n",
      "dict_keys(['+', '-'])\n",
      "create group +\n",
      "---\n",
      "+ , <class 'numpy.float64'>\n",
      "dataset created\n",
      "---\n",
      "create group -\n",
      "---\n",
      "- , <class 'numpy.float64'>\n",
      "dataset created\n",
      "---\n",
      "---\n",
      "---\n",
      "create group px_size\n",
      "---\n",
      "px_size , <class 'numpy.float64'>\n",
      "dataset created\n",
      "---\n",
      "create group raw\n",
      "---\n",
      "raw , <class 'dict'>\n",
      "dict\n",
      "dict_keys(['+', '-', 'bsmask'])\n",
      "create group +\n",
      "---\n",
      "+ , <class 'numpy.ndarray'>\n",
      "dataset created\n",
      "---\n",
      "create group -\n",
      "---\n",
      "- , <class 'numpy.ndarray'>\n",
      "dataset created\n",
      "---\n",
      "create group bsmask\n",
      "---\n",
      "bsmask , <class 'numpy.ndarray'>\n",
      "dataset created\n",
      "---\n",
      "---\n",
      "create group stitching_details\n",
      "---\n",
      "stitching_details , <class 'dict'>\n",
      "dict\n",
      "dict_keys(['BS0', 'BS1'])\n",
      "create group BS0\n",
      "---\n",
      "BS0 , <class 'dict'>\n",
      "dict\n",
      "dict_keys(['cx1', 'cy1', 'r1', 'shift_x', 'shift_y'])\n",
      "create group cx1\n",
      "---\n",
      "cx1 , <class 'numpy.float64'>\n",
      "dataset created\n",
      "---\n",
      "create group cy1\n",
      "---\n",
      "cy1 , <class 'numpy.float64'>\n",
      "dataset created\n",
      "---\n",
      "create group r1\n",
      "---\n",
      "r1 , <class 'numpy.float64'>\n",
      "dataset created\n",
      "---\n",
      "create group shift_x\n",
      "---\n",
      "shift_x , <class 'numpy.float64'>\n",
      "dataset created\n",
      "---\n",
      "create group shift_y\n",
      "---\n",
      "shift_y , <class 'numpy.float64'>\n",
      "dataset created\n",
      "---\n",
      "---\n",
      "create group BS1\n",
      "---\n",
      "BS1 , <class 'dict'>\n",
      "dict\n",
      "dict_keys(['cx2', 'cy2', 'r2', 'shift_x', 'shift_y'])\n",
      "create group cx2\n",
      "---\n",
      "cx2 , <class 'numpy.float64'>\n",
      "dataset created\n",
      "---\n",
      "create group cy2\n",
      "---\n",
      "cy2 , <class 'numpy.float64'>\n",
      "dataset created\n",
      "---\n",
      "create group r2\n",
      "---\n",
      "r2 , <class 'numpy.float64'>\n",
      "dataset created\n",
      "---\n",
      "create group shift_x\n",
      "---\n",
      "shift_x , <class 'numpy.int64'>\n",
      "dataset created\n",
      "---\n",
      "create group shift_y\n",
      "---\n",
      "shift_y , <class 'numpy.int64'>\n",
      "dataset created\n",
      "---\n",
      "---\n",
      "---\n"
     ]
    }
   ],
   "source": [
    "PhR.create_hdf5(data,filename+\"06apr2021\")"
   ]
  },
  {
   "cell_type": "code",
   "execution_count": 8,
   "metadata": {},
   "outputs": [
    {
     "name": "stdout",
     "output_type": "stream",
     "text": [
      "###  CDI\n",
      "---\n",
      "• +                    <class 'numpy.ndarray'>\n",
      "• -                    <class 'numpy.ndarray'>\n",
      "###  focus\n",
      "---\n",
      "• dx                    <class 'numpy.float64'>\n",
      "• dy                    <class 'numpy.float64'>\n",
      "• phase                    <class 'numpy.float64'>\n",
      "• prop_dist                    <class 'numpy.float64'>\n",
      "---\n",
      "###  holo\n",
      "---\n",
      "• +                    <class 'numpy.ndarray'>\n",
      "• -                    <class 'numpy.ndarray'>\n",
      "###  bsmask\n",
      "---\n",
      "• +                    <class 'numpy.ndarray'>\n",
      "• -                    <class 'numpy.ndarray'>\n",
      "---\n",
      "###  offset\n",
      "---\n",
      "• +                    <class 'numpy.float64'>\n",
      "• -                    <class 'numpy.float64'>\n",
      "---\n",
      "---\n",
      "• supportmask                    <class 'numpy.ndarray'>\n",
      "• supportmask2                    <class 'numpy.ndarray'>\n",
      "---\n",
      "###  CDI_pc\n",
      "---\n",
      "• +                    <class 'numpy.ndarray'>\n",
      "• -                    <class 'numpy.ndarray'>\n",
      "###  focus\n",
      "---\n",
      "• dx                    <class 'numpy.float64'>\n",
      "• dy                    <class 'numpy.float64'>\n",
      "• phase                    <class 'numpy.float64'>\n",
      "• prop_dist                    <class 'numpy.float64'>\n",
      "---\n",
      "###  gamma\n",
      "---\n",
      "• +                    <class 'numpy.ndarray'>\n",
      "• -                    <class 'numpy.ndarray'>\n",
      "---\n",
      "###  holo\n",
      "---\n",
      "• +                    <class 'numpy.ndarray'>\n",
      "• -                    <class 'numpy.ndarray'>\n",
      "---\n",
      "• supportmask                    <class 'numpy.ndarray'>\n",
      "• supportmask2                    <class 'numpy.ndarray'>\n",
      "---\n",
      "• center                    <class 'numpy.ndarray'>\n",
      "###  experimental_setup\n",
      "---\n",
      "• ccd_dist                    <class 'numpy.float64'>\n",
      "• energy                    <class 'numpy.float64'>\n",
      "• px_size                    <class 'numpy.float64'>\n",
      "---\n",
      "###  holo\n",
      "---\n",
      "• +                    <class 'numpy.ndarray'>\n",
      "• -                    <class 'numpy.ndarray'>\n",
      "• ROI                    <class 'numpy.ndarray'>\n",
      "• bsmask                    <class 'numpy.ndarray'>\n",
      "###  offset\n",
      "---\n",
      "• +                    <class 'numpy.float64'>\n",
      "• -                    <class 'numpy.float64'>\n",
      "---\n",
      "---\n",
      "• px_size                    <class 'numpy.float64'>\n",
      "###  raw\n",
      "---\n",
      "• +                    <class 'numpy.ndarray'>\n",
      "• -                    <class 'numpy.ndarray'>\n",
      "• bsmask                    <class 'numpy.ndarray'>\n",
      "---\n"
     ]
    }
   ],
   "source": [
    "data=PhR.read_hdf5(filename+\"18mar2021\")"
   ]
  },
  {
   "cell_type": "code",
   "execution_count": 236,
   "metadata": {},
   "outputs": [],
   "source": [
    "experimental_setup=data[\"experimental_setup\"].copy()\n",
    "center=data[\"center\"].copy()\n",
    "lpx=data[\"px_size\"]\n",
    "pos,neg,mask_pixel_raw=data[\"raw\"][\"+\"],data[\"raw\"][\"-\"],data[\"raw\"][\"bsmask\"]\n",
    "pos2,neg2,mask_pixel=data[\"holo\"][\"+\"].copy(),data[\"holo\"][\"-\"].copy(),data[\"holo\"][\"bsmask\"].copy()\n",
    "offset=data[\"holo\"][\"offset\"].copy()\n",
    "roi2=tuple(data[\"holo\"][\"ROI\"])\n",
    "roi=np.s_[roi2[0]:roi2[1],roi2[2]:roi2[3]]\n",
    "retrieved_p,retrieved_n=data[\"CDI\"][\"+\"].copy(),data[\"CDI\"][\"-\"].copy()\n",
    "bsmask_p,bsmask_n=data[\"CDI\"][\"holo\"][\"bsmask\"][\"+\"].copy(),data[\"CDI\"][\"holo\"][\"bsmask\"][\"-\"].copy()\n",
    "retrieved_p_pc,retrieved_n_pc=data[\"CDI_pc\"][\"+\"].copy(),data[\"CDI_pc\"][\"-\"].copy()\n",
    "supportmask,supportmask2=data[\"CDI\"][\"supportmask\"].copy(),data[\"CDI\"][\"supportmask2\"].copy()\n",
    "gamma_p,gamma_n=data[\"CDI_pc\"][\"gamma\"][\"+\"].copy(),data[\"CDI_pc\"][\"gamma\"][\"-\"].copy()\n",
    "prop_dist_pc, phase_pc,dx_pc, dy_pc = data[\"CDI_pc\"][\"focus\"][\"prop_dist\"].copy(),data[\"CDI_pc\"][\"focus\"][\"phase\"].copy(),data[\"CDI_pc\"][\"focus\"][\"dx\"].copy(),data[\"CDI_pc\"][\"focus\"][\"dy\"].copy()\n",
    "prop_dist, phase,dx, dy = data[\"CDI\"][\"focus\"][\"prop_dist\"].copy(),data[\"CDI\"][\"focus\"][\"phase\"].copy(),data[\"CDI\"][\"focus\"][\"dx\"].copy(),data[\"CDI\"][\"focus\"][\"dy\"].copy()\n"
   ]
  }
 ],
 "metadata": {
  "kernelspec": {
   "display_name": "Python 3",
   "language": "python",
   "name": "python3"
  },
  "language_info": {
   "codemirror_mode": {
    "name": "ipython",
    "version": 3
   },
   "file_extension": ".py",
   "mimetype": "text/x-python",
   "name": "python",
   "nbconvert_exporter": "python",
   "pygments_lexer": "ipython3",
   "version": "3.6.7"
  }
 },
 "nbformat": 4,
 "nbformat_minor": 4
}
