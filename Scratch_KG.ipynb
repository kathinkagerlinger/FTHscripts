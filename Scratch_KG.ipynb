{
 "cells": [
  {
   "cell_type": "code",
   "execution_count": 2,
   "metadata": {},
   "outputs": [],
   "source": [
    "import h5py\n",
    "import numpy as np\n",
    "import matplotlib.pyplot as plt"
   ]
  },
  {
   "cell_type": "code",
   "execution_count": 3,
   "metadata": {},
   "outputs": [],
   "source": [
    "%matplotlib widget"
   ]
  },
  {
   "cell_type": "markdown",
   "metadata": {},
   "source": [
    "# Functions"
   ]
  },
  {
   "cell_type": "code",
   "execution_count": 45,
   "metadata": {},
   "outputs": [],
   "source": [
    "def diode_scan(fname, entry_number, motor):\n",
    "    f = h5py.File(fname, 'r')\n",
    "    diode = f[f'entry{entry_number:d}/measurement/diodeA'][()]\n",
    "    motor_val = f[f'entry{entry_number:d}/measurement/{motor:s}'][()]\n",
    "    return (diode, motor_val)"
   ]
  },
  {
   "cell_type": "code",
   "execution_count": 40,
   "metadata": {},
   "outputs": [],
   "source": [
    "def measurement_info(fname, entry_number):\n",
    "    f = h5py.File(fname, 'r')\n",
    "    print(list(f[f'entry{entry_number:d}/measurement'].keys()))\n",
    "    return"
   ]
  },
  {
   "cell_type": "markdown",
   "metadata": {},
   "source": [
    "# Tryout"
   ]
  },
  {
   "cell_type": "code",
   "execution_count": 7,
   "metadata": {},
   "outputs": [],
   "source": [
    "f = h5py.File(r'C:\\Users\\gerlinge\\Documents\\Beamtimes\\2020-06_P04\\raw\\scan_002.h5', 'r')"
   ]
  },
  {
   "cell_type": "code",
   "execution_count": 8,
   "metadata": {},
   "outputs": [
    {
     "data": {
      "text/plain": [
       "['entry1',\n",
       " 'entry2',\n",
       " 'entry3',\n",
       " 'entry4',\n",
       " 'entry5',\n",
       " 'entry6',\n",
       " 'entry7',\n",
       " 'entry8',\n",
       " 'entry9']"
      ]
     },
     "execution_count": 8,
     "metadata": {},
     "output_type": "execute_result"
    }
   ],
   "source": [
    "list(f.keys())"
   ]
  },
  {
   "cell_type": "code",
   "execution_count": 11,
   "metadata": {},
   "outputs": [
    {
     "name": "stdout",
     "output_type": "stream",
     "text": [
      "<KeysViewHDF5 ['definition', 'end_time', 'entry_identifier', 'measurement', 'plot_1', 'program_name', 'start_time', 'title', 'user']>\n",
      "<KeysViewHDF5 ['definition', 'end_time', 'entry_identifier', 'measurement', 'plot_1', 'program_name', 'start_time', 'title', 'user']>\n",
      "<KeysViewHDF5 ['definition', 'end_time', 'entry_identifier', 'measurement', 'plot_1', 'program_name', 'start_time', 'title', 'user']>\n",
      "<KeysViewHDF5 ['definition', 'end_time', 'entry_identifier', 'measurement', 'plot_1', 'program_name', 'start_time', 'title', 'user']>\n",
      "<KeysViewHDF5 ['definition', 'end_time', 'entry_identifier', 'measurement', 'plot_1', 'program_name', 'start_time', 'title', 'user']>\n",
      "<KeysViewHDF5 ['definition', 'end_time', 'entry_identifier', 'measurement', 'plot_1', 'program_name', 'start_time', 'title', 'user']>\n",
      "<KeysViewHDF5 ['definition', 'end_time', 'entry_identifier', 'measurement', 'plot_1', 'program_name', 'start_time', 'title', 'user']>\n",
      "<KeysViewHDF5 ['definition', 'end_time', 'entry_identifier', 'measurement', 'plot_1', 'program_name', 'start_time', 'title', 'user']>\n",
      "<KeysViewHDF5 ['definition', 'end_time', 'entry_identifier', 'measurement', 'plot_1', 'program_name', 'start_time', 'title', 'user']>\n"
     ]
    }
   ],
   "source": [
    "for i in range(1,10):\n",
    "    print((f['entry%i'%i].keys()))"
   ]
  },
  {
   "cell_type": "code",
   "execution_count": 27,
   "metadata": {},
   "outputs": [
    {
     "data": {
      "text/plain": [
       "['Pt_No', 'diodeA', 'dt', 'epoch', 'pre_scan_snapshot', 'sz']"
      ]
     },
     "execution_count": 27,
     "metadata": {},
     "output_type": "execute_result"
    }
   ],
   "source": [
    "list(f['entry7/measurement'].keys())"
   ]
  },
  {
   "cell_type": "code",
   "execution_count": 46,
   "metadata": {},
   "outputs": [],
   "source": [
    "diode, motor = diode_scan(r'C:\\Users\\gerlinge\\Documents\\Beamtimes\\2020-06_P04\\raw\\scan_002.h5', 7, 'sz')"
   ]
  },
  {
   "cell_type": "code",
   "execution_count": 48,
   "metadata": {},
   "outputs": [
    {
     "data": {
      "application/vnd.jupyter.widget-view+json": {
       "model_id": "60b8eb54d14c480f9b38061a20fc3b69",
       "version_major": 2,
       "version_minor": 0
      },
      "text/plain": [
       "Canvas(toolbar=Toolbar(toolitems=[('Home', 'Reset original view', 'home', 'home'), ('Back', 'Back to previous …"
      ]
     },
     "metadata": {},
     "output_type": "display_data"
    },
    {
     "data": {
      "text/plain": [
       "Text(0, 0.5, 'Diode')"
      ]
     },
     "execution_count": 48,
     "metadata": {},
     "output_type": "execute_result"
    }
   ],
   "source": [
    "fig, ax = plt.subplots()\n",
    "ax.plot(motor, diode, 'o')\n",
    "ax.set_xlabel('Motorposition z')\n",
    "ax.set_ylabel('Diode')"
   ]
  },
  {
   "cell_type": "code",
   "execution_count": null,
   "metadata": {},
   "outputs": [],
   "source": []
  }
 ],
 "metadata": {
  "kernelspec": {
   "display_name": "Python 3",
   "language": "python",
   "name": "python3"
  },
  "language_info": {
   "codemirror_mode": {
    "name": "ipython",
    "version": 3
   },
   "file_extension": ".py",
   "mimetype": "text/x-python",
   "name": "python",
   "nbconvert_exporter": "python",
   "pygments_lexer": "ipython3",
   "version": "3.7.4"
  }
 },
 "nbformat": 4,
 "nbformat_minor": 4
}
